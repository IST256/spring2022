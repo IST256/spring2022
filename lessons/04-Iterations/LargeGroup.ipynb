{
 "cells": [
  {
   "cell_type": "markdown",
   "metadata": {},
   "source": [
    "# Code Samples From Large Group\n"
   ]
  },
  {
   "cell_type": "code",
   "execution_count": 3,
   "metadata": {},
   "outputs": [
    {
     "name": "stdout",
     "output_type": "stream",
     "text": [
      "First Time: Enter your password:tony\n",
      "That is not correct! \n",
      "Re Enter your password: bill\n",
      "That is not correct! \n",
      "Re Enter your password: dave\n",
      "That is not correct! \n",
      "Re Enter your password: iojsfgdh\n",
      "That is not correct! \n",
      "Re Enter your password: jklfgdh\n",
      "That is not correct! \n",
      "Re Enter your password: fgdhjkfgd\n",
      "That is not correct! \n",
      "Re Enter your password: \n",
      "That is not correct! \n",
      "Re Enter your password: fgdh\n",
      "That is not correct! \n",
      "Re Enter your password: fdg\n",
      "That is not correct! \n",
      "Re Enter your password: fgdh\n",
      "That is not correct! \n",
      "Re Enter your password: rhubarb\n"
     ]
    }
   ],
   "source": [
    "password = \"rhubarb\"\n",
    "yourpassword = input(\"First Time: Enter your password:\")\n",
    "while yourpassword != password:\n",
    "    print(\"That is not correct! \")\n",
    "    yourpassword = input(\"Re Enter your password: \")\n",
    "    \n",
    "    "
   ]
  },
  {
   "cell_type": "code",
   "execution_count": 4,
   "metadata": {},
   "outputs": [
    {
     "name": "stdout",
     "output_type": "stream",
     "text": [
      "0\n",
      "1\n",
      "2\n",
      "3\n",
      "4\n",
      "5\n",
      "6\n",
      "7\n",
      "8\n",
      "9\n"
     ]
    }
   ],
   "source": [
    "for i in range(10):\n",
    "    print(i)for"
   ]
  },
  {
   "cell_type": "code",
   "execution_count": 5,
   "metadata": {},
   "outputs": [
    {
     "name": "stdout",
     "output_type": "stream",
     "text": [
      "p\n",
      "u\n",
      "m\n",
      "p\n",
      "k\n",
      "i\n",
      "n\n"
     ]
    }
   ],
   "source": [
    "for i in \"pumpkin\":\n",
    "    print(i)"
   ]
  },
  {
   "cell_type": "code",
   "execution_count": 6,
   "metadata": {},
   "outputs": [
    {
     "ename": "TypeError",
     "evalue": "'int' object is not iterable",
     "output_type": "error",
     "traceback": [
      "\u001b[0;31m---------------------------------------------------------------------------\u001b[0m",
      "\u001b[0;31mTypeError\u001b[0m                                 Traceback (most recent call last)",
      "Input \u001b[0;32mIn [6]\u001b[0m, in \u001b[0;36m<module>\u001b[0;34m\u001b[0m\n\u001b[0;32m----> 1\u001b[0m \u001b[38;5;28;01mfor\u001b[39;00m i \u001b[38;5;129;01min\u001b[39;00m \u001b[38;5;241m50\u001b[39m:\n\u001b[1;32m      2\u001b[0m     \u001b[38;5;28mprint\u001b[39m(i)\n",
      "\u001b[0;31mTypeError\u001b[0m: 'int' object is not iterable"
     ]
    }
   ],
   "source": [
    "for i in 50:\n",
    "    print(i)"
   ]
  },
  {
   "cell_type": "code",
   "execution_count": 7,
   "metadata": {},
   "outputs": [
    {
     "name": "stdout",
     "output_type": "stream",
     "text": [
      "p\n",
      "i\n",
      "z\n",
      "z\n",
      "a\n"
     ]
    }
   ],
   "source": [
    "word = \"pizza\"\n",
    "for letter in word:\n",
    "    print(letter)"
   ]
  },
  {
   "cell_type": "code",
   "execution_count": 9,
   "metadata": {},
   "outputs": [
    {
     "name": "stdout",
     "output_type": "stream",
     "text": [
      "Yay!\n",
      "paper\n",
      "scissors\n"
     ]
    }
   ],
   "source": [
    "choices = [\"rock\", \"paper\", \"scissors\"]\n",
    "for choice in choices:\n",
    "    if choice== \"rock\":\n",
    "        print(\"Yay!\")\n",
    "    else:\n",
    "        print(choice)\n",
    "    "
   ]
  },
  {
   "cell_type": "code",
   "execution_count": 10,
   "metadata": {},
   "outputs": [
    {
     "name": "stdout",
     "output_type": "stream",
     "text": [
      "2\n",
      "4\n",
      "6\n",
      "8\n",
      "10\n",
      "12\n",
      "14\n",
      "16\n",
      "18\n",
      "20\n"
     ]
    }
   ],
   "source": [
    "for number in range(2,22,2):\n",
    "    print(number)"
   ]
  },
  {
   "cell_type": "code",
   "execution_count": 14,
   "metadata": {},
   "outputs": [
    {
     "name": "stdout",
     "output_type": "stream",
     "text": [
      "Enter number for your mult. table: 5\n",
      "Number of multpipliers: 20\n",
      "0 X 5 = 0\n",
      "1 X 5 = 5\n",
      "2 X 5 = 10\n",
      "3 X 5 = 15\n",
      "4 X 5 = 20\n",
      "5 X 5 = 25\n",
      "6 X 5 = 30\n",
      "7 X 5 = 35\n",
      "8 X 5 = 40\n",
      "9 X 5 = 45\n",
      "10 X 5 = 50\n",
      "11 X 5 = 55\n",
      "12 X 5 = 60\n",
      "13 X 5 = 65\n",
      "14 X 5 = 70\n",
      "15 X 5 = 75\n",
      "16 X 5 = 80\n",
      "17 X 5 = 85\n",
      "18 X 5 = 90\n",
      "19 X 5 = 95\n"
     ]
    }
   ],
   "source": [
    "number = int(input(\"Enter number for your mult. table: \"))\n",
    "plippers = int(input(\"Number of multpipliers: \"))\n",
    "for i in range(plippers):\n",
    "    product = i * number\n",
    "    print(f\"{i} X {number} = {product}\")"
   ]
  },
  {
   "cell_type": "code",
   "execution_count": null,
   "metadata": {},
   "outputs": [],
   "source": [
    "# count the number of vowels in a word\n",
    "# word\n",
    "# output: number of vowels\n",
    "\n",
    "\n",
    "\n",
    "\"mike\" --> 2\n",
    "\"try\" --> 0\n",
    "\"pig\" --> 1\n",
    "\n",
    "\n",
    " input a word\n",
    " for each letter in the word\n",
    "     if word is a vowel\n",
    "        increment vowel count\n"
   ]
  },
  {
   "cell_type": "code",
   "execution_count": 24,
   "metadata": {},
   "outputs": [
    {
     "name": "stdout",
     "output_type": "stream",
     "text": [
      "pig has 1 vowels\n"
     ]
    }
   ],
   "source": [
    "word = \"pig\"\n",
    "vowels = 0\n",
    "for letter in word:\n",
    "    if letter == 'a' or letter == 'e' or letter =='i' or letter == 'o' or letter=='u':\n",
    "        vowels = vowels + 1\n",
    "\n",
    "print(f\"{word} has {vowels} vowels\")"
   ]
  },
  {
   "cell_type": "code",
   "execution_count": 20,
   "metadata": {},
   "outputs": [
    {
     "name": "stdout",
     "output_type": "stream",
     "text": [
      "Enter a word: mississpippi\n",
      "mississpippi has 4 vowels\n"
     ]
    }
   ],
   "source": [
    "word = input(\"Enter a word: \")\n",
    "vowels = 0\n",
    "for letter in word:\n",
    "    if letter == 'a' or letter == 'e' or letter =='i' or letter == 'o' or letter=='u':\n",
    "        vowels = vowels + 1\n",
    "\n",
    "print(f\"{word} has {vowels} vowels\")"
   ]
  },
  {
   "cell_type": "code",
   "execution_count": null,
   "metadata": {},
   "outputs": [],
   "source": [
    "word = input(\"Enter a word: \")\n",
    "vowels = 0\n",
    "for letter in word:\n",
    "    if letter == 'a' or letter == 'e' or letter =='i' or letter == 'o' or letter=='u':\n",
    "        vowels = vowels + 1\n",
    "\n",
    "print(f\"{word} has {vowels} vowels\")\n"
   ]
  },
  {
   "cell_type": "code",
   "execution_count": 21,
   "metadata": {},
   "outputs": [
    {
     "name": "stdout",
     "output_type": "stream",
     "text": [
      "Enter a word, or just press ENTER to stop:frog\n",
      "Enter a word, or just press ENTER to stop:pig\n",
      "Enter a word, or just press ENTER to stop:\n"
     ]
    }
   ],
   "source": [
    "# any sentinel loop\n",
    "while True:\n",
    "    word = input(\"Enter a word, or just press ENTER to stop:\")\n",
    "    if word == \"\":\n",
    "        break\n",
    "        \n",
    "    # the work....\n",
    "        \n",
    "        "
   ]
  },
  {
   "cell_type": "code",
   "execution_count": 22,
   "metadata": {},
   "outputs": [
    {
     "name": "stdout",
     "output_type": "stream",
     "text": [
      "Enter a word, or just press ENTER to stop:pig\n",
      "pig has 1 vowels\n",
      "Enter a word, or just press ENTER to stop:hope\n",
      "hope has 2 vowels\n",
      "Enter a word, or just press ENTER to stop:i love valentines day and yoga\n",
      "i love valentines day and yoga has 11 vowels\n",
      "Enter a word, or just press ENTER to stop:\n"
     ]
    }
   ],
   "source": [
    "while True:\n",
    "    word = input(\"Enter a word, or just press ENTER to stop:\")\n",
    "    if word == \"\":\n",
    "        break\n",
    "        \n",
    "    vowels = 0\n",
    "    for letter in word:\n",
    "        if letter == 'a' or letter == 'e' or letter =='i' or letter == 'o' or letter=='u':\n",
    "            vowels = vowels + 1\n",
    "\n",
    "    print(f\"{word} has {vowels} vowels\")"
   ]
  },
  {
   "cell_type": "code",
   "execution_count": null,
   "metadata": {},
   "outputs": [],
   "source": []
  }
 ],
 "metadata": {
  "kernelspec": {
   "display_name": "Python 3 (ipykernel)",
   "language": "python",
   "name": "python3"
  },
  "language_info": {
   "codemirror_mode": {
    "name": "ipython",
    "version": 3
   },
   "file_extension": ".py",
   "mimetype": "text/x-python",
   "name": "python",
   "nbconvert_exporter": "python",
   "pygments_lexer": "ipython3",
   "version": "3.9.7"
  },
  "varInspector": {
   "cols": {
    "lenName": 16,
    "lenType": 16,
    "lenVar": 40
   },
   "kernels_config": {
    "python": {
     "delete_cmd_postfix": "",
     "delete_cmd_prefix": "del ",
     "library": "var_list.py",
     "varRefreshCmd": "print(var_dic_list())"
    },
    "r": {
     "delete_cmd_postfix": ") ",
     "delete_cmd_prefix": "rm(",
     "library": "var_list.r",
     "varRefreshCmd": "cat(var_dic_list()) "
    }
   },
   "types_to_exclude": [
    "module",
    "function",
    "builtin_function_or_method",
    "instance",
    "_Feature"
   ],
   "window_display": false
  }
 },
 "nbformat": 4,
 "nbformat_minor": 4
}
