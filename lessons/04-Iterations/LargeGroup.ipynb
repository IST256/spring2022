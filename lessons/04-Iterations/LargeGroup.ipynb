{
 "cells": [
  {
   "cell_type": "markdown",
   "metadata": {},
   "source": [
    "# Code Samples From Large Group\n"
   ]
  },
  {
   "cell_type": "code",
   "execution_count": 4,
   "metadata": {},
   "outputs": [
    {
     "name": "stdout",
     "output_type": "stream",
     "text": [
      "1 Bob\n",
      "2 Bob\n",
      "3 Bob\n",
      "4 Bob\n",
      "5 Bob\n",
      "6 Bob\n",
      "7 Bob\n",
      "8 Bob\n",
      "9 Bob\n",
      "10 Bob\n"
     ]
    }
   ],
   "source": [
    "name= \"Bob\"\n",
    "times = 10\n",
    "number = 1\n",
    "while number <= times:\n",
    "    print(number,name)\n",
    "    number = number +1\n",
    "    "
   ]
  },
  {
   "cell_type": "code",
   "execution_count": 7,
   "metadata": {},
   "outputs": [
    {
     "name": "stdout",
     "output_type": "stream",
     "text": [
      "0 Bob\n",
      "1 Bob\n",
      "2 Bob\n",
      "3 Bob\n",
      "4 Bob\n",
      "5 Bob\n",
      "6 Bob\n",
      "7 Bob\n",
      "8 Bob\n",
      "9 Bob\n"
     ]
    }
   ],
   "source": [
    "for number in range(times):\n",
    "    print(number, name)"
   ]
  },
  {
   "cell_type": "code",
   "execution_count": 8,
   "metadata": {},
   "outputs": [
    {
     "name": "stdout",
     "output_type": "stream",
     "text": [
      "1 Bob\n",
      "2 Bob\n",
      "3 Bob\n",
      "4 Bob\n",
      "5 Bob\n",
      "6 Bob\n",
      "7 Bob\n",
      "8 Bob\n",
      "9 Bob\n",
      "10 Bob\n"
     ]
    }
   ],
   "source": [
    "times = 10\n",
    "for number in range(1, times+1):\n",
    "    print(number, name)"
   ]
  },
  {
   "cell_type": "code",
   "execution_count": 9,
   "metadata": {},
   "outputs": [
    {
     "name": "stdout",
     "output_type": "stream",
     "text": [
      "b\n",
      "i\n",
      "r\n",
      "d\n"
     ]
    }
   ],
   "source": [
    "word = \"bird\"\n",
    "for letter in word:\n",
    "    print(letter)\n",
    "    "
   ]
  },
  {
   "cell_type": "code",
   "execution_count": 10,
   "metadata": {},
   "outputs": [
    {
     "name": "stdout",
     "output_type": "stream",
     "text": [
      "t\n",
      "h\n",
      "i\n",
      "s\n",
      " \n",
      "i\n",
      "s\n",
      " \n",
      "s\n",
      "o\n",
      " \n",
      "m\n",
      "u\n",
      "c\n",
      "h\n",
      " \n",
      "f\n",
      "u\n",
      "n\n"
     ]
    }
   ],
   "source": [
    "sentence = \"this is so much fun\"\n",
    "for word in sentence:\n",
    "    print(word)"
   ]
  },
  {
   "cell_type": "code",
   "execution_count": 11,
   "metadata": {},
   "outputs": [
    {
     "name": "stdout",
     "output_type": "stream",
     "text": [
      "this\n",
      "is\n",
      "so\n",
      "much\n",
      "fun\n"
     ]
    }
   ],
   "source": [
    "sentence = \"this is so much fun\"\n",
    "for word in sentence.split(\" \"):\n",
    "    print(word)"
   ]
  },
  {
   "cell_type": "code",
   "execution_count": 12,
   "metadata": {},
   "outputs": [
    {
     "name": "stdout",
     "output_type": "stream",
     "text": [
      "Enter password: sjkldahfsjkda\n",
      "bad password, try again\n",
      "Enter your password: uklwreythluk\n",
      "bad password, try again\n",
      "Enter your password: fdasgsfda\n",
      "bad password, try again\n",
      "Enter your password: sadg\n",
      "bad password, try again\n",
      "Enter your password: sdagg\n",
      "bad password, try again\n",
      "Enter your password: sdag\n",
      "bad password, try again\n",
      "Enter your password: sgda\n",
      "bad password, try again\n",
      "Enter your password: sgda\n",
      "bad password, try again\n",
      "Enter your password: fghda\n",
      "bad password, try again\n",
      "Enter your password: sfdgh\n",
      "bad password, try again\n",
      "Enter your password: sfdh\n",
      "bad password, try again\n",
      "Enter your password: sfdagg\n",
      "bad password, try again\n",
      "Enter your password: sfdag\n",
      "bad password, try again\n",
      "Enter your password: fhdasfdag\n",
      "bad password, try again\n",
      "Enter your password: sfhda\n",
      "bad password, try again\n",
      "Enter your password: fdh\n",
      "bad password, try again\n",
      "Enter your password: dfh\n",
      "bad password, try again\n",
      "Enter your password: fdah\n",
      "bad password, try again\n",
      "Enter your password: fdgh\n",
      "bad password, try again\n",
      "Enter your password: sfgdag\n",
      "bad password, try again\n",
      "Enter your password: sfgda\n",
      "bad password, try again\n",
      "Enter your password: dsfg\n",
      "bad password, try again\n",
      "Enter your password: sfdh\n",
      "bad password, try again\n",
      "Enter your password: sfdhag\n",
      "bad password, try again\n",
      "Enter your password: sfgda\n",
      "bad password, try again\n",
      "Enter your password: fdh\n",
      "bad password, try again\n",
      "Enter your password: erh\n",
      "bad password, try again\n",
      "Enter your password: fd\n",
      "bad password, try again\n",
      "Enter your password: sfhda\n",
      "bad password, try again\n",
      "Enter your password: sfgda\n",
      "bad password, try again\n",
      "Enter your password: sfd\n",
      "bad password, try again\n",
      "Enter your password: \n",
      "bad password, try again\n",
      "Enter your password: sfdag\n",
      "bad password, try again\n",
      "Enter your password: sfhda\n",
      "bad password, try again\n",
      "Enter your password: dfshg\n",
      "bad password, try again\n",
      "Enter your password: sfdh\n",
      "bad password, try again\n",
      "Enter your password: fdah\n",
      "bad password, try again\n",
      "Enter your password: fdah\n",
      "bad password, try again\n",
      "Enter your password: fds\n",
      "bad password, try again\n",
      "Enter your password: snake\n"
     ]
    }
   ],
   "source": [
    "password = 'snake'\n",
    "yourpassword = input(\"Enter password: \")\n",
    "while yourpassword != password:\n",
    "    print(\"bad password, try again\")\n",
    "    yourpassword = input(\"Enter your password: \")"
   ]
  },
  {
   "cell_type": "code",
   "execution_count": 15,
   "metadata": {},
   "outputs": [
    {
     "name": "stdout",
     "output_type": "stream",
     "text": [
      "Enter your password: sjkdafgh\n",
      "bad password, try again\n",
      "Enter your password: Snake\n",
      "bad password, try again\n",
      "Enter your password: snake\n",
      "bad password, try again\n"
     ]
    }
   ],
   "source": [
    "password = 'snake'\n",
    "yourpassword = None \n",
    "while yourpassword != password:\n",
    "    yourpassword = input(\"Enter your password: \")\n",
    "    print(\"bad password, try again\")\n"
   ]
  },
  {
   "cell_type": "code",
   "execution_count": 16,
   "metadata": {},
   "outputs": [
    {
     "name": "stdout",
     "output_type": "stream",
     "text": [
      "Enter Your Password: sfdaghf\n",
      "Bad password, try again.\n",
      "Enter Your Password: shkdagf\n",
      "Bad password, try again.\n",
      "Enter Your Password: snake\n"
     ]
    }
   ],
   "source": [
    "password = \"snake\"\n",
    "while True:\n",
    "    yourpassword = input(\"Enter Your Password: \")\n",
    "    if password == yourpassword:\n",
    "        break\n",
    "    print(\"Bad password, try again.\")"
   ]
  },
  {
   "cell_type": "markdown",
   "metadata": {},
   "source": [
    "```\n",
    "5 attempts for the password\n",
    "On correct password, print: “Access Granted”, then end the program\n",
    "On incorrect password “Invalid Password Attempt #” and give the user another try\n",
    "After 5 attempts, print “You are locked out”. Then end the program.\n",
    "```\n",
    "\n",
    "\n",
    "```\n",
    "INPUT: attempted password\n",
    "OUTPUT: \n",
    "    if password is correct then \"access granted\"\n",
    "    else Invalid password attempt # 1\n",
    "    \n",
    "ALGORITHM\n",
    "\n",
    "    repeat 5 times:\n",
    "        input password\n",
    "        if password is correct then \"access granted\"\n",
    "        else Invalid password attempt # 1\n",
    "```"
   ]
  },
  {
   "cell_type": "code",
   "execution_count": 25,
   "metadata": {},
   "outputs": [
    {
     "name": "stdout",
     "output_type": "stream",
     "text": [
      "Enter Passwordsg\n",
      "Enter Passwordfewgh\n",
      "Enter Passwordgwer\n",
      "Enter Passwordewry\n",
      "Enter Passwordre\n",
      "You are locked\n"
     ]
    }
   ],
   "source": [
    "max_attempts = 5\n",
    "correct_password = \"pizza\"\n",
    "for attempts in range(1,max_attempts+1):\n",
    "    password = input(\"Enter Password\")\n",
    "    if password == correct_password:\n",
    "        print(\"Access Granted\")\n",
    "        break\n",
    "    else:\n",
    "        print(f\"Invalid password # {attempts}\")\n",
    "\n",
    "if attempts == max_attempts:\n",
    "    print(\"You are locked\")"
   ]
  },
  {
   "cell_type": "code",
   "execution_count": null,
   "metadata": {},
   "outputs": [],
   "source": []
  }
 ],
 "metadata": {
  "kernelspec": {
   "display_name": "Python 3 (ipykernel)",
   "language": "python",
   "name": "python3"
  },
  "language_info": {
   "codemirror_mode": {
    "name": "ipython",
    "version": 3
   },
   "file_extension": ".py",
   "mimetype": "text/x-python",
   "name": "python",
   "nbconvert_exporter": "python",
   "pygments_lexer": "ipython3",
   "version": "3.9.6"
  },
  "varInspector": {
   "cols": {
    "lenName": 16,
    "lenType": 16,
    "lenVar": 40
   },
   "kernels_config": {
    "python": {
     "delete_cmd_postfix": "",
     "delete_cmd_prefix": "del ",
     "library": "var_list.py",
     "varRefreshCmd": "print(var_dic_list())"
    },
    "r": {
     "delete_cmd_postfix": ") ",
     "delete_cmd_prefix": "rm(",
     "library": "var_list.r",
     "varRefreshCmd": "cat(var_dic_list()) "
    }
   },
   "types_to_exclude": [
    "module",
    "function",
    "builtin_function_or_method",
    "instance",
    "_Feature"
   ],
   "window_display": false
  }
 },
 "nbformat": 4,
 "nbformat_minor": 4
}
