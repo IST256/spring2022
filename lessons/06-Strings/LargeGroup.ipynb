{
 "cells": [
  {
   "cell_type": "markdown",
   "metadata": {},
   "source": [
    "# Code Samples From Large Group\n"
   ]
  },
  {
   "cell_type": "code",
   "execution_count": 11,
   "metadata": {},
   "outputs": [
    {
     "data": {
      "application/vnd.jupyter.widget-view+json": {
       "model_id": "a8ed06012ba447078a1d2ac3d9df07ea",
       "version_major": 2,
       "version_minor": 0
      },
      "text/plain": [
       "interactive(children=(Text(value='', description='name'), IntSlider(value=57, description='age', max=99, min=1…"
      ]
     },
     "metadata": {},
     "output_type": "display_data"
    }
   ],
   "source": [
    "from IPython.display import display, HTML # output\n",
    "from ipywidgets import interact_manual # input\n",
    "\n",
    "@interact_manual(name=\"\", age=(15,99), ischool=False)\n",
    "def onclick(name,age,ischool):\n",
    "    display(HTML(f\"Hello {name} who is {age} years old\"))\n",
    "    if ischool:\n",
    "        display(\"Welcome to the ischool!\")"
   ]
  },
  {
   "cell_type": "code",
   "execution_count": 8,
   "metadata": {},
   "outputs": [
    {
     "data": {
      "text/html": [
       "\n",
       "                <audio  controls=\"controls\" >\n",
       "                    <source src=\"data:audio/mpeg;base64,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\" type=\"audio/mpeg\" />\n",
       "                    Your browser does not support the audio element.\n",
       "                </audio>\n",
       "              "
      ],
      "text/plain": [
       "<IPython.lib.display.Audio object>"
      ]
     },
     "metadata": {},
     "output_type": "display_data"
    }
   ],
   "source": [
    "from IPython.display import Image, Audio\n",
    "\n",
    "\n",
    "display(Audio(filename=\"demo.mp3\"))\n"
   ]
  },
  {
   "cell_type": "code",
   "execution_count": 9,
   "metadata": {},
   "outputs": [
    {
     "data": {
      "text/html": [
       "<img src=\"https://upload.wikimedia.org/wikipedia/commons/thumb/a/a3/Eq_it-na_pizza-margherita_sep2005_sml.jpg/220px-Eq_it-na_pizza-margherita_sep2005_sml.jpg\"/>"
      ],
      "text/plain": [
       "<IPython.core.display.Image object>"
      ]
     },
     "metadata": {},
     "output_type": "display_data"
    }
   ],
   "source": [
    "image= \"https://upload.wikimedia.org/wikipedia/commons/thumb/a/a3/Eq_it-na_pizza-margherita_sep2005_sml.jpg/220px-Eq_it-na_pizza-margherita_sep2005_sml.jpg\"\n",
    "display(Image(url=image))"
   ]
  },
  {
   "cell_type": "code",
   "execution_count": 12,
   "metadata": {},
   "outputs": [
    {
     "ename": "TypeError",
     "evalue": "'str' object does not support item assignment",
     "output_type": "error",
     "traceback": [
      "\u001b[0;31m---------------------------------------------------------------------------\u001b[0m",
      "\u001b[0;31mTypeError\u001b[0m                                 Traceback (most recent call last)",
      "Input \u001b[0;32mIn [12]\u001b[0m, in \u001b[0;36m<module>\u001b[0;34m\u001b[0m\n\u001b[1;32m      1\u001b[0m name \u001b[38;5;241m=\u001b[39m \u001b[38;5;124m\"\u001b[39m\u001b[38;5;124mMike\u001b[39m\u001b[38;5;124m\"\u001b[39m\n\u001b[0;32m----> 3\u001b[0m name[\u001b[38;5;241m4\u001b[39m] \u001b[38;5;241m=\u001b[39m\u001b[38;5;124m\"\u001b[39m\u001b[38;5;124my\u001b[39m\u001b[38;5;124m\"\u001b[39m\n",
      "\u001b[0;31mTypeError\u001b[0m: 'str' object does not support item assignment"
     ]
    }
   ],
   "source": [
    "name = \"Mike\"\n",
    "\n",
    "name[4] =\"y\""
   ]
  },
  {
   "cell_type": "code",
   "execution_count": 13,
   "metadata": {},
   "outputs": [],
   "source": [
    "name = \"Mikey\""
   ]
  },
  {
   "cell_type": "code",
   "execution_count": 14,
   "metadata": {},
   "outputs": [
    {
     "data": {
      "text/plain": [
       "'i'"
      ]
     },
     "execution_count": 14,
     "metadata": {},
     "output_type": "execute_result"
    }
   ],
   "source": [
    "name[1]"
   ]
  },
  {
   "cell_type": "code",
   "execution_count": 15,
   "metadata": {},
   "outputs": [
    {
     "data": {
      "text/plain": [
       "'M'"
      ]
     },
     "execution_count": 15,
     "metadata": {},
     "output_type": "execute_result"
    }
   ],
   "source": [
    "name[0]"
   ]
  },
  {
   "cell_type": "code",
   "execution_count": 16,
   "metadata": {},
   "outputs": [
    {
     "data": {
      "text/plain": [
       "'s'"
      ]
     },
     "execution_count": 16,
     "metadata": {},
     "output_type": "execute_result"
    }
   ],
   "source": [
    "name = \"allison\"\n",
    "name[4]"
   ]
  },
  {
   "cell_type": "code",
   "execution_count": 17,
   "metadata": {},
   "outputs": [
    {
     "data": {
      "text/plain": [
       "'ll'"
      ]
     },
     "execution_count": 17,
     "metadata": {},
     "output_type": "execute_result"
    }
   ],
   "source": [
    "name[1:3]"
   ]
  },
  {
   "cell_type": "code",
   "execution_count": 19,
   "metadata": {},
   "outputs": [
    {
     "data": {
      "text/plain": [
       "'a'"
      ]
     },
     "execution_count": 19,
     "metadata": {},
     "output_type": "execute_result"
    }
   ],
   "source": [
    "name = \"michael\"\n",
    "name[4:5]"
   ]
  },
  {
   "cell_type": "code",
   "execution_count": 20,
   "metadata": {},
   "outputs": [
    {
     "data": {
      "text/plain": [
       "'mic'"
      ]
     },
     "execution_count": 20,
     "metadata": {},
     "output_type": "execute_result"
    }
   ],
   "source": [
    "name[0:3]"
   ]
  },
  {
   "cell_type": "code",
   "execution_count": 21,
   "metadata": {},
   "outputs": [
    {
     "data": {
      "text/plain": [
       "'hael'"
      ]
     },
     "execution_count": 21,
     "metadata": {},
     "output_type": "execute_result"
    }
   ],
   "source": [
    "name[3:]"
   ]
  },
  {
   "cell_type": "code",
   "execution_count": 22,
   "metadata": {},
   "outputs": [
    {
     "data": {
      "text/plain": [
       "'pete'"
      ]
     },
     "execution_count": 22,
     "metadata": {},
     "output_type": "execute_result"
    }
   ],
   "source": [
    "name = \"peters\"\n",
    "name[:4]"
   ]
  },
  {
   "cell_type": "code",
   "execution_count": 23,
   "metadata": {},
   "outputs": [
    {
     "data": {
      "text/plain": [
       "['__add__',\n",
       " '__class__',\n",
       " '__contains__',\n",
       " '__delattr__',\n",
       " '__dir__',\n",
       " '__doc__',\n",
       " '__eq__',\n",
       " '__format__',\n",
       " '__ge__',\n",
       " '__getattribute__',\n",
       " '__getitem__',\n",
       " '__getnewargs__',\n",
       " '__gt__',\n",
       " '__hash__',\n",
       " '__init__',\n",
       " '__init_subclass__',\n",
       " '__iter__',\n",
       " '__le__',\n",
       " '__len__',\n",
       " '__lt__',\n",
       " '__mod__',\n",
       " '__mul__',\n",
       " '__ne__',\n",
       " '__new__',\n",
       " '__reduce__',\n",
       " '__reduce_ex__',\n",
       " '__repr__',\n",
       " '__rmod__',\n",
       " '__rmul__',\n",
       " '__setattr__',\n",
       " '__sizeof__',\n",
       " '__str__',\n",
       " '__subclasshook__',\n",
       " 'capitalize',\n",
       " 'casefold',\n",
       " 'center',\n",
       " 'count',\n",
       " 'encode',\n",
       " 'endswith',\n",
       " 'expandtabs',\n",
       " 'find',\n",
       " 'format',\n",
       " 'format_map',\n",
       " 'index',\n",
       " 'isalnum',\n",
       " 'isalpha',\n",
       " 'isascii',\n",
       " 'isdecimal',\n",
       " 'isdigit',\n",
       " 'isidentifier',\n",
       " 'islower',\n",
       " 'isnumeric',\n",
       " 'isprintable',\n",
       " 'isspace',\n",
       " 'istitle',\n",
       " 'isupper',\n",
       " 'join',\n",
       " 'ljust',\n",
       " 'lower',\n",
       " 'lstrip',\n",
       " 'maketrans',\n",
       " 'partition',\n",
       " 'removeprefix',\n",
       " 'removesuffix',\n",
       " 'replace',\n",
       " 'rfind',\n",
       " 'rindex',\n",
       " 'rjust',\n",
       " 'rpartition',\n",
       " 'rsplit',\n",
       " 'rstrip',\n",
       " 'split',\n",
       " 'splitlines',\n",
       " 'startswith',\n",
       " 'strip',\n",
       " 'swapcase',\n",
       " 'title',\n",
       " 'translate',\n",
       " 'upper',\n",
       " 'zfill']"
      ]
     },
     "execution_count": 23,
     "metadata": {},
     "output_type": "execute_result"
    }
   ],
   "source": [
    "dir(name)"
   ]
  },
  {
   "cell_type": "code",
   "execution_count": 24,
   "metadata": {},
   "outputs": [
    {
     "name": "stdout",
     "output_type": "stream",
     "text": [
      "Help on built-in function startswith:\n",
      "\n",
      "startswith(...) method of builtins.str instance\n",
      "    S.startswith(prefix[, start[, end]]) -> bool\n",
      "    \n",
      "    Return True if S starts with the specified prefix, False otherwise.\n",
      "    With optional start, test S beginning at that position.\n",
      "    With optional end, stop comparing S at that position.\n",
      "    prefix can also be a tuple of strings to try.\n",
      "\n"
     ]
    }
   ],
   "source": [
    "help(name.startswith)"
   ]
  },
  {
   "cell_type": "code",
   "execution_count": 25,
   "metadata": {},
   "outputs": [
    {
     "data": {
      "text/plain": [
       "True"
      ]
     },
     "execution_count": 25,
     "metadata": {},
     "output_type": "execute_result"
    }
   ],
   "source": [
    "\"peter\".startswith(\"pe\")"
   ]
  },
  {
   "cell_type": "code",
   "execution_count": 26,
   "metadata": {},
   "outputs": [
    {
     "data": {
      "text/plain": [
       "False"
      ]
     },
     "execution_count": 26,
     "metadata": {},
     "output_type": "execute_result"
    }
   ],
   "source": [
    "\"pedro\".startswith(\"ed\")"
   ]
  },
  {
   "cell_type": "code",
   "execution_count": 29,
   "metadata": {},
   "outputs": [
    {
     "data": {
      "text/plain": [
       "2"
      ]
     },
     "execution_count": 29,
     "metadata": {},
     "output_type": "execute_result"
    }
   ],
   "source": [
    "\"pedro\".find(\"dro\")"
   ]
  },
  {
   "cell_type": "code",
   "execution_count": 30,
   "metadata": {},
   "outputs": [
    {
     "name": "stdout",
     "output_type": "stream",
     "text": [
      "Help on built-in function find:\n",
      "\n",
      "find(...) method of builtins.str instance\n",
      "    S.find(sub[, start[, end]]) -> int\n",
      "    \n",
      "    Return the lowest index in S where substring sub is found,\n",
      "    such that sub is contained within S[start:end].  Optional\n",
      "    arguments start and end are interpreted as in slice notation.\n",
      "    \n",
      "    Return -1 on failure.\n",
      "\n"
     ]
    }
   ],
   "source": [
    "help(\"\".find)"
   ]
  },
  {
   "cell_type": "code",
   "execution_count": 31,
   "metadata": {},
   "outputs": [
    {
     "data": {
      "text/plain": [
       "-1"
      ]
     },
     "execution_count": 31,
     "metadata": {},
     "output_type": "execute_result"
    }
   ],
   "source": [
    "\"sally\".find(\"t\")"
   ]
  },
  {
   "cell_type": "code",
   "execution_count": 39,
   "metadata": {},
   "outputs": [],
   "source": [
    "def hasvowel(word):\n",
    "    vowels = \"aeuio\"\n",
    "    for vowel in vowels:\n",
    "        if word.find(vowel) != -1:            \n",
    "            return True\n",
    "    \n",
    "    return False\n",
    "    "
   ]
  },
  {
   "cell_type": "code",
   "execution_count": 44,
   "metadata": {},
   "outputs": [],
   "source": [
    "assert hasvowel(\"bad\")==True\n",
    "assert hasvowel(\"pig\")==True\n",
    "assert hasvowel(\"bee\")==True\n",
    "assert hasvowel(\"you\")==True\n",
    "assert hasvowel(\"ute\")==True\n",
    "assert hasvowel(\"fly\")==False\n"
   ]
  },
  {
   "cell_type": "code",
   "execution_count": 41,
   "metadata": {},
   "outputs": [
    {
     "data": {
      "text/plain": [
       "False"
      ]
     },
     "execution_count": 41,
     "metadata": {},
     "output_type": "execute_result"
    }
   ],
   "source": [
    "hasvowel(\"rrrrrrrrrrrrr\")"
   ]
  },
  {
   "cell_type": "code",
   "execution_count": 45,
   "metadata": {},
   "outputs": [
    {
     "data": {
      "text/plain": [
       "'m-ss-s'"
      ]
     },
     "execution_count": 45,
     "metadata": {},
     "output_type": "execute_result"
    }
   ],
   "source": [
    "x = \"mississippi\"\n",
    "\n",
    "x.replace(\"i\",\"-\")[:6]"
   ]
  },
  {
   "cell_type": "code",
   "execution_count": 47,
   "metadata": {},
   "outputs": [
    {
     "name": "stdout",
     "output_type": "stream",
     "text": [
      "this\n",
      "is\n",
      "a\n",
      "message\n"
     ]
    }
   ],
   "source": [
    "message = \"this is a message\"\n",
    "for x in message.split(\" \"):\n",
    "    print(x)"
   ]
  },
  {
   "cell_type": "code",
   "execution_count": 49,
   "metadata": {},
   "outputs": [
    {
     "name": "stdout",
     "output_type": "stream",
     "text": [
      "Enter a tweet:This is #fun for #nerds\n",
      "Hashtag #fun\n",
      "Hashtag #nerds\n"
     ]
    }
   ],
   "source": [
    "tweet = input(\"Enter a tweet:\")\n",
    "for word in tweet.split():\n",
    "    if word.startswith(\"#\"):\n",
    "        print(f\"Hashtag {word}\")"
   ]
  },
  {
   "cell_type": "code",
   "execution_count": null,
   "metadata": {},
   "outputs": [],
   "source": []
  }
 ],
 "metadata": {
  "kernelspec": {
   "display_name": "Python 3 (ipykernel)",
   "language": "python",
   "name": "python3"
  },
  "language_info": {
   "codemirror_mode": {
    "name": "ipython",
    "version": 3
   },
   "file_extension": ".py",
   "mimetype": "text/x-python",
   "name": "python",
   "nbconvert_exporter": "python",
   "pygments_lexer": "ipython3",
   "version": "3.9.7"
  },
  "varInspector": {
   "cols": {
    "lenName": 16,
    "lenType": 16,
    "lenVar": 40
   },
   "kernels_config": {
    "python": {
     "delete_cmd_postfix": "",
     "delete_cmd_prefix": "del ",
     "library": "var_list.py",
     "varRefreshCmd": "print(var_dic_list())"
    },
    "r": {
     "delete_cmd_postfix": ") ",
     "delete_cmd_prefix": "rm(",
     "library": "var_list.r",
     "varRefreshCmd": "cat(var_dic_list()) "
    }
   },
   "types_to_exclude": [
    "module",
    "function",
    "builtin_function_or_method",
    "instance",
    "_Feature"
   ],
   "window_display": false
  }
 },
 "nbformat": 4,
 "nbformat_minor": 4
}
