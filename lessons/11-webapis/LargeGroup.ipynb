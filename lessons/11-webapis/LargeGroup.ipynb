{
 "cells": [
  {
   "cell_type": "markdown",
   "metadata": {},
   "source": [
    "# Code Samples From Large Group\n"
   ]
  },
  {
   "cell_type": "code",
   "execution_count": 1,
   "metadata": {},
   "outputs": [],
   "source": [
    "# GET https:/api.fixer.io/latest\n",
    "import requests\n",
    "url = \"http://data.fixer.io/api/latest?access_key=5132c79d9d15b0c42d375fec95c6f7aa\"\n",
    "response = requests.get(url)\n",
    "response.raise_for_status()\n",
    "rates = response.json()\n"
   ]
  },
  {
   "cell_type": "code",
   "execution_count": 11,
   "metadata": {},
   "outputs": [
    {
     "data": {
      "text/plain": [
       "1.088222"
      ]
     },
     "execution_count": 11,
     "metadata": {},
     "output_type": "execute_result"
    }
   ],
   "source": [
    "rates['rates']['USD']"
   ]
  },
  {
   "cell_type": "code",
   "execution_count": 18,
   "metadata": {},
   "outputs": [
    {
     "data": {
      "application/vnd.jupyter.widget-view+json": {
       "model_id": "160ad0cce2a843a4a311106fafed732a",
       "version_major": 2,
       "version_minor": 0
      },
      "text/plain": [
       "interactive(children=(Dropdown(description='country', options=('AED', 'AFN', 'ALL', 'AMD', 'ANG', 'AOA', 'ARS'…"
      ]
     },
     "metadata": {},
     "output_type": "display_data"
    }
   ],
   "source": [
    "from ipywidgets import interact\n",
    "\n",
    "countries = list(rates['rates'].keys())\n",
    "\n",
    "@interact(country=countries)\n",
    "def onclick(country):\n",
    "    exchange = rates['rates'][country]\n",
    "    print(f\"One euro is {exchange} {country}\")"
   ]
  },
  {
   "cell_type": "code",
   "execution_count": 17,
   "metadata": {},
   "outputs": [
    {
     "ename": "NameError",
     "evalue": "name 'country' is not defined",
     "output_type": "error",
     "traceback": [
      "\u001b[0;31m---------------------------------------------------------------------------\u001b[0m",
      "\u001b[0;31mNameError\u001b[0m                                 Traceback (most recent call last)",
      "Input \u001b[0;32mIn [17]\u001b[0m, in \u001b[0;36m<module>\u001b[0;34m\u001b[0m\n\u001b[0;32m----> 1\u001b[0m rates[\u001b[38;5;124m'\u001b[39m\u001b[38;5;124mrates\u001b[39m\u001b[38;5;124m'\u001b[39m][\u001b[43mcountry\u001b[49m]\n",
      "\u001b[0;31mNameError\u001b[0m: name 'country' is not defined"
     ]
    }
   ],
   "source": [
    "rates['rates'][country]"
   ]
  },
  {
   "cell_type": "code",
   "execution_count": null,
   "metadata": {},
   "outputs": [
    {
     "name": "stdout",
     "output_type": "stream",
     "text": [
      "Money to convert in USD: 50\n"
     ]
    }
   ],
   "source": [
    "'''\n",
    "http://data.fixer.io/api/convert\n",
    "    ? access_key = API_KEY\n",
    "    & from = GBP\n",
    "    & to = JPY\n",
    "    & amount = 25\n",
    "'''\n",
    "money = int(input(\"Money to convert in USD: \"))\n",
    "url = \"http://data.fixer.io/api/convert\"\n",
    "params = { \n",
    "    'access_key' : '5132c79d9d15b0c42d375fec95c6f7aa',\n",
    "    'from' : 'USD',\n",
    "    'to' : 'RUB',\n",
    "    'amount' : money\n",
    "}\n",
    "response = requests.get(url,params=params)\n",
    "print(response.url)\n",
    "    "
   ]
  },
  {
   "cell_type": "code",
   "execution_count": 2,
   "metadata": {},
   "outputs": [
    {
     "data": {
      "text/plain": [
       "{'success': True,\n",
       " 'timestamp': 1649901726,\n",
       " 'base': 'EUR',\n",
       " 'date': '2022-04-14',\n",
       " 'rates': {'AED': 4.005432,\n",
       "  'AFN': 95.39032,\n",
       "  'ALL': 121.235911,\n",
       "  'AMD': 513.351885,\n",
       "  'ANG': 1.95479,\n",
       "  'AOA': 458.95456,\n",
       "  'ARS': 123.187089,\n",
       "  'AUD': 1.462586,\n",
       "  'AWG': 1.963404,\n",
       "  'AZN': 1.857377,\n",
       "  'BAM': 1.959301,\n",
       "  'BBD': 2.18998,\n",
       "  'BDT': 93.519736,\n",
       "  'BGN': 1.957298,\n",
       "  'BHD': 0.411112,\n",
       "  'BIF': 2225.973869,\n",
       "  'BMD': 1.090477,\n",
       "  'BND': 1.479535,\n",
       "  'BOB': 7.456643,\n",
       "  'BRL': 5.115973,\n",
       "  'BSD': 1.084632,\n",
       "  'BTC': 2.6325805e-05,\n",
       "  'BTN': 82.590709,\n",
       "  'BWP': 12.46706,\n",
       "  'BYN': 3.593984,\n",
       "  'BYR': 21373.350231,\n",
       "  'BZD': 2.186284,\n",
       "  'CAD': 1.368663,\n",
       "  'CDF': 2191.859183,\n",
       "  'CHF': 1.017546,\n",
       "  'CLF': 0.031847,\n",
       "  'CLP': 878.760693,\n",
       "  'CNY': 6.939572,\n",
       "  'COP': 4059.486209,\n",
       "  'CRC': 707.052446,\n",
       "  'CUC': 1.090477,\n",
       "  'CUP': 28.897642,\n",
       "  'CVE': 110.461216,\n",
       "  'CZK': 24.480772,\n",
       "  'DJF': 193.092111,\n",
       "  'DKK': 7.438493,\n",
       "  'DOP': 59.578378,\n",
       "  'DZD': 156.322072,\n",
       "  'EGP': 20.081899,\n",
       "  'ERN': 16.357158,\n",
       "  'ETB': 55.814056,\n",
       "  'EUR': 1,\n",
       "  'FJD': 2.292892,\n",
       "  'FKP': 0.838186,\n",
       "  'GBP': 0.830349,\n",
       "  'GEL': 3.353232,\n",
       "  'GGP': 0.838186,\n",
       "  'GHS': 8.270191,\n",
       "  'GIP': 0.838186,\n",
       "  'GMD': 58.940717,\n",
       "  'GNF': 9665.746881,\n",
       "  'GTQ': 8.318977,\n",
       "  'GYD': 227.043305,\n",
       "  'HKD': 8.549286,\n",
       "  'HNL': 26.620531,\n",
       "  'HRK': 7.553301,\n",
       "  'HTG': 117.139616,\n",
       "  'HUF': 376.651829,\n",
       "  'IDR': 15667.37453,\n",
       "  'ILS': 3.510748,\n",
       "  'IMP': 0.838186,\n",
       "  'INR': 83.005205,\n",
       "  'IQD': 1583.03652,\n",
       "  'IRR': 46127.179581,\n",
       "  'ISK': 140.399006,\n",
       "  'JEP': 0.838186,\n",
       "  'JMD': 167.845689,\n",
       "  'JOD': 0.773118,\n",
       "  'JPY': 136.644955,\n",
       "  'KES': 125.219836,\n",
       "  'KGS': 91.057558,\n",
       "  'KHR': 4386.211493,\n",
       "  'KMF': 493.447305,\n",
       "  'KPW': 981.429477,\n",
       "  'KRW': 1335.011073,\n",
       "  'KWD': 0.332709,\n",
       "  'KYD': 0.903914,\n",
       "  'KZT': 488.249533,\n",
       "  'LAK': 12876.272574,\n",
       "  'LBP': 1639.913035,\n",
       "  'LKR': 349.561338,\n",
       "  'LRD': 166.191109,\n",
       "  'LSL': 15.887874,\n",
       "  'LTL': 3.219895,\n",
       "  'LVL': 0.659619,\n",
       "  'LYD': 5.095652,\n",
       "  'MAD': 10.64917,\n",
       "  'MDL': 20.011147,\n",
       "  'MGA': 4384.338259,\n",
       "  'MKD': 61.72436,\n",
       "  'MMK': 2008.177003,\n",
       "  'MNT': 3265.829593,\n",
       "  'MOP': 8.757055,\n",
       "  'MRO': 389.30012,\n",
       "  'MUR': 46.831162,\n",
       "  'MVR': 16.847834,\n",
       "  'MWK': 878.385362,\n",
       "  'MXN': 21.539315,\n",
       "  'MYR': 4.608325,\n",
       "  'MZN': 69.60504,\n",
       "  'NAD': 15.88822,\n",
       "  'NGN': 452.090141,\n",
       "  'NIO': 38.834806,\n",
       "  'NOK': 9.529651,\n",
       "  'NPR': 132.145947,\n",
       "  'NZD': 1.599894,\n",
       "  'OMR': 0.419804,\n",
       "  'PAB': 1.084622,\n",
       "  'PEN': 4.043627,\n",
       "  'PGK': 3.821824,\n",
       "  'PHP': 56.861888,\n",
       "  'PKR': 196.967283,\n",
       "  'PLN': 4.640265,\n",
       "  'PYG': 7397.708648,\n",
       "  'QAR': 3.970409,\n",
       "  'RON': 4.940841,\n",
       "  'RSD': 117.766091,\n",
       "  'RUB': 89.828065,\n",
       "  'RWF': 1103.911039,\n",
       "  'SAR': 4.089652,\n",
       "  'SBD': 8.723956,\n",
       "  'SCR': 15.719642,\n",
       "  'SDG': 487.986268,\n",
       "  'SEK': 10.320373,\n",
       "  'SGD': 1.475944,\n",
       "  'SHP': 1.502029,\n",
       "  'SLL': 13254.74882,\n",
       "  'SOS': 630.295584,\n",
       "  'SRD': 22.54233,\n",
       "  'STD': 22570.673325,\n",
       "  'SVC': 9.490946,\n",
       "  'SYP': 2739.768516,\n",
       "  'SZL': 15.702565,\n",
       "  'THB': 36.552757,\n",
       "  'TJS': 13.563093,\n",
       "  'TMT': 3.81667,\n",
       "  'TND': 3.260208,\n",
       "  'TOP': 2.465786,\n",
       "  'TRY': 15.910606,\n",
       "  'TTD': 7.368697,\n",
       "  'TWD': 31.613479,\n",
       "  'TZS': 2530.794384,\n",
       "  'UAH': 31.888036,\n",
       "  'UGX': 3817.881837,\n",
       "  'USD': 1.090477,\n",
       "  'UYU': 44.978898,\n",
       "  'UZS': 12295.18036,\n",
       "  'VEF': 233176950615.42407,\n",
       "  'VND': 24963.200688,\n",
       "  'VUV': 122.767707,\n",
       "  'WST': 2.819365,\n",
       "  'XAF': 657.13031,\n",
       "  'XAG': 0.042249,\n",
       "  'XAU': 0.000551,\n",
       "  'XCD': 2.947069,\n",
       "  'XDR': 0.792315,\n",
       "  'XOF': 657.124273,\n",
       "  'XPF': 119.952964,\n",
       "  'YER': 272.892199,\n",
       "  'ZAR': 15.855847,\n",
       "  'ZMK': 9815.598357,\n",
       "  'ZMW': 18.888726,\n",
       "  'ZWL': 351.133166}}"
      ]
     },
     "execution_count": 2,
     "metadata": {},
     "output_type": "execute_result"
    }
   ],
   "source": [
    "type(rates['base'])"
   ]
  },
  {
   "cell_type": "code",
   "execution_count": null,
   "metadata": {},
   "outputs": [],
   "source": []
  }
 ],
 "metadata": {
  "kernelspec": {
   "display_name": "Python 3 (ipykernel)",
   "language": "python",
   "name": "python3"
  },
  "language_info": {
   "codemirror_mode": {
    "name": "ipython",
    "version": 3
   },
   "file_extension": ".py",
   "mimetype": "text/x-python",
   "name": "python",
   "nbconvert_exporter": "python",
   "pygments_lexer": "ipython3",
   "version": "3.9.7"
  },
  "varInspector": {
   "cols": {
    "lenName": 16,
    "lenType": 16,
    "lenVar": 40
   },
   "kernels_config": {
    "python": {
     "delete_cmd_postfix": "",
     "delete_cmd_prefix": "del ",
     "library": "var_list.py",
     "varRefreshCmd": "print(var_dic_list())"
    },
    "r": {
     "delete_cmd_postfix": ") ",
     "delete_cmd_prefix": "rm(",
     "library": "var_list.r",
     "varRefreshCmd": "cat(var_dic_list()) "
    }
   },
   "types_to_exclude": [
    "module",
    "function",
    "builtin_function_or_method",
    "instance",
    "_Feature"
   ],
   "window_display": false
  }
 },
 "nbformat": 4,
 "nbformat_minor": 4
}
