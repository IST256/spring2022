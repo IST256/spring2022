{
 "cells": [
  {
   "cell_type": "markdown",
   "metadata": {},
   "source": [
    "# Code Samples From Large Group\n"
   ]
  },
  {
   "cell_type": "code",
   "execution_count": 1,
   "metadata": {},
   "outputs": [],
   "source": [
    "import math"
   ]
  },
  {
   "cell_type": "code",
   "execution_count": 4,
   "metadata": {},
   "outputs": [
    {
     "data": {
      "text/plain": [
       "6"
      ]
     },
     "execution_count": 4,
     "metadata": {},
     "output_type": "execute_result"
    }
   ],
   "source": [
    "math.gcd(12,30)"
   ]
  },
  {
   "cell_type": "code",
   "execution_count": null,
   "metadata": {},
   "outputs": [],
   "source": [
    "# fiction!!!\n",
    "target_weight = 500\n",
    "weight = read_weight_from_scale\n",
    "if weight != target_weight:\n",
    "    send "
   ]
  },
  {
   "cell_type": "code",
   "execution_count": 10,
   "metadata": {},
   "outputs": [
    {
     "name": "stdout",
     "output_type": "stream",
     "text": [
      "How much milk in the fridge: 0.8\n",
      "Go to the store!\n"
     ]
    }
   ],
   "source": [
    "threshold = 1\n",
    "\n",
    "milk = float(input(\"How much milk in the fridge: \"))\n",
    "if milk < threshold:\n",
    "    print(\"Go to the store!\")\n",
    "else:\n",
    "    print(\"You're ok. No need to go to the store.\")"
   ]
  },
  {
   "cell_type": "code",
   "execution_count": 13,
   "metadata": {},
   "outputs": [
    {
     "name": "stdout",
     "output_type": "stream",
     "text": [
      "How much did you buy? 500\n",
      "Amount: 500.0\n",
      "Tax: 50.0\n"
     ]
    }
   ],
   "source": [
    "amount = float(input(\"How much did you buy? \"))\n",
    "tax = 0\n",
    "if amount > 100:\n",
    "    tax = 0.1 * amount\n",
    "    \n",
    "print(f\"Amount: {amount}\")\n",
    "print(f\"Tax: {tax}\")"
   ]
  },
  {
   "cell_type": "code",
   "execution_count": 21,
   "metadata": {},
   "outputs": [
    {
     "name": "stdout",
     "output_type": "stream",
     "text": [
      "Enter your color: white\n",
      "That's one of my colors\n",
      "Horaay\n"
     ]
    }
   ],
   "source": [
    "colors = ['red','blue','green','white']\n",
    "color = input(\"Enter your color: \")\n",
    "if color in colors:\n",
    "    print(\"That's one of my colors\")\n",
    "    print(\"Horaay\")\n",
    "else:\n",
    "    print(f\"I don't care for {color}\")\n",
    "    \n",
    "    "
   ]
  },
  {
   "cell_type": "code",
   "execution_count": 23,
   "metadata": {},
   "outputs": [
    {
     "name": "stdout",
     "output_type": "stream",
     "text": [
      "Enter number of dependents:0\n",
      "Your Tax Rate is 30.0 %\n"
     ]
    }
   ],
   "source": [
    "taxrate = 0\n",
    "deps = int(input(\"Enter number of dependents:\"))\n",
    "if deps == 0:\n",
    "    taxrate = 0.3\n",
    "elif deps == 1:\n",
    "    taxrate = 0.25\n",
    "else:\n",
    "    taxrate = .1\n",
    "    \n",
    "print(f\"Your Tax Rate is {taxrate*100} %\")\n",
    "    "
   ]
  },
  {
   "cell_type": "code",
   "execution_count": 25,
   "metadata": {},
   "outputs": [
    {
     "name": "stdout",
     "output_type": "stream",
     "text": [
      "Enter number of dependents:jhkwdagfkjshdakjsfghdaSFDwfgdafwresfdaf\n",
      "I was expecting an integer\n"
     ]
    }
   ],
   "source": [
    "try:\n",
    "    deps = int(input(\"Enter number of dependents:\"))\n",
    "except ValueError:\n",
    "    print(\"I was expecting an integer\")"
   ]
  },
  {
   "cell_type": "code",
   "execution_count": 28,
   "metadata": {},
   "outputs": [
    {
     "name": "stdout",
     "output_type": "stream",
     "text": [
      "Enter number of dependents:4\n",
      "Your Tax Rate is 10.0 %\n"
     ]
    }
   ],
   "source": [
    "taxrate = 0\n",
    "\n",
    "try:\n",
    "    deps = int(input(\"Enter number of dependents:\"))\n",
    "    if deps == 0:\n",
    "        taxrate = 0.3\n",
    "    elif deps == 1:\n",
    "        taxrate = 0.25\n",
    "    else:\n",
    "        taxrate = .1\n",
    "        \n",
    "    print(f\"Your Tax Rate is {taxrate*100} %\")\n",
    "    \n",
    "except ValueError:\n",
    "    print(\"I was expecting an integer\")\n",
    "\n",
    "\n",
    "    "
   ]
  },
  {
   "cell_type": "code",
   "execution_count": null,
   "metadata": {},
   "outputs": [],
   "source": []
  }
 ],
 "metadata": {
  "kernelspec": {
   "display_name": "Python 3 (ipykernel)",
   "language": "python",
   "name": "python3"
  },
  "language_info": {
   "codemirror_mode": {
    "name": "ipython",
    "version": 3
   },
   "file_extension": ".py",
   "mimetype": "text/x-python",
   "name": "python",
   "nbconvert_exporter": "python",
   "pygments_lexer": "ipython3",
   "version": "3.9.7"
  },
  "varInspector": {
   "cols": {
    "lenName": 16,
    "lenType": 16,
    "lenVar": 40
   },
   "kernels_config": {
    "python": {
     "delete_cmd_postfix": "",
     "delete_cmd_prefix": "del ",
     "library": "var_list.py",
     "varRefreshCmd": "print(var_dic_list())"
    },
    "r": {
     "delete_cmd_postfix": ") ",
     "delete_cmd_prefix": "rm(",
     "library": "var_list.r",
     "varRefreshCmd": "cat(var_dic_list()) "
    }
   },
   "position": {
    "height": "144.857px",
    "left": "697.143px",
    "right": "20px",
    "top": "129px",
    "width": "350px"
   },
   "types_to_exclude": [
    "module",
    "function",
    "builtin_function_or_method",
    "instance",
    "_Feature"
   ],
   "window_display": false
  }
 },
 "nbformat": 4,
 "nbformat_minor": 4
}
