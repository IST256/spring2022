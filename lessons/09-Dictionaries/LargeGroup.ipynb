{
 "cells": [
  {
   "cell_type": "markdown",
   "metadata": {},
   "source": [
    "# Code Samples From Large Group\n"
   ]
  },
  {
   "cell_type": "code",
   "execution_count": 3,
   "metadata": {},
   "outputs": [],
   "source": [
    "prof = {}"
   ]
  },
  {
   "cell_type": "code",
   "execution_count": 4,
   "metadata": {},
   "outputs": [
    {
     "data": {
      "text/plain": [
       "dict"
      ]
     },
     "execution_count": 4,
     "metadata": {},
     "output_type": "execute_result"
    }
   ],
   "source": [
    "type(prof)"
   ]
  },
  {
   "cell_type": "code",
   "execution_count": 5,
   "metadata": {},
   "outputs": [],
   "source": [
    "prof[\"school\"] = \"IST\""
   ]
  },
  {
   "cell_type": "code",
   "execution_count": 6,
   "metadata": {},
   "outputs": [],
   "source": [
    "prof[\"name\"] = \"Mike\""
   ]
  },
  {
   "cell_type": "code",
   "execution_count": 7,
   "metadata": {},
   "outputs": [],
   "source": [
    "prof[\"classes\"] = [ \"IST256\", \"IST769\"]"
   ]
  },
  {
   "cell_type": "code",
   "execution_count": 8,
   "metadata": {},
   "outputs": [
    {
     "data": {
      "text/plain": [
       "{'school': 'IST', 'name': 'Mike', 'classes': ['IST256', 'IST769']}"
      ]
     },
     "execution_count": 8,
     "metadata": {},
     "output_type": "execute_result"
    }
   ],
   "source": [
    "prof"
   ]
  },
  {
   "cell_type": "code",
   "execution_count": 9,
   "metadata": {},
   "outputs": [
    {
     "name": "stdout",
     "output_type": "stream",
     "text": [
      "The prof's name is  Mike\n"
     ]
    }
   ],
   "source": [
    "print(\"The prof's name is \", prof[\"name\"])"
   ]
  },
  {
   "cell_type": "code",
   "execution_count": 10,
   "metadata": {},
   "outputs": [
    {
     "ename": "KeyError",
     "evalue": "'age'",
     "output_type": "error",
     "traceback": [
      "\u001b[0;31m---------------------------------------------------------------------------\u001b[0m",
      "\u001b[0;31mKeyError\u001b[0m                                  Traceback (most recent call last)",
      "Input \u001b[0;32mIn [10]\u001b[0m, in \u001b[0;36m<module>\u001b[0;34m\u001b[0m\n\u001b[0;32m----> 1\u001b[0m \u001b[43mprof\u001b[49m\u001b[43m[\u001b[49m\u001b[38;5;124;43m\"\u001b[39;49m\u001b[38;5;124;43mage\u001b[39;49m\u001b[38;5;124;43m\"\u001b[39;49m\u001b[43m]\u001b[49m\n",
      "\u001b[0;31mKeyError\u001b[0m: 'age'"
     ]
    }
   ],
   "source": [
    "prof[\"age\"]"
   ]
  },
  {
   "cell_type": "code",
   "execution_count": 11,
   "metadata": {},
   "outputs": [],
   "source": [
    "prof[\"name\"] = \"Michael\""
   ]
  },
  {
   "cell_type": "code",
   "execution_count": 12,
   "metadata": {},
   "outputs": [
    {
     "data": {
      "text/plain": [
       "{'school': 'IST', 'name': 'Michael', 'classes': ['IST256', 'IST769']}"
      ]
     },
     "execution_count": 12,
     "metadata": {},
     "output_type": "execute_result"
    }
   ],
   "source": [
    "prof"
   ]
  },
  {
   "cell_type": "code",
   "execution_count": 13,
   "metadata": {},
   "outputs": [],
   "source": [
    "prof[\"age\"] = 50"
   ]
  },
  {
   "cell_type": "code",
   "execution_count": 14,
   "metadata": {},
   "outputs": [],
   "source": [
    "prof[\"age\"] = prof[\"age\"] + 1\n"
   ]
  },
  {
   "cell_type": "code",
   "execution_count": 15,
   "metadata": {},
   "outputs": [
    {
     "data": {
      "text/plain": [
       "{'school': 'IST',\n",
       " 'name': 'Michael',\n",
       " 'classes': ['IST256', 'IST769'],\n",
       " 'age': 51}"
      ]
     },
     "execution_count": 15,
     "metadata": {},
     "output_type": "execute_result"
    }
   ],
   "source": [
    "prof"
   ]
  },
  {
   "cell_type": "code",
   "execution_count": 16,
   "metadata": {},
   "outputs": [],
   "source": [
    "dir"
   ]
  },
  {
   "cell_type": "code",
   "execution_count": 17,
   "metadata": {},
   "outputs": [
    {
     "data": {
      "text/plain": [
       "{'school': 'IST',\n",
       " 'name': 'Michael',\n",
       " 'classes': ['IST256', 'IST769'],\n",
       " 'age': 51}"
      ]
     },
     "execution_count": 17,
     "metadata": {},
     "output_type": "execute_result"
    }
   ],
   "source": [
    "otherprof"
   ]
  },
  {
   "cell_type": "code",
   "execution_count": 18,
   "metadata": {},
   "outputs": [],
   "source": [
    "otherprof[\"name\"] = \"Deb\"\n"
   ]
  },
  {
   "cell_type": "code",
   "execution_count": 19,
   "metadata": {},
   "outputs": [
    {
     "data": {
      "text/plain": [
       "{'school': 'IST', 'name': 'Deb', 'classes': ['IST256', 'IST769'], 'age': 51}"
      ]
     },
     "execution_count": 19,
     "metadata": {},
     "output_type": "execute_result"
    }
   ],
   "source": [
    "prof"
   ]
  },
  {
   "cell_type": "code",
   "execution_count": 20,
   "metadata": {},
   "outputs": [
    {
     "data": {
      "text/plain": [
       "{'school': 'IST', 'name': 'Deb', 'classes': ['IST256', 'IST769'], 'age': 51}"
      ]
     },
     "execution_count": 20,
     "metadata": {},
     "output_type": "execute_result"
    }
   ],
   "source": [
    "otherprof"
   ]
  },
  {
   "cell_type": "code",
   "execution_count": 21,
   "metadata": {},
   "outputs": [
    {
     "data": {
      "text/plain": [
       "['__class__',\n",
       " '__class_getitem__',\n",
       " '__contains__',\n",
       " '__delattr__',\n",
       " '__delitem__',\n",
       " '__dir__',\n",
       " '__doc__',\n",
       " '__eq__',\n",
       " '__format__',\n",
       " '__ge__',\n",
       " '__getattribute__',\n",
       " '__getitem__',\n",
       " '__gt__',\n",
       " '__hash__',\n",
       " '__init__',\n",
       " '__init_subclass__',\n",
       " '__ior__',\n",
       " '__iter__',\n",
       " '__le__',\n",
       " '__len__',\n",
       " '__lt__',\n",
       " '__ne__',\n",
       " '__new__',\n",
       " '__or__',\n",
       " '__reduce__',\n",
       " '__reduce_ex__',\n",
       " '__repr__',\n",
       " '__reversed__',\n",
       " '__ror__',\n",
       " '__setattr__',\n",
       " '__setitem__',\n",
       " '__sizeof__',\n",
       " '__str__',\n",
       " '__subclasshook__',\n",
       " 'clear',\n",
       " 'copy',\n",
       " 'fromkeys',\n",
       " 'get',\n",
       " 'items',\n",
       " 'keys',\n",
       " 'pop',\n",
       " 'popitem',\n",
       " 'setdefault',\n",
       " 'update',\n",
       " 'values']"
      ]
     },
     "execution_count": 21,
     "metadata": {},
     "output_type": "execute_result"
    }
   ],
   "source": [
    "dir(dict)"
   ]
  },
  {
   "cell_type": "code",
   "execution_count": 22,
   "metadata": {},
   "outputs": [],
   "source": [
    "students = [     \n",
    "    { 'Name':'bob','GPA':3.4 },   \n",
    "    { 'Name':'sue','GPA':2.8 },  \n",
    "    { 'Name':'kent','GPA':4.0 }  \n",
    "]"
   ]
  },
  {
   "cell_type": "code",
   "execution_count": 24,
   "metadata": {},
   "outputs": [
    {
     "data": {
      "text/plain": [
       "'bob'"
      ]
     },
     "execution_count": 24,
     "metadata": {},
     "output_type": "execute_result"
    }
   ],
   "source": [
    "students[0][\"Name\"]"
   ]
  },
  {
   "cell_type": "code",
   "execution_count": 25,
   "metadata": {},
   "outputs": [
    {
     "data": {
      "text/plain": [
       "4.0"
      ]
     },
     "execution_count": 25,
     "metadata": {},
     "output_type": "execute_result"
    }
   ],
   "source": [
    "students[-1][\"GPA\"]"
   ]
  },
  {
   "cell_type": "code",
   "execution_count": 26,
   "metadata": {},
   "outputs": [
    {
     "ename": "TypeError",
     "evalue": "list indices must be integers or slices, not str",
     "output_type": "error",
     "traceback": [
      "\u001b[0;31m---------------------------------------------------------------------------\u001b[0m",
      "\u001b[0;31mTypeError\u001b[0m                                 Traceback (most recent call last)",
      "Input \u001b[0;32mIn [26]\u001b[0m, in \u001b[0;36m<module>\u001b[0;34m\u001b[0m\n\u001b[0;32m----> 1\u001b[0m \u001b[43mstudents\u001b[49m\u001b[43m[\u001b[49m\u001b[38;5;124;43m\"\u001b[39;49m\u001b[38;5;124;43mName\u001b[39;49m\u001b[38;5;124;43m\"\u001b[39;49m\u001b[43m]\u001b[49m\n",
      "\u001b[0;31mTypeError\u001b[0m: list indices must be integers or slices, not str"
     ]
    }
   ],
   "source": [
    "students[\"Name\"]"
   ]
  },
  {
   "cell_type": "code",
   "execution_count": 27,
   "metadata": {},
   "outputs": [
    {
     "ename": "KeyError",
     "evalue": "1",
     "output_type": "error",
     "traceback": [
      "\u001b[0;31m---------------------------------------------------------------------------\u001b[0m",
      "\u001b[0;31mKeyError\u001b[0m                                  Traceback (most recent call last)",
      "Input \u001b[0;32mIn [27]\u001b[0m, in \u001b[0;36m<module>\u001b[0;34m\u001b[0m\n\u001b[0;32m----> 1\u001b[0m \u001b[43mstudents\u001b[49m\u001b[43m[\u001b[49m\u001b[38;5;241;43m0\u001b[39;49m\u001b[43m]\u001b[49m\u001b[43m[\u001b[49m\u001b[38;5;241;43m1\u001b[39;49m\u001b[43m]\u001b[49m\n",
      "\u001b[0;31mKeyError\u001b[0m: 1"
     ]
    }
   ],
   "source": [
    "students[0][1]"
   ]
  },
  {
   "cell_type": "code",
   "execution_count": 28,
   "metadata": {},
   "outputs": [
    {
     "name": "stdout",
     "output_type": "stream",
     "text": [
      "bob has a GPA of 3.4\n",
      "sue has a GPA of 2.8\n",
      "kent has a GPA of 4.0\n"
     ]
    }
   ],
   "source": [
    "for s in students:\n",
    "    print(f\"{s['Name']} has a GPA of {s['GPA']}\")"
   ]
  },
  {
   "cell_type": "code",
   "execution_count": 29,
   "metadata": {},
   "outputs": [
    {
     "data": {
      "text/plain": [
       "dict"
      ]
     },
     "execution_count": 29,
     "metadata": {},
     "output_type": "execute_result"
    }
   ],
   "source": [
    "type(s)"
   ]
  },
  {
   "cell_type": "code",
   "execution_count": 30,
   "metadata": {},
   "outputs": [
    {
     "data": {
      "text/plain": [
       "dict_keys(['Name', 'GPA'])"
      ]
     },
     "execution_count": 30,
     "metadata": {},
     "output_type": "execute_result"
    }
   ],
   "source": [
    "s.keys()"
   ]
  },
  {
   "cell_type": "code",
   "execution_count": 31,
   "metadata": {},
   "outputs": [
    {
     "data": {
      "text/plain": [
       "'[\\n  { \"symbol\" : \"AAPL\", \"price\" : 126.82 },\\n  { \"symbol\" : \"AMZN\", \"price\" : 3098.12 },\\n  { \"symbol\" : \"FB\", \"price\" : 251.11 },\\n  { \"symbol\" : \"GOOG\", \"price\" : 1725.05 },\\n  { \"symbol\" : \"IBM\", \"price\" : 128.39 },\\n  { \"symbol\" : \"MSFT\", \"price\" : 212.55 },\\n  { \"symbol\" : \"NET\", \"price\" : 78.00 },\\n  { \"symbol\" : \"NFLX\", \"price\" : 497.00 },\\n  { \"symbol\" : \"TSLA\", \"price\" : 823.80 },\\n  { \"symbol\" : \"TWTR\", \"price\" : 45.11 }\\n]\\n'"
      ]
     },
     "execution_count": 31,
     "metadata": {},
     "output_type": "execute_result"
    }
   ],
   "source": [
    "with open (\"stocks.json\",\"r\") as f:\n",
    "    contents = f.read()\n",
    "    \n",
    "contents"
   ]
  },
  {
   "cell_type": "code",
   "execution_count": 32,
   "metadata": {},
   "outputs": [],
   "source": [
    "import json"
   ]
  },
  {
   "cell_type": "code",
   "execution_count": 33,
   "metadata": {},
   "outputs": [],
   "source": [
    "with open (\"stocks.json\",\"r\") as f:\n",
    "    contents = f.read()\n",
    "    data = json.loads(contents)\n",
    "\n"
   ]
  },
  {
   "cell_type": "code",
   "execution_count": 34,
   "metadata": {},
   "outputs": [
    {
     "data": {
      "text/plain": [
       "str"
      ]
     },
     "execution_count": 34,
     "metadata": {},
     "output_type": "execute_result"
    }
   ],
   "source": [
    "type(contents)"
   ]
  },
  {
   "cell_type": "code",
   "execution_count": 35,
   "metadata": {},
   "outputs": [
    {
     "data": {
      "text/plain": [
       "list"
      ]
     },
     "execution_count": 35,
     "metadata": {},
     "output_type": "execute_result"
    }
   ],
   "source": [
    "type(data)"
   ]
  },
  {
   "cell_type": "code",
   "execution_count": 37,
   "metadata": {},
   "outputs": [
    {
     "data": {
      "text/plain": [
       "3098.12"
      ]
     },
     "execution_count": 37,
     "metadata": {},
     "output_type": "execute_result"
    }
   ],
   "source": [
    "data[1]['price']"
   ]
  },
  {
   "cell_type": "code",
   "execution_count": 38,
   "metadata": {},
   "outputs": [],
   "source": [
    "with open (\"mike.json\",\"r\") as f:\n",
    "    prof = json.load(f)"
   ]
  },
  {
   "cell_type": "code",
   "execution_count": 40,
   "metadata": {},
   "outputs": [
    {
     "data": {
      "text/plain": [
       "'mike'"
      ]
     },
     "execution_count": 40,
     "metadata": {},
     "output_type": "execute_result"
    }
   ],
   "source": [
    "prof[\"name\"]"
   ]
  },
  {
   "cell_type": "code",
   "execution_count": 41,
   "metadata": {},
   "outputs": [],
   "source": [
    "with open (\"stocks.json\",\"r\") as f:\n",
    "    contents = f.read()\n",
    "    stocks = json.loads(contents)"
   ]
  },
  {
   "cell_type": "code",
   "execution_count": 42,
   "metadata": {},
   "outputs": [
    {
     "data": {
      "text/plain": [
       "list"
      ]
     },
     "execution_count": 42,
     "metadata": {},
     "output_type": "execute_result"
    }
   ],
   "source": [
    "type(stocks)"
   ]
  },
  {
   "cell_type": "code",
   "execution_count": 47,
   "metadata": {},
   "outputs": [
    {
     "name": "stdout",
     "output_type": "stream",
     "text": [
      "AAPL $126.82\n",
      "AMZN $3098.12\n",
      "FB $251.11\n",
      "GOOG $1725.05\n",
      "IBM $128.39\n",
      "MSFT $212.55\n",
      "NET $78.00\n",
      "NFLX $497.00\n",
      "TSLA $823.80\n",
      "TWTR $45.11\n"
     ]
    }
   ],
   "source": [
    "for stock in stocks:\n",
    "    symbol = stock['symbol']\n",
    "    price = stock['price']\n",
    "    \n",
    "    print(f\"{symbol} ${price:.2f}\")"
   ]
  },
  {
   "cell_type": "code",
   "execution_count": 44,
   "metadata": {},
   "outputs": [
    {
     "data": {
      "text/plain": [
       "dict_keys(['symbol', 'price'])"
      ]
     },
     "execution_count": 44,
     "metadata": {},
     "output_type": "execute_result"
    }
   ],
   "source": [
    "stock.keys()"
   ]
  },
  {
   "cell_type": "code",
   "execution_count": 50,
   "metadata": {},
   "outputs": [
    {
     "data": {
      "text/plain": [
       "{'name': 'mike'}"
      ]
     },
     "execution_count": 50,
     "metadata": {},
     "output_type": "execute_result"
    }
   ],
   "source": [
    "data = '{ \"name\" : \"mike\"}'\n",
    "obj = json.loads(data)\n",
    "obj"
   ]
  },
  {
   "cell_type": "code",
   "execution_count": 51,
   "metadata": {},
   "outputs": [
    {
     "data": {
      "text/plain": [
       "'{ \"name\" : \"mike\"}'"
      ]
     },
     "execution_count": 51,
     "metadata": {},
     "output_type": "execute_result"
    }
   ],
   "source": [
    "data"
   ]
  },
  {
   "cell_type": "code",
   "execution_count": 52,
   "metadata": {},
   "outputs": [],
   "source": [
    "with open ('europe.json','r') as f:\n",
    "    stuff = f.read()\n",
    "    europe = json.loads(stuff)"
   ]
  },
  {
   "cell_type": "code",
   "execution_count": 53,
   "metadata": {},
   "outputs": [],
   "source": [
    "with open ('europe.json','r') as f:\n",
    "    europe = json.load(f)"
   ]
  },
  {
   "cell_type": "code",
   "execution_count": 54,
   "metadata": {},
   "outputs": [
    {
     "data": {
      "text/plain": [
       "list"
      ]
     },
     "execution_count": 54,
     "metadata": {},
     "output_type": "execute_result"
    }
   ],
   "source": [
    "type(europe)"
   ]
  },
  {
   "cell_type": "code",
   "execution_count": 56,
   "metadata": {},
   "outputs": [
    {
     "data": {
      "text/plain": [
       "'Czech Republic'"
      ]
     },
     "execution_count": 56,
     "metadata": {},
     "output_type": "execute_result"
    }
   ],
   "source": [
    "europe[10]['name']"
   ]
  },
  {
   "cell_type": "code",
   "execution_count": 59,
   "metadata": {},
   "outputs": [
    {
     "name": "stdout",
     "output_type": "stream",
     "text": [
      "Åland Islands Northern Europe\n",
      "Albania Southern Europe\n",
      "Andorra Southern Europe\n",
      "Austria Western Europe\n",
      "Belarus Eastern Europe\n",
      "Belgium Western Europe\n",
      "Bosnia and Herzegovina Southern Europe\n",
      "Bulgaria Eastern Europe\n",
      "Croatia Southern Europe\n",
      "Cyprus Southern Europe\n",
      "Czech Republic Eastern Europe\n",
      "Denmark Northern Europe\n",
      "Estonia Northern Europe\n",
      "Faroe Islands Northern Europe\n",
      "Finland Northern Europe\n",
      "France Western Europe\n",
      "Germany Western Europe\n",
      "Gibraltar Southern Europe\n",
      "Greece Southern Europe\n",
      "Guernsey Northern Europe\n",
      "Holy See Southern Europe\n",
      "Hungary Eastern Europe\n",
      "Iceland Northern Europe\n",
      "Republic of Ireland Northern Europe\n",
      "Isle of Man Northern Europe\n",
      "Italy Southern Europe\n",
      "Jersey Northern Europe\n",
      "Latvia Northern Europe\n",
      "Liechtenstein Western Europe\n",
      "Lithuania Northern Europe\n",
      "Luxembourg Western Europe\n",
      "Republic of Macedonia Southern Europe\n",
      "Malta Southern Europe\n",
      "Moldova Eastern Europe\n",
      "Monaco Western Europe\n",
      "Montenegro Southern Europe\n",
      "Netherlands Western Europe\n",
      "Norway Northern Europe\n",
      "Poland Eastern Europe\n",
      "Portugal Southern Europe\n",
      "Republic of Kosovo Eastern Europe\n",
      "Romania Eastern Europe\n",
      "Russia Eastern Europe\n",
      "San Marino Southern Europe\n",
      "Serbia Southern Europe\n",
      "Slovakia Eastern Europe\n",
      "Slovenia Southern Europe\n",
      "Spain Southern Europe\n",
      "Svalbard and Jan Mayen Northern Europe\n",
      "Sweden Northern Europe\n",
      "Switzerland Western Europe\n",
      "Ukraine Eastern Europe\n",
      "United Kingdom Northern Europe\n"
     ]
    }
   ],
   "source": [
    "for country in europe:\n",
    "    print(country['name'], country['subregion'])\n",
    "    "
   ]
  },
  {
   "cell_type": "code",
   "execution_count": 61,
   "metadata": {},
   "outputs": [
    {
     "data": {
      "text/plain": [
       "dict"
      ]
     },
     "execution_count": 61,
     "metadata": {},
     "output_type": "execute_result"
    }
   ],
   "source": [
    "type(country)"
   ]
  },
  {
   "cell_type": "code",
   "execution_count": 62,
   "metadata": {},
   "outputs": [
    {
     "data": {
      "text/plain": [
       "{'name': 'United Kingdom',\n",
       " 'topLevelDomain': ['.uk'],\n",
       " 'alpha2Code': 'GB',\n",
       " 'alpha3Code': 'GBR',\n",
       " 'callingCodes': ['44'],\n",
       " 'capital': 'London',\n",
       " 'altSpellings': ['GB', 'UK', 'Great Britain'],\n",
       " 'relevance': '2.5',\n",
       " 'region': 'Europe',\n",
       " 'subregion': 'Northern Europe',\n",
       " 'translations': {'de': 'Vereinigtes Königreich',\n",
       "  'es': 'Reino Unido',\n",
       "  'fr': 'Royaume-Uni',\n",
       "  'ja': 'イギリス',\n",
       "  'it': 'Regno Unito'},\n",
       " 'population': 64800000,\n",
       " 'latlng': [54.0, -2.0],\n",
       " 'demonym': 'British',\n",
       " 'area': 242900.0,\n",
       " 'gini': 34.0,\n",
       " 'timezones': ['UTC-08:00',\n",
       "  'UTC-05:00',\n",
       "  'UTC-04:00',\n",
       "  'UTC-03:00',\n",
       "  'UTC-02:00',\n",
       "  'UTC',\n",
       "  'UTC+01:00',\n",
       "  'UTC+02:00',\n",
       "  'UTC+06:00'],\n",
       " 'borders': ['IRL'],\n",
       " 'nativeName': 'United Kingdom',\n",
       " 'numericCode': '826',\n",
       " 'currencies': ['GBP'],\n",
       " 'languages': ['en']}"
      ]
     },
     "execution_count": 62,
     "metadata": {},
     "output_type": "execute_result"
    }
   ],
   "source": [
    "country"
   ]
  },
  {
   "cell_type": "code",
   "execution_count": 63,
   "metadata": {},
   "outputs": [
    {
     "name": "stdout",
     "output_type": "stream",
     "text": [
      "Åland Islands []\n",
      "Albania ['MNE', 'GRC', 'MKD', 'KOS']\n",
      "Andorra ['FRA', 'ESP']\n",
      "Austria ['CZE', 'DEU', 'HUN', 'ITA', 'LIE', 'SVK', 'SVN', 'CHE']\n",
      "Belarus ['LVA', 'LTU', 'POL', 'RUS', 'UKR']\n",
      "Belgium ['FRA', 'DEU', 'LUX', 'NLD']\n",
      "Bosnia and Herzegovina ['HRV', 'MNE', 'SRB']\n",
      "Bulgaria ['GRC', 'MKD', 'ROU', 'SRB', 'TUR']\n",
      "Croatia ['BIH', 'HUN', 'MNE', 'SRB', 'SVN']\n",
      "Cyprus ['GBR']\n",
      "Czech Republic ['AUT', 'DEU', 'POL', 'SVK']\n",
      "Denmark ['DEU']\n",
      "Estonia ['LVA', 'RUS']\n",
      "Faroe Islands []\n",
      "Finland ['NOR', 'SWE', 'RUS']\n",
      "France ['AND', 'BEL', 'DEU', 'ITA', 'LUX', 'MCO', 'ESP', 'CHE']\n",
      "Germany ['AUT', 'BEL', 'CZE', 'DNK', 'FRA', 'LUX', 'NLD', 'POL', 'CHE']\n",
      "Gibraltar ['ESP']\n",
      "Greece ['ALB', 'BGR', 'TUR', 'MKD']\n",
      "Guernsey []\n",
      "Holy See ['ITA']\n",
      "Hungary ['AUT', 'HRV', 'ROU', 'SRB', 'SVK', 'SVN', 'UKR']\n",
      "Iceland []\n",
      "Republic of Ireland ['GBR']\n",
      "Isle of Man []\n",
      "Italy ['AUT', 'FRA', 'SMR', 'SVN', 'CHE', 'VAT']\n",
      "Jersey []\n",
      "Latvia ['BLR', 'EST', 'LTU', 'RUS']\n",
      "Liechtenstein ['AUT', 'CHE']\n",
      "Lithuania ['BLR', 'LVA', 'POL', 'RUS']\n",
      "Luxembourg ['BEL', 'FRA', 'DEU']\n",
      "Republic of Macedonia ['ALB', 'BGR', 'GRC', 'KOS', 'SRB']\n",
      "Malta []\n",
      "Moldova ['ROU', 'UKR']\n",
      "Monaco ['FRA']\n",
      "Montenegro ['ALB', 'BIH', 'HRV', 'KOS', 'SRB']\n",
      "Netherlands ['BEL', 'DEU']\n",
      "Norway ['FIN', 'SWE', 'RUS']\n",
      "Poland ['BLR', 'CZE', 'DEU', 'LTU', 'RUS', 'SVK', 'UKR']\n",
      "Portugal ['ESP']\n",
      "Republic of Kosovo ['ALB', 'MKD', 'MNE', 'SRB']\n",
      "Romania ['BGR', 'HUN', 'MDA', 'SRB', 'UKR']\n",
      "Russia ['AZE', 'BLR', 'CHN', 'EST', 'FIN', 'GEO', 'KAZ', 'PRK', 'LVA', 'LTU', 'MNG', 'NOR', 'POL', 'UKR']\n",
      "San Marino ['ITA']\n",
      "Serbia ['BIH', 'BGR', 'HRV', 'HUN', 'KOS', 'MKD', 'MNE', 'ROU']\n",
      "Slovakia ['AUT', 'CZE', 'HUN', 'POL', 'UKR']\n",
      "Slovenia ['AUT', 'HRV', 'ITA', 'HUN']\n",
      "Spain ['AND', 'FRA', 'GIB', 'PRT', 'MAR']\n",
      "Svalbard and Jan Mayen []\n",
      "Sweden ['FIN', 'NOR']\n",
      "Switzerland ['AUT', 'FRA', 'ITA', 'LIE', 'DEU']\n",
      "Ukraine ['BLR', 'HUN', 'MDA', 'POL', 'ROU', 'RUS', 'SVK']\n",
      "United Kingdom ['IRL']\n"
     ]
    }
   ],
   "source": [
    "for country in europe:\n",
    "    print(country['name'], country['borders'])"
   ]
  },
  {
   "cell_type": "code",
   "execution_count": 65,
   "metadata": {},
   "outputs": [
    {
     "name": "stdout",
     "output_type": "stream",
     "text": [
      "Åland Islands ALA\n",
      "Albania ALB\n",
      "Andorra AND\n",
      "Austria AUT\n",
      "Belarus BLR\n",
      "Belgium BEL\n",
      "Bosnia and Herzegovina BIH\n",
      "Bulgaria BGR\n",
      "Croatia HRV\n",
      "Cyprus CYP\n",
      "Czech Republic CZE\n",
      "Denmark DNK\n",
      "Estonia EST\n",
      "Faroe Islands FRO\n",
      "Finland FIN\n",
      "France FRA\n",
      "Germany DEU\n",
      "Gibraltar GIB\n",
      "Greece GRC\n",
      "Guernsey GGY\n",
      "Holy See VAT\n",
      "Hungary HUN\n",
      "Iceland ISL\n",
      "Republic of Ireland IRL\n",
      "Isle of Man IMN\n",
      "Italy ITA\n",
      "Jersey JEY\n",
      "Latvia LVA\n",
      "Liechtenstein LIE\n",
      "Lithuania LTU\n",
      "Luxembourg LUX\n",
      "Republic of Macedonia MKD\n",
      "Malta MLT\n",
      "Moldova MDA\n",
      "Monaco MCO\n",
      "Montenegro MNE\n",
      "Netherlands NLD\n",
      "Norway NOR\n",
      "Poland POL\n",
      "Portugal PRT\n",
      "Republic of Kosovo KOS\n",
      "Romania ROU\n",
      "Russia RUS\n",
      "San Marino SMR\n",
      "Serbia SRB\n",
      "Slovakia SVK\n",
      "Slovenia SVN\n",
      "Spain ESP\n",
      "Svalbard and Jan Mayen SJM\n",
      "Sweden SWE\n",
      "Switzerland CHE\n",
      "Ukraine UKR\n",
      "United Kingdom GBR\n"
     ]
    }
   ],
   "source": [
    "for country in europe:\n",
    "    print(country['name'], country['alpha3Code'])"
   ]
  },
  {
   "cell_type": "code",
   "execution_count": 69,
   "metadata": {},
   "outputs": [
    {
     "data": {
      "application/vnd.jupyter.widget-view+json": {
       "model_id": "e4606930444b43a9ac74476fbd9daa59",
       "version_major": 2,
       "version_minor": 0
      },
      "text/plain": [
       "interactive(children=(Dropdown(description='Country', options=('Åland Islands', 'Albania', 'Andorra', 'Austria…"
      ]
     },
     "metadata": {},
     "output_type": "display_data"
    }
   ],
   "source": [
    "country_names = []\n",
    "for country in europe:\n",
    "    if country['name'] not in country_names:\n",
    "        country_names.append(country['name'])\n",
    "        \n",
    "from ipywidgets import interact\n",
    "\n",
    "@interact(Country=country_names)\n",
    "def onchange(Country):\n",
    "    for country in europe:\n",
    "        if country['name'] == Country:\n",
    "            print(country['name'])\n",
    "            print(country['capital'])\n",
    "            print(country['subregion'])\n",
    "            print(country['borders'])\n",
    "            break"
   ]
  },
  {
   "cell_type": "code",
   "execution_count": 68,
   "metadata": {},
   "outputs": [
    {
     "data": {
      "text/plain": [
       "{'name': 'United Kingdom',\n",
       " 'topLevelDomain': ['.uk'],\n",
       " 'alpha2Code': 'GB',\n",
       " 'alpha3Code': 'GBR',\n",
       " 'callingCodes': ['44'],\n",
       " 'capital': 'London',\n",
       " 'altSpellings': ['GB', 'UK', 'Great Britain'],\n",
       " 'relevance': '2.5',\n",
       " 'region': 'Europe',\n",
       " 'subregion': 'Northern Europe',\n",
       " 'translations': {'de': 'Vereinigtes Königreich',\n",
       "  'es': 'Reino Unido',\n",
       "  'fr': 'Royaume-Uni',\n",
       "  'ja': 'イギリス',\n",
       "  'it': 'Regno Unito'},\n",
       " 'population': 64800000,\n",
       " 'latlng': [54.0, -2.0],\n",
       " 'demonym': 'British',\n",
       " 'area': 242900.0,\n",
       " 'gini': 34.0,\n",
       " 'timezones': ['UTC-08:00',\n",
       "  'UTC-05:00',\n",
       "  'UTC-04:00',\n",
       "  'UTC-03:00',\n",
       "  'UTC-02:00',\n",
       "  'UTC',\n",
       "  'UTC+01:00',\n",
       "  'UTC+02:00',\n",
       "  'UTC+06:00'],\n",
       " 'borders': ['IRL'],\n",
       " 'nativeName': 'United Kingdom',\n",
       " 'numericCode': '826',\n",
       " 'currencies': ['GBP'],\n",
       " 'languages': ['en']}"
      ]
     },
     "execution_count": 68,
     "metadata": {},
     "output_type": "execute_result"
    }
   ],
   "source": [
    "country 'name', 'capital', 'subregion', 'borders'"
   ]
  },
  {
   "cell_type": "code",
   "execution_count": null,
   "metadata": {},
   "outputs": [],
   "source": []
  }
 ],
 "metadata": {
  "kernelspec": {
   "display_name": "Python 3 (ipykernel)",
   "language": "python",
   "name": "python3"
  },
  "language_info": {
   "codemirror_mode": {
    "name": "ipython",
    "version": 3
   },
   "file_extension": ".py",
   "mimetype": "text/x-python",
   "name": "python",
   "nbconvert_exporter": "python",
   "pygments_lexer": "ipython3",
   "version": "3.9.7"
  },
  "varInspector": {
   "cols": {
    "lenName": 16,
    "lenType": 16,
    "lenVar": 40
   },
   "kernels_config": {
    "python": {
     "delete_cmd_postfix": "",
     "delete_cmd_prefix": "del ",
     "library": "var_list.py",
     "varRefreshCmd": "print(var_dic_list())"
    },
    "r": {
     "delete_cmd_postfix": ") ",
     "delete_cmd_prefix": "rm(",
     "library": "var_list.r",
     "varRefreshCmd": "cat(var_dic_list()) "
    }
   },
   "types_to_exclude": [
    "module",
    "function",
    "builtin_function_or_method",
    "instance",
    "_Feature"
   ],
   "window_display": false
  }
 },
 "nbformat": 4,
 "nbformat_minor": 4
}
