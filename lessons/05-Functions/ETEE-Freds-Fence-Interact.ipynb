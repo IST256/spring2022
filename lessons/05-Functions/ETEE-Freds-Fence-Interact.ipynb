{
 "cells": [
  {
   "cell_type": "markdown",
   "metadata": {},
   "source": [
    "# Functions and the Write / Refactor / Test / Re-Write approach\n",
    "\n",
    "A common approach used when writing function is to\n",
    "\n",
    "1. Write the code without the function\n",
    "2. Refactor the programming logic (processing part) into a user-defined function with `def`\n",
    "    - input should be a variables passed in as `arguments`\n",
    "    - output should be variables that are part of `return` \n",
    "    - no \"print\" or \"input\" in your function - only \"processing\n",
    "3. Test your function by calling it. You should expect to know what the output is so you understand if it works correctly.\n",
    "4. Re-Write your original problem to now call the function you created.\n",
    "  "
   ]
  },
  {
   "cell_type": "code",
   "execution_count": null,
   "metadata": {},
   "outputs": [],
   "source": [
    "!pip install requests"
   ]
  },
  {
   "cell_type": "code",
   "execution_count": 1,
   "metadata": {},
   "outputs": [
    {
     "name": "stdout",
     "output_type": "stream",
     "text": [
      "Enter length of Yard: 100\n",
      "Enter width of Yard: 40\n",
      "280.0 47\n"
     ]
    }
   ],
   "source": [
    "# STEP 1: Write: orginal fred's fence\n",
    "import math \n",
    "length = float(input(\"Enter length of Yard: \"))\n",
    "width = float(input(\"Enter width of Yard: \"))\n",
    "perimeter = 2 * (length + width)\n",
    "sections = math.ceil(perimeter / 6)\n",
    "print(perimeter, sections)"
   ]
  },
  {
   "cell_type": "code",
   "execution_count": 2,
   "metadata": {},
   "outputs": [],
   "source": [
    "# STEP 2: Re-Factor into a function:\n",
    "def fence_calc(length, width):\n",
    "    perimeter = 2 * (length + width )\n",
    "    sections = math.ceil(perimeter / 6)\n",
    "    return perimeter, sections # we return 2 things"
   ]
  },
  {
   "cell_type": "code",
   "execution_count": 4,
   "metadata": {},
   "outputs": [
    {
     "name": "stdout",
     "output_type": "stream",
     "text": [
      "When length=10,Width=20, EXPECT: fence_calc(10,20)==(60, 10), ACTUAL:  (60, 10)\n"
     ]
    }
   ],
   "source": [
    "# STEP 3: test so we know the function \"works\"\n",
    "print(f\"When length=10,Width=20, EXPECT: fence_calc(10,20)==(60, 10), ACTUAL: \", fence_calc(10,20))"
   ]
  },
  {
   "cell_type": "code",
   "execution_count": 9,
   "metadata": {},
   "outputs": [
    {
     "ename": "NameError",
     "evalue": "name 'fence_calczzzzz' is not defined",
     "output_type": "error",
     "traceback": [
      "\u001b[0;31m---------------------------------------------------------------------------\u001b[0m",
      "\u001b[0;31mNameError\u001b[0m                                 Traceback (most recent call last)",
      "Input \u001b[0;32mIn [9]\u001b[0m, in \u001b[0;36m<module>\u001b[0;34m\u001b[0m\n\u001b[1;32m      1\u001b[0m \u001b[38;5;66;03m# should be (24,4)\u001b[39;00m\n\u001b[0;32m----> 2\u001b[0m \u001b[43mfence_calczzzzz\u001b[49m(\u001b[38;5;241m6\u001b[39m,\u001b[38;5;241m6\u001b[39m)\n",
      "\u001b[0;31mNameError\u001b[0m: name 'fence_calczzzzz' is not defined"
     ]
    }
   ],
   "source": [
    "# should be (24,4)\n",
    "fence_calc(6,6)"
   ]
  },
  {
   "cell_type": "code",
   "execution_count": 8,
   "metadata": {},
   "outputs": [
    {
     "ename": "AssertionError",
     "evalue": "",
     "output_type": "error",
     "traceback": [
      "\u001b[0;31m---------------------------------------------------------------------------\u001b[0m",
      "\u001b[0;31mAssertionError\u001b[0m                            Traceback (most recent call last)",
      "Input \u001b[0;32mIn [8]\u001b[0m, in \u001b[0;36m<module>\u001b[0;34m\u001b[0m\n\u001b[1;32m      1\u001b[0m \u001b[38;5;66;03m# STEP 3: test quietly with assert instead of print\u001b[39;00m\n\u001b[0;32m----> 2\u001b[0m \u001b[38;5;28;01massert\u001b[39;00m fence_calc(\u001b[38;5;241m10\u001b[39m,\u001b[38;5;241m20\u001b[39m)\u001b[38;5;241m==\u001b[39m(\u001b[38;5;241m60\u001b[39m,\u001b[38;5;241m11\u001b[39m)\n",
      "\u001b[0;31mAssertionError\u001b[0m: "
     ]
    }
   ],
   "source": [
    "# STEP 3: test quietly with assert instead of print\n",
    "assert fence_calc(10,20)==(60,11)"
   ]
  },
  {
   "cell_type": "code",
   "execution_count": 26,
   "metadata": {},
   "outputs": [
    {
     "name": "stdout",
     "output_type": "stream",
     "text": [
      "Enter length of Yard: you suck\n"
     ]
    },
    {
     "ename": "ValueError",
     "evalue": "could not convert string to float: 'you suck'",
     "output_type": "error",
     "traceback": [
      "\u001b[0;31m---------------------------------------------------------------------------\u001b[0m",
      "\u001b[0;31mValueError\u001b[0m                                Traceback (most recent call last)",
      "Input \u001b[0;32mIn [26]\u001b[0m, in \u001b[0;36m<module>\u001b[0;34m\u001b[0m\n\u001b[1;32m      1\u001b[0m \u001b[38;5;66;03m# STEP 4: Re-write program now calling the function\u001b[39;00m\n\u001b[1;32m      2\u001b[0m \u001b[38;5;28;01mwhile\u001b[39;00m \u001b[38;5;28;01mTrue\u001b[39;00m:\n\u001b[0;32m----> 4\u001b[0m     length \u001b[38;5;241m=\u001b[39m \u001b[38;5;28;43mfloat\u001b[39;49m\u001b[43m(\u001b[49m\u001b[38;5;28;43minput\u001b[39;49m\u001b[43m(\u001b[49m\u001b[38;5;124;43m\"\u001b[39;49m\u001b[38;5;124;43mEnter length of Yard: \u001b[39;49m\u001b[38;5;124;43m\"\u001b[39;49m\u001b[43m)\u001b[49m\u001b[43m)\u001b[49m\n\u001b[1;32m      5\u001b[0m     width \u001b[38;5;241m=\u001b[39m \u001b[38;5;28mfloat\u001b[39m(\u001b[38;5;28minput\u001b[39m(\u001b[38;5;124m\"\u001b[39m\u001b[38;5;124mEnter width of Yard: \u001b[39m\u001b[38;5;124m\"\u001b[39m))\n\u001b[1;32m      6\u001b[0m     perimeter, sections \u001b[38;5;241m=\u001b[39m fence_calc(length,width)\n",
      "\u001b[0;31mValueError\u001b[0m: could not convert string to float: 'you suck'"
     ]
    }
   ],
   "source": [
    "# STEP 4: Re-write program now calling the function\n",
    "while True:\n",
    "\n",
    "    length = float(input(\"Enter length of Yard: \"))\n",
    "    width = float(input(\"Enter width of Yard: \"))\n",
    "    perimeter, sections = fence_calc(length,width)\n",
    "    print(f\"Fence Perimeter: {perimeter}\")\n",
    "    print(f\"{sections} six foot sections are required.\")\n",
    "    again = input(\"Run Again? \")\n",
    "    if again == \"n\":\n",
    "        break"
   ]
  },
  {
   "cell_type": "code",
   "execution_count": 28,
   "metadata": {},
   "outputs": [
    {
     "data": {
      "text/html": [
       "<h1>Fred's Fence Calculator</h1>"
      ],
      "text/plain": [
       "<IPython.core.display.HTML object>"
      ]
     },
     "metadata": {},
     "output_type": "display_data"
    },
    {
     "data": {
      "application/vnd.jupyter.widget-view+json": {
       "model_id": "a74fe0e600ca41258cdcc58f5eaec131",
       "version_major": 2,
       "version_minor": 0
      },
      "text/plain": [
       "interactive(children=(IntSlider(value=48, description='length', step=6), FloatSlider(value=50.0, description='…"
      ]
     },
     "metadata": {},
     "output_type": "display_data"
    }
   ],
   "source": [
    "# STEP 4: Another re-write using a complete different approach for input and output\n",
    "# notice how the logic of this program is essentially the same!\n",
    "# this is the point of functions! Reuse!!!!!\n",
    "\n",
    "from IPython.display import display, HTML # Notebook output\n",
    "from ipywidgets import interact_manual,interact  # notebook input\n",
    "\n",
    "display(HTML(\"<h1>Fred's Fence Calculator</h1>\"))\n",
    "@interact(length=(0,100,6), width=(0,100) )\n",
    "def main(length, width):\n",
    "    perimeter, sections = fence_calc(length, width)\n",
    "    display(f\"Total Fence Length: {perimeter}\")\n",
    "    display(f\"Number of 6ft sections required: {sections}\")"
   ]
  },
  {
   "cell_type": "code",
   "execution_count": 22,
   "metadata": {},
   "outputs": [
    {
     "data": {
      "application/vnd.jupyter.widget-view+json": {
       "model_id": "86433da538054c06bb0943b4de001407",
       "version_major": 2,
       "version_minor": 0
      },
      "text/plain": [
       "interactive(children=(Text(value='', description='name'), Dropdown(description='major', options=('Basket Weavi…"
      ]
     },
     "metadata": {},
     "output_type": "display_data"
    }
   ],
   "source": [
    "#INPUT: name and major\n",
    "#OUTPUT: Hello {name} {major} is a great major \n",
    "\n",
    "majors = [\"Basket Weaving\", \"Ballroom Dancing\", \"Accounting\"]\n",
    "@interact_manual(name=\"\",major=majors)\n",
    "def doit(name,major):\n",
    "    display(f\"Hello {name}, {major} is a great major!\")"
   ]
  },
  {
   "cell_type": "code",
   "execution_count": 19,
   "metadata": {},
   "outputs": [
    {
     "data": {
      "text/plain": [
       "'Hello Mike, Geology is a great major!'"
      ]
     },
     "metadata": {},
     "output_type": "display_data"
    }
   ],
   "source": [
    "doit(\"Mike\",\"Geology\")"
   ]
  },
  {
   "cell_type": "code",
   "execution_count": null,
   "metadata": {},
   "outputs": [],
   "source": []
  }
 ],
 "metadata": {
  "kernelspec": {
   "display_name": "Python 3 (ipykernel)",
   "language": "python",
   "name": "python3"
  },
  "language_info": {
   "codemirror_mode": {
    "name": "ipython",
    "version": 3
   },
   "file_extension": ".py",
   "mimetype": "text/x-python",
   "name": "python",
   "nbconvert_exporter": "python",
   "pygments_lexer": "ipython3",
   "version": "3.9.7"
  },
  "varInspector": {
   "cols": {
    "lenName": 16,
    "lenType": 16,
    "lenVar": 40
   },
   "kernels_config": {
    "python": {
     "delete_cmd_postfix": "",
     "delete_cmd_prefix": "del ",
     "library": "var_list.py",
     "varRefreshCmd": "print(var_dic_list())"
    },
    "r": {
     "delete_cmd_postfix": ") ",
     "delete_cmd_prefix": "rm(",
     "library": "var_list.r",
     "varRefreshCmd": "cat(var_dic_list()) "
    }
   },
   "types_to_exclude": [
    "module",
    "function",
    "builtin_function_or_method",
    "instance",
    "_Feature"
   ],
   "window_display": false
  }
 },
 "nbformat": 4,
 "nbformat_minor": 4
}
