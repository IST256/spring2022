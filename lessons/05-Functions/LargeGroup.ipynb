{
 "cells": [
  {
   "cell_type": "markdown",
   "metadata": {},
   "source": [
    "# Code Samples From Large Group\n"
   ]
  },
  {
   "cell_type": "code",
   "execution_count": null,
   "metadata": {},
   "outputs": [],
   "source": [
    "mike.speak(\"Hello\")\n",
    "profnosky.speak(\"Do your homework\")"
   ]
  },
  {
   "cell_type": "code",
   "execution_count": 2,
   "metadata": {},
   "outputs": [
    {
     "data": {
      "text/plain": [
       "100"
      ]
     },
     "execution_count": 2,
     "metadata": {},
     "output_type": "execute_result"
    }
   ],
   "source": [
    "int(\"100\")"
   ]
  },
  {
   "cell_type": "code",
   "execution_count": 3,
   "metadata": {},
   "outputs": [],
   "source": [
    "import getpass"
   ]
  },
  {
   "cell_type": "code",
   "execution_count": 5,
   "metadata": {},
   "outputs": [],
   "source": [
    "import time"
   ]
  },
  {
   "cell_type": "code",
   "execution_count": 6,
   "metadata": {},
   "outputs": [
    {
     "data": {
      "text/plain": [
       "['In',\n",
       " 'NamespaceMagics',\n",
       " 'Out',\n",
       " '_',\n",
       " '_1',\n",
       " '_2',\n",
       " '_Jupyter',\n",
       " '__',\n",
       " '___',\n",
       " '__builtin__',\n",
       " '__builtins__',\n",
       " '__doc__',\n",
       " '__loader__',\n",
       " '__name__',\n",
       " '__package__',\n",
       " '__spec__',\n",
       " '_dh',\n",
       " '_getshapeof',\n",
       " '_getsizeof',\n",
       " '_i',\n",
       " '_i1',\n",
       " '_i2',\n",
       " '_i3',\n",
       " '_i4',\n",
       " '_i5',\n",
       " '_i6',\n",
       " '_ih',\n",
       " '_ii',\n",
       " '_iii',\n",
       " '_nms',\n",
       " '_oh',\n",
       " 'exit',\n",
       " 'get_ipython',\n",
       " 'getpass',\n",
       " 'getsizeof',\n",
       " 'json',\n",
       " 'np',\n",
       " 'quit',\n",
       " 'time',\n",
       " 'var_dic_list']"
      ]
     },
     "execution_count": 6,
     "metadata": {},
     "output_type": "execute_result"
    }
   ],
   "source": [
    "dir()"
   ]
  },
  {
   "cell_type": "code",
   "execution_count": 7,
   "metadata": {},
   "outputs": [],
   "source": [
    "import math"
   ]
  },
  {
   "cell_type": "code",
   "execution_count": 8,
   "metadata": {},
   "outputs": [
    {
     "data": {
      "text/plain": [
       "['In',\n",
       " 'NamespaceMagics',\n",
       " 'Out',\n",
       " '_',\n",
       " '_1',\n",
       " '_2',\n",
       " '_6',\n",
       " '_Jupyter',\n",
       " '__',\n",
       " '___',\n",
       " '__builtin__',\n",
       " '__builtins__',\n",
       " '__doc__',\n",
       " '__loader__',\n",
       " '__name__',\n",
       " '__package__',\n",
       " '__spec__',\n",
       " '_dh',\n",
       " '_getshapeof',\n",
       " '_getsizeof',\n",
       " '_i',\n",
       " '_i1',\n",
       " '_i2',\n",
       " '_i3',\n",
       " '_i4',\n",
       " '_i5',\n",
       " '_i6',\n",
       " '_i7',\n",
       " '_i8',\n",
       " '_ih',\n",
       " '_ii',\n",
       " '_iii',\n",
       " '_nms',\n",
       " '_oh',\n",
       " 'exit',\n",
       " 'get_ipython',\n",
       " 'getpass',\n",
       " 'getsizeof',\n",
       " 'json',\n",
       " 'math',\n",
       " 'np',\n",
       " 'quit',\n",
       " 'time',\n",
       " 'var_dic_list']"
      ]
     },
     "execution_count": 8,
     "metadata": {},
     "output_type": "execute_result"
    }
   ],
   "source": [
    "dir()"
   ]
  },
  {
   "cell_type": "code",
   "execution_count": 9,
   "metadata": {},
   "outputs": [
    {
     "data": {
      "text/plain": [
       "['GetPassWarning',\n",
       " '__all__',\n",
       " '__builtins__',\n",
       " '__cached__',\n",
       " '__doc__',\n",
       " '__file__',\n",
       " '__loader__',\n",
       " '__name__',\n",
       " '__package__',\n",
       " '__spec__',\n",
       " '_raw_input',\n",
       " 'contextlib',\n",
       " 'fallback_getpass',\n",
       " 'getpass',\n",
       " 'getuser',\n",
       " 'io',\n",
       " 'os',\n",
       " 'sys',\n",
       " 'termios',\n",
       " 'unix_getpass',\n",
       " 'warnings',\n",
       " 'win_getpass']"
      ]
     },
     "execution_count": 9,
     "metadata": {},
     "output_type": "execute_result"
    }
   ],
   "source": [
    "dir(getpass)"
   ]
  },
  {
   "cell_type": "code",
   "execution_count": 10,
   "metadata": {},
   "outputs": [
    {
     "name": "stdout",
     "output_type": "stream",
     "text": [
      "Help on method getpass in module ipykernel.kernelbase:\n",
      "\n",
      "getpass(prompt='', stream=None) method of ipykernel.ipkernel.IPythonKernel instance\n",
      "    Forward getpass to frontends\n",
      "    \n",
      "    Raises\n",
      "    ------\n",
      "    StdinNotImplementedError if active frontend doesn't support stdin.\n",
      "\n"
     ]
    }
   ],
   "source": [
    "help(getpass.getpass)"
   ]
  },
  {
   "cell_type": "code",
   "execution_count": 11,
   "metadata": {},
   "outputs": [
    {
     "name": "stdout",
     "output_type": "stream",
     "text": [
      "········\n"
     ]
    },
    {
     "data": {
      "text/plain": [
       "'This is asecret'"
      ]
     },
     "execution_count": 11,
     "metadata": {},
     "output_type": "execute_result"
    }
   ],
   "source": [
    "getpass.getpass()"
   ]
  },
  {
   "cell_type": "code",
   "execution_count": 12,
   "metadata": {},
   "outputs": [
    {
     "name": "stdout",
     "output_type": "stream",
     "text": [
      "Enter a secret········\n"
     ]
    }
   ],
   "source": [
    "secret = getpass.getpass(\"Enter a secret\")"
   ]
  },
  {
   "cell_type": "code",
   "execution_count": 13,
   "metadata": {},
   "outputs": [
    {
     "name": "stdout",
     "output_type": "stream",
     "text": [
      "I see dead people\n"
     ]
    }
   ],
   "source": [
    "print(secret)"
   ]
  },
  {
   "cell_type": "code",
   "execution_count": 14,
   "metadata": {},
   "outputs": [
    {
     "data": {
      "text/plain": [
       "['__doc__',\n",
       " '__file__',\n",
       " '__loader__',\n",
       " '__name__',\n",
       " '__package__',\n",
       " '__spec__',\n",
       " 'acos',\n",
       " 'acosh',\n",
       " 'asin',\n",
       " 'asinh',\n",
       " 'atan',\n",
       " 'atan2',\n",
       " 'atanh',\n",
       " 'ceil',\n",
       " 'comb',\n",
       " 'copysign',\n",
       " 'cos',\n",
       " 'cosh',\n",
       " 'degrees',\n",
       " 'dist',\n",
       " 'e',\n",
       " 'erf',\n",
       " 'erfc',\n",
       " 'exp',\n",
       " 'expm1',\n",
       " 'fabs',\n",
       " 'factorial',\n",
       " 'floor',\n",
       " 'fmod',\n",
       " 'frexp',\n",
       " 'fsum',\n",
       " 'gamma',\n",
       " 'gcd',\n",
       " 'hypot',\n",
       " 'inf',\n",
       " 'isclose',\n",
       " 'isfinite',\n",
       " 'isinf',\n",
       " 'isnan',\n",
       " 'isqrt',\n",
       " 'lcm',\n",
       " 'ldexp',\n",
       " 'lgamma',\n",
       " 'log',\n",
       " 'log10',\n",
       " 'log1p',\n",
       " 'log2',\n",
       " 'modf',\n",
       " 'nan',\n",
       " 'nextafter',\n",
       " 'perm',\n",
       " 'pi',\n",
       " 'pow',\n",
       " 'prod',\n",
       " 'radians',\n",
       " 'remainder',\n",
       " 'sin',\n",
       " 'sinh',\n",
       " 'sqrt',\n",
       " 'tan',\n",
       " 'tanh',\n",
       " 'tau',\n",
       " 'trunc',\n",
       " 'ulp']"
      ]
     },
     "execution_count": 14,
     "metadata": {},
     "output_type": "execute_result"
    }
   ],
   "source": [
    "dir(math)"
   ]
  },
  {
   "cell_type": "code",
   "execution_count": 15,
   "metadata": {},
   "outputs": [
    {
     "name": "stdout",
     "output_type": "stream",
     "text": [
      "Help on built-in function sqrt in module math:\n",
      "\n",
      "sqrt(x, /)\n",
      "    Return the square root of x.\n",
      "\n"
     ]
    }
   ],
   "source": [
    "help(math.sqrt)"
   ]
  },
  {
   "cell_type": "code",
   "execution_count": 16,
   "metadata": {},
   "outputs": [
    {
     "data": {
      "text/plain": [
       "4.0"
      ]
     },
     "execution_count": 16,
     "metadata": {},
     "output_type": "execute_result"
    }
   ],
   "source": [
    "math.sqrt(16)"
   ]
  },
  {
   "cell_type": "code",
   "execution_count": 17,
   "metadata": {},
   "outputs": [
    {
     "name": "stdout",
     "output_type": "stream",
     "text": [
      "Requirement already satisfied: gtts in /opt/conda/lib/python3.9/site-packages (2.2.3)\n",
      "Requirement already satisfied: click in /opt/conda/lib/python3.9/site-packages (from gtts) (8.0.3)\n",
      "Requirement already satisfied: six in /opt/conda/lib/python3.9/site-packages (from gtts) (1.16.0)\n",
      "Requirement already satisfied: requests in /opt/conda/lib/python3.9/site-packages (from gtts) (2.27.1)\n",
      "Requirement already satisfied: urllib3<1.27,>=1.21.1 in /opt/conda/lib/python3.9/site-packages (from requests->gtts) (1.26.8)\n",
      "Requirement already satisfied: certifi>=2017.4.17 in /opt/conda/lib/python3.9/site-packages (from requests->gtts) (2021.10.8)\n",
      "Requirement already satisfied: idna<4,>=2.5 in /opt/conda/lib/python3.9/site-packages (from requests->gtts) (3.3)\n",
      "Requirement already satisfied: charset-normalizer~=2.0.0 in /opt/conda/lib/python3.9/site-packages (from requests->gtts) (2.0.11)\n"
     ]
    }
   ],
   "source": [
    "!pip install gtts"
   ]
  },
  {
   "cell_type": "code",
   "execution_count": 19,
   "metadata": {},
   "outputs": [],
   "source": [
    "from gtts import gTTS\n",
    "something = gTTS(\"Hello there sexy!\")\n",
    "something.save(\"hello.mp3\")\n",
    "\n",
    "from IPython.display import display, Audio\n",
    "\n",
    "display(Audio(\"hello.mp3\"))"
   ]
  },
  {
   "cell_type": "code",
   "execution_count": 21,
   "metadata": {},
   "outputs": [
    {
     "data": {
      "text/html": [
       "\n",
       "                <audio  controls=\"controls\" >\n",
       "                    <source src=\"data:audio/mpeg;base64,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\" type=\"audio/mpeg\" />\n",
       "                    Your browser does not support the audio element.\n",
       "                </audio>\n",
       "              "
      ],
      "text/plain": [
       "<IPython.lib.display.Audio object>"
      ]
     },
     "metadata": {},
     "output_type": "display_data"
    }
   ],
   "source": []
  },
  {
   "cell_type": "code",
   "execution_count": 22,
   "metadata": {},
   "outputs": [
    {
     "name": "stdout",
     "output_type": "stream",
     "text": [
      "dfsh\n"
     ]
    },
    {
     "data": {
      "text/plain": [
       "'dfsh'"
      ]
     },
     "execution_count": 22,
     "metadata": {},
     "output_type": "execute_result"
    }
   ],
   "source": [
    "input()"
   ]
  },
  {
   "cell_type": "code",
   "execution_count": 24,
   "metadata": {},
   "outputs": [
    {
     "name": "stdout",
     "output_type": "stream",
     "text": [
      "Enter the grade: 45\n",
      "C\n"
     ]
    }
   ],
   "source": [
    "grade = int(input(\"Enter the grade: \"))\n",
    "letter = \"\"\n",
    "\n",
    "\n",
    "if grade >=125:\n",
    "    letter= \"A\"\n",
    "elif grade >=100:\n",
    "    letter =\"B\"\n",
    "else:\n",
    "    letter = \"C\"\n",
    "    \n",
    "\n",
    "print(letter)    "
   ]
  },
  {
   "cell_type": "code",
   "execution_count": 38,
   "metadata": {},
   "outputs": [
    {
     "name": "stdout",
     "output_type": "stream",
     "text": [
      "When numberGrade=145 Expect=A, Actual= A\n",
      "When numberGrade=102 Expect=B, Actual= B\n"
     ]
    },
    {
     "ename": "AssertionError",
     "evalue": "",
     "output_type": "error",
     "traceback": [
      "\u001b[0;31m---------------------------------------------------------------------------\u001b[0m",
      "\u001b[0;31mAssertionError\u001b[0m                            Traceback (most recent call last)",
      "Input \u001b[0;32mIn [38]\u001b[0m, in \u001b[0;36m<module>\u001b[0;34m\u001b[0m\n\u001b[1;32m     15\u001b[0m \u001b[38;5;28mprint\u001b[39m(\u001b[38;5;124m\"\u001b[39m\u001b[38;5;124mWhen numberGrade=145 Expect=A, Actual=\u001b[39m\u001b[38;5;124m\"\u001b[39m, calcLetterGrade(\u001b[38;5;241m145\u001b[39m))\n\u001b[1;32m     16\u001b[0m \u001b[38;5;28mprint\u001b[39m(\u001b[38;5;124m\"\u001b[39m\u001b[38;5;124mWhen numberGrade=102 Expect=B, Actual=\u001b[39m\u001b[38;5;124m\"\u001b[39m, calcLetterGrade(\u001b[38;5;241m102\u001b[39m))\n\u001b[0;32m---> 18\u001b[0m \u001b[38;5;28;01massert\u001b[39;00m calcLetterGrade(\u001b[38;5;241m50\u001b[39m)\u001b[38;5;241m==\u001b[39m\u001b[38;5;124m\"\u001b[39m\u001b[38;5;124mB\u001b[39m\u001b[38;5;124m\"\u001b[39m\n",
      "\u001b[0;31mAssertionError\u001b[0m: "
     ]
    }
   ],
   "source": [
    "def calcLetterGrade(numberGrade):\n",
    "    '''\n",
    "    enter a numberGrade as input and this will return back a letter grade \"A\", \"B\", or \"C\"\n",
    "    '''\n",
    "    if numberGrade>=125:\n",
    "        letter = \"A\"\n",
    "    elif numberGrade >=100:\n",
    "        letter = \"B\"\n",
    "    else:\n",
    "        letter = \"C\"\n",
    "    \n",
    "    return letter\n",
    "    \n",
    "    \n",
    "print(\"When numberGrade=145 Expect=A, Actual=\", calcLetterGrade(145))\n",
    "print(\"When numberGrade=102 Expect=B, Actual=\", calcLetterGrade(102))\n",
    "\n",
    "assert calcLetterGrade(50)==\"B\""
   ]
  },
  {
   "cell_type": "code",
   "execution_count": 30,
   "metadata": {},
   "outputs": [
    {
     "name": "stdout",
     "output_type": "stream",
     "text": [
      "Help on function calcLetterGrade in module __main__:\n",
      "\n",
      "calcLetterGrade(numberGrade)\n",
      "    enter a numberGrade as input and this will return back a letter grade \"A\", \"B\", or \"C\"\n",
      "\n"
     ]
    }
   ],
   "source": [
    "help(calcLetterGrade)"
   ]
  },
  {
   "cell_type": "code",
   "execution_count": 31,
   "metadata": {},
   "outputs": [
    {
     "data": {
      "text/plain": [
       "'A'"
      ]
     },
     "execution_count": 31,
     "metadata": {},
     "output_type": "execute_result"
    }
   ],
   "source": [
    "calcLetterGrade(145)"
   ]
  },
  {
   "cell_type": "code",
   "execution_count": 32,
   "metadata": {},
   "outputs": [
    {
     "data": {
      "text/plain": [
       "'C'"
      ]
     },
     "execution_count": 32,
     "metadata": {},
     "output_type": "execute_result"
    }
   ],
   "source": [
    "calcLetterGrade(45)"
   ]
  },
  {
   "cell_type": "code",
   "execution_count": 46,
   "metadata": {},
   "outputs": [
    {
     "name": "stdout",
     "output_type": "stream",
     "text": [
      "Enter something to say!: hello there\n"
     ]
    },
    {
     "data": {
      "text/html": [
       "\n",
       "                <audio  controls=\"controls\" autoplay=\"autoplay\">\n",
       "                    <source src=\"data:audio/mpeg;base64,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\" type=\"audio/mpeg\" />\n",
       "                    Your browser does not support the audio element.\n",
       "                </audio>\n",
       "              "
      ],
      "text/plain": [
       "<IPython.lib.display.Audio object>"
      ]
     },
     "metadata": {},
     "output_type": "display_data"
    }
   ],
   "source": [
    "from gtts import gTTS\n",
    "from IPython.display import display, Audio\n",
    "\n",
    "\n",
    "def speakit(text):\n",
    "    g = gTTS(text,lang=\"en-UK\")\n",
    "    g.save(\"speakit.mp3\")\n",
    "    return Audio(\"speakit.mp3\",autoplay=True)\n",
    "\n",
    "\n",
    "display(speakit(input(\"Enter something to say!: \")))"
   ]
  },
  {
   "cell_type": "code",
   "execution_count": 43,
   "metadata": {},
   "outputs": [
    {
     "name": "stdout",
     "output_type": "stream",
     "text": [
      "Help on class gTTS in module gtts.tts:\n",
      "\n",
      "class gTTS(builtins.object)\n",
      " |  gTTS(text, tld='com', lang='en', slow=False, lang_check=True, pre_processor_funcs=[<function tone_marks at 0x7f2b120a9af0>, <function end_of_line at 0x7f2b1207b3a0>, <function abbreviations at 0x7f2b1207b430>, <function word_sub at 0x7f2b1207b4c0>], tokenizer_func=<bound method Tokenizer.run of re.compile('(?<=\\\\?).|(?<=!).|(?<=？).|(?<=！).|(?<!\\\\.[a-z])\\\\. |(?<!\\\\.[a-z]), |(?<!\\\\d):|。|،|—|\\\\(|\\\\\\n|\\\\]|\\\\[|¿|…|：|‥|;|、|\\\\)|，|¡', re.IGNORECASE) from: [<function tone_marks at 0x7f2b1207b5e0>, <function period_comma at 0x7f2b1207b670>, <function colon at 0x7f2b1207b700>, <function other_punctuation at 0x7f2b1207b790>]>)\n",
      " |  \n",
      " |  gTTS -- Google Text-to-Speech.\n",
      " |  \n",
      " |  An interface to Google Translate's Text-to-Speech API.\n",
      " |  \n",
      " |  Args:\n",
      " |      text (string): The text to be read.\n",
      " |      tld (string): Top-level domain for the Google Translate host,\n",
      " |          i.e `https://translate.google.<tld>`. Different Google domains\n",
      " |          can produce different localized 'accents' for a given\n",
      " |          language. This is also useful when ``google.com`` might be blocked\n",
      " |          within a network but a local or different Google host\n",
      " |          (e.g. ``google.cn``) is not. Default is ``com``.\n",
      " |      lang (string, optional): The language (IETF language tag) to\n",
      " |          read the text in. Default is ``en``.\n",
      " |      slow (bool, optional): Reads text more slowly. Defaults to ``False``.\n",
      " |      lang_check (bool, optional): Strictly enforce an existing ``lang``,\n",
      " |          to catch a language error early. If set to ``True``,\n",
      " |          a ``ValueError`` is raised if ``lang`` doesn't exist.\n",
      " |          Setting ``lang_check`` to ``False`` skips Web requests\n",
      " |          (to validate language) and therefore speeds up instanciation.\n",
      " |          Default is ``True``.\n",
      " |      pre_processor_funcs (list): A list of zero or more functions that are\n",
      " |          called to transform (pre-process) text before tokenizing. Those\n",
      " |          functions must take a string and return a string. Defaults to::\n",
      " |  \n",
      " |              [\n",
      " |                  pre_processors.tone_marks,\n",
      " |                  pre_processors.end_of_line,\n",
      " |                  pre_processors.abbreviations,\n",
      " |                  pre_processors.word_sub\n",
      " |              ]\n",
      " |  \n",
      " |      tokenizer_func (callable): A function that takes in a string and\n",
      " |          returns a list of string (tokens). Defaults to::\n",
      " |  \n",
      " |              Tokenizer([\n",
      " |                  tokenizer_cases.tone_marks,\n",
      " |                  tokenizer_cases.period_comma,\n",
      " |                  tokenizer_cases.colon,\n",
      " |                  tokenizer_cases.other_punctuation\n",
      " |              ]).run\n",
      " |  \n",
      " |  See Also:\n",
      " |      :doc:`Pre-processing and tokenizing <tokenizer>`\n",
      " |  \n",
      " |  Raises:\n",
      " |      AssertionError: When ``text`` is ``None`` or empty; when there's nothing\n",
      " |          left to speak after pre-precessing, tokenizing and cleaning.\n",
      " |      ValueError: When ``lang_check`` is ``True`` and ``lang`` is not supported.\n",
      " |      RuntimeError: When ``lang_check`` is ``True`` but there's an error loading\n",
      " |          the languages dictionary.\n",
      " |  \n",
      " |  Methods defined here:\n",
      " |  \n",
      " |  __init__(self, text, tld='com', lang='en', slow=False, lang_check=True, pre_processor_funcs=[<function tone_marks at 0x7f2b120a9af0>, <function end_of_line at 0x7f2b1207b3a0>, <function abbreviations at 0x7f2b1207b430>, <function word_sub at 0x7f2b1207b4c0>], tokenizer_func=<bound method Tokenizer.run of re.compile('(?<=\\\\?).|(?<=!).|(?<=？).|(?<=！).|(?<!\\\\.[a-z])\\\\. |(?<!\\\\.[a-z]), |(?<!\\\\d):|。|،|—|\\\\(|\\\\\\n|\\\\]|\\\\[|¿|…|：|‥|;|、|\\\\)|，|¡', re.IGNORECASE) from: [<function tone_marks at 0x7f2b1207b5e0>, <function period_comma at 0x7f2b1207b670>, <function colon at 0x7f2b1207b700>, <function other_punctuation at 0x7f2b1207b790>]>)\n",
      " |      Initialize self.  See help(type(self)) for accurate signature.\n",
      " |  \n",
      " |  get_bodies(self)\n",
      " |      Get TTS API request bodies(s) that would be sent to the TTS API.\n",
      " |      \n",
      " |      Returns:\n",
      " |          list: A list of TTS API request bodiess to make.\n",
      " |  \n",
      " |  save(self, savefile)\n",
      " |      Do the TTS API request and write result to file.\n",
      " |      \n",
      " |      Args:\n",
      " |          savefile (string): The path and file name to save the ``mp3`` to.\n",
      " |      \n",
      " |      Raises:\n",
      " |          :class:`gTTSError`: When there's an error with the API request.\n",
      " |  \n",
      " |  write_to_fp(self, fp)\n",
      " |      Do the TTS API request(s) and write bytes to a file-like object.\n",
      " |      \n",
      " |      Args:\n",
      " |          fp (file object): Any file-like object to write the ``mp3`` to.\n",
      " |      \n",
      " |      Raises:\n",
      " |          :class:`gTTSError`: When there's an error with the API request.\n",
      " |          TypeError: When ``fp`` is not a file-like object that takes bytes.\n",
      " |  \n",
      " |  ----------------------------------------------------------------------\n",
      " |  Data descriptors defined here:\n",
      " |  \n",
      " |  __dict__\n",
      " |      dictionary for instance variables (if defined)\n",
      " |  \n",
      " |  __weakref__\n",
      " |      list of weak references to the object (if defined)\n",
      " |  \n",
      " |  ----------------------------------------------------------------------\n",
      " |  Data and other attributes defined here:\n",
      " |  \n",
      " |  GOOGLE_TTS_HEADERS = {'Content-Type': 'application/x-www-form-urlencod...\n",
      " |  \n",
      " |  GOOGLE_TTS_MAX_CHARS = 100\n",
      " |  \n",
      " |  GOOGLE_TTS_RPC = 'jQ1olc'\n",
      "\n"
     ]
    }
   ],
   "source": [
    "help(gTTS)"
   ]
  },
  {
   "cell_type": "code",
   "execution_count": null,
   "metadata": {},
   "outputs": [],
   "source": []
  }
 ],
 "metadata": {
  "kernelspec": {
   "display_name": "Python 3 (ipykernel)",
   "language": "python",
   "name": "python3"
  },
  "language_info": {
   "codemirror_mode": {
    "name": "ipython",
    "version": 3
   },
   "file_extension": ".py",
   "mimetype": "text/x-python",
   "name": "python",
   "nbconvert_exporter": "python",
   "pygments_lexer": "ipython3",
   "version": "3.9.7"
  },
  "varInspector": {
   "cols": {
    "lenName": 16,
    "lenType": 16,
    "lenVar": 40
   },
   "kernels_config": {
    "python": {
     "delete_cmd_postfix": "",
     "delete_cmd_prefix": "del ",
     "library": "var_list.py",
     "varRefreshCmd": "print(var_dic_list())"
    },
    "r": {
     "delete_cmd_postfix": ") ",
     "delete_cmd_prefix": "rm(",
     "library": "var_list.r",
     "varRefreshCmd": "cat(var_dic_list()) "
    }
   },
   "position": {
    "height": "209.852px",
    "left": "603.5px",
    "right": "20px",
    "top": "120px",
    "width": "329px"
   },
   "types_to_exclude": [
    "module",
    "function",
    "builtin_function_or_method",
    "instance",
    "_Feature"
   ],
   "window_display": false
  }
 },
 "nbformat": 4,
 "nbformat_minor": 4
}
