{
 "cells": [
  {
   "cell_type": "markdown",
   "metadata": {},
   "source": [
    "# Code Samples From Large Group\n"
   ]
  },
  {
   "cell_type": "code",
   "execution_count": 1,
   "metadata": {},
   "outputs": [
    {
     "ename": "ValueError",
     "evalue": "invalid literal for int() with base 10: '9.999'",
     "output_type": "error",
     "traceback": [
      "\u001b[0;31m---------------------------------------------------------------------------\u001b[0m",
      "\u001b[0;31mValueError\u001b[0m                                Traceback (most recent call last)",
      "\u001b[0;32m/tmp/ipykernel_457/706540659.py\u001b[0m in \u001b[0;36m<module>\u001b[0;34m\u001b[0m\n\u001b[0;32m----> 1\u001b[0;31m \u001b[0mint\u001b[0m\u001b[0;34m(\u001b[0m\u001b[0;34m\"9.999\"\u001b[0m\u001b[0;34m)\u001b[0m\u001b[0;34m\u001b[0m\u001b[0;34m\u001b[0m\u001b[0m\n\u001b[0m",
      "\u001b[0;31mValueError\u001b[0m: invalid literal for int() with base 10: '9.999'"
     ]
    }
   ],
   "source": [
    "int(\"9.999\")"
   ]
  },
  {
   "cell_type": "code",
   "execution_count": 2,
   "metadata": {},
   "outputs": [
    {
     "data": {
      "text/plain": [
       "9"
      ]
     },
     "execution_count": 2,
     "metadata": {},
     "output_type": "execute_result"
    }
   ],
   "source": [
    "int(9.9999)"
   ]
  },
  {
   "cell_type": "code",
   "execution_count": 3,
   "metadata": {},
   "outputs": [
    {
     "data": {
      "text/plain": [
       "9"
      ]
     },
     "execution_count": 3,
     "metadata": {},
     "output_type": "execute_result"
    }
   ],
   "source": [
    "int(float(\"9.9999\"))"
   ]
  },
  {
   "cell_type": "code",
   "execution_count": 4,
   "metadata": {},
   "outputs": [
    {
     "data": {
      "text/plain": [
       "50"
      ]
     },
     "execution_count": 4,
     "metadata": {},
     "output_type": "execute_result"
    }
   ],
   "source": [
    "int(\"50\")"
   ]
  },
  {
   "cell_type": "code",
   "execution_count": 18,
   "metadata": {},
   "outputs": [],
   "source": [
    "def addup(a,b,c,d):\n",
    "    '''\n",
    "    Given numbers a,b,c and d this add them up and return the sum.\n",
    "    '''\n",
    "    total = a + b + c + d\n",
    "    return total "
   ]
  },
  {
   "cell_type": "code",
   "execution_count": 6,
   "metadata": {},
   "outputs": [],
   "source": [
    "import random"
   ]
  },
  {
   "cell_type": "code",
   "execution_count": 15,
   "metadata": {},
   "outputs": [
    {
     "name": "stdout",
     "output_type": "stream",
     "text": [
      "Help on method randint in module random:\n",
      "\n",
      "randint(a, b) method of random.Random instance\n",
      "    Return random integer in range [a, b], including both end points.\n",
      "\n"
     ]
    }
   ],
   "source": [
    "help(random.randint)"
   ]
  },
  {
   "cell_type": "code",
   "execution_count": 13,
   "metadata": {},
   "outputs": [
    {
     "data": {
      "text/plain": [
       "3"
      ]
     },
     "execution_count": 13,
     "metadata": {},
     "output_type": "execute_result"
    }
   ],
   "source": [
    "random.randint(1,5)"
   ]
  },
  {
   "cell_type": "code",
   "execution_count": null,
   "metadata": {},
   "outputs": [],
   "source": []
  },
  {
   "cell_type": "code",
   "execution_count": 19,
   "metadata": {},
   "outputs": [
    {
     "name": "stdout",
     "output_type": "stream",
     "text": [
      "Help on function addup in module __main__:\n",
      "\n",
      "addup(a, b, c, d)\n",
      "    Given numbers a,b,c and d this add them up and return the sum.\n",
      "\n"
     ]
    }
   ],
   "source": [
    "help(addup)"
   ]
  },
  {
   "cell_type": "code",
   "execution_count": 21,
   "metadata": {},
   "outputs": [
    {
     "data": {
      "text/plain": [
       "10"
      ]
     },
     "execution_count": 21,
     "metadata": {},
     "output_type": "execute_result"
    }
   ],
   "source": [
    "addup(1,2,3,4)"
   ]
  },
  {
   "cell_type": "code",
   "execution_count": 22,
   "metadata": {},
   "outputs": [
    {
     "name": "stdout",
     "output_type": "stream",
     "text": [
      "81.25\n"
     ]
    }
   ],
   "source": [
    "quiz1 = 100\n",
    "quiz2 = 50\n",
    "quiz3 = 75\n",
    "quiz4 = 100\n",
    "total = addup(quiz1,quiz3,quiz2,quiz4)\n",
    "print(total/4)"
   ]
  },
  {
   "cell_type": "markdown",
   "metadata": {},
   "source": [
    "# functions function rules\n",
    "\n",
    "- avoid input and output in function input(), print()\n",
    "- data in data out\n",
    "- avoid exception handling in your function definition `def`"
   ]
  },
  {
   "cell_type": "code",
   "execution_count": 23,
   "metadata": {},
   "outputs": [
    {
     "ename": "TypeError",
     "evalue": "unsupported operand type(s) for +: 'float' and 'str'",
     "output_type": "error",
     "traceback": [
      "\u001b[0;31m---------------------------------------------------------------------------\u001b[0m",
      "\u001b[0;31mTypeError\u001b[0m                                 Traceback (most recent call last)",
      "\u001b[0;32m/tmp/ipykernel_457/4260017618.py\u001b[0m in \u001b[0;36m<module>\u001b[0;34m\u001b[0m\n\u001b[0;32m----> 1\u001b[0;31m \u001b[0maddup\u001b[0m\u001b[0;34m(\u001b[0m\u001b[0;36m45.6\u001b[0m\u001b[0;34m,\u001b[0m \u001b[0;34m\"mike is awesome\"\u001b[0m\u001b[0;34m,\u001b[0m \u001b[0;36m10\u001b[0m\u001b[0;34m,\u001b[0m \u001b[0;32mTrue\u001b[0m\u001b[0;34m)\u001b[0m\u001b[0;34m\u001b[0m\u001b[0;34m\u001b[0m\u001b[0m\n\u001b[0m",
      "\u001b[0;32m/tmp/ipykernel_457/3620871761.py\u001b[0m in \u001b[0;36maddup\u001b[0;34m(a, b, c, d)\u001b[0m\n\u001b[1;32m      3\u001b[0m     \u001b[0mGiven\u001b[0m \u001b[0mnumbers\u001b[0m \u001b[0ma\u001b[0m\u001b[0;34m,\u001b[0m\u001b[0mb\u001b[0m\u001b[0;34m,\u001b[0m\u001b[0mc\u001b[0m \u001b[0;32mand\u001b[0m \u001b[0md\u001b[0m \u001b[0mthis\u001b[0m \u001b[0madd\u001b[0m \u001b[0mthem\u001b[0m \u001b[0mup\u001b[0m \u001b[0;32mand\u001b[0m \u001b[0;32mreturn\u001b[0m \u001b[0mthe\u001b[0m \u001b[0msum\u001b[0m\u001b[0;34m.\u001b[0m\u001b[0;34m\u001b[0m\u001b[0;34m\u001b[0m\u001b[0m\n\u001b[1;32m      4\u001b[0m     '''\n\u001b[0;32m----> 5\u001b[0;31m     \u001b[0mtotal\u001b[0m \u001b[0;34m=\u001b[0m \u001b[0ma\u001b[0m \u001b[0;34m+\u001b[0m \u001b[0mb\u001b[0m \u001b[0;34m+\u001b[0m \u001b[0mc\u001b[0m \u001b[0;34m+\u001b[0m \u001b[0md\u001b[0m\u001b[0;34m\u001b[0m\u001b[0;34m\u001b[0m\u001b[0m\n\u001b[0m\u001b[1;32m      6\u001b[0m     \u001b[0;32mreturn\u001b[0m \u001b[0mtotal\u001b[0m\u001b[0;34m\u001b[0m\u001b[0;34m\u001b[0m\u001b[0m\n",
      "\u001b[0;31mTypeError\u001b[0m: unsupported operand type(s) for +: 'float' and 'str'"
     ]
    }
   ],
   "source": [
    "addup(45.6, \"mike is awesome\", 10, True)"
   ]
  },
  {
   "cell_type": "code",
   "execution_count": 24,
   "metadata": {},
   "outputs": [],
   "source": [
    "def addup2(a,b,c,d):\n",
    "    '''\n",
    "    Given numbers a,b,c and d this add them up and return the sum.\n",
    "    '''\n",
    "    try:\n",
    "        total = a + b + c + d\n",
    "        return total \n",
    "    except:\n",
    "        print(\"Whoops Error!\")"
   ]
  },
  {
   "cell_type": "code",
   "execution_count": 25,
   "metadata": {},
   "outputs": [
    {
     "name": "stdout",
     "output_type": "stream",
     "text": [
      "Whoops Error!\n"
     ]
    }
   ],
   "source": [
    "addup2(\"mike\", 50, True , 56.23)"
   ]
  },
  {
   "cell_type": "code",
   "execution_count": 26,
   "metadata": {},
   "outputs": [],
   "source": [
    "import getpass\n"
   ]
  },
  {
   "cell_type": "code",
   "execution_count": 27,
   "metadata": {},
   "outputs": [
    {
     "data": {
      "text/plain": [
       "['In',\n",
       " 'NamespaceMagics',\n",
       " 'Out',\n",
       " '_',\n",
       " '_10',\n",
       " '_11',\n",
       " '_12',\n",
       " '_13',\n",
       " '_2',\n",
       " '_20',\n",
       " '_21',\n",
       " '_3',\n",
       " '_4',\n",
       " '_8',\n",
       " '_9',\n",
       " '_Jupyter',\n",
       " '__',\n",
       " '___',\n",
       " '__builtin__',\n",
       " '__builtins__',\n",
       " '__doc__',\n",
       " '__loader__',\n",
       " '__name__',\n",
       " '__package__',\n",
       " '__spec__',\n",
       " '_dh',\n",
       " '_getshapeof',\n",
       " '_getsizeof',\n",
       " '_i',\n",
       " '_i1',\n",
       " '_i10',\n",
       " '_i11',\n",
       " '_i12',\n",
       " '_i13',\n",
       " '_i14',\n",
       " '_i15',\n",
       " '_i16',\n",
       " '_i17',\n",
       " '_i18',\n",
       " '_i19',\n",
       " '_i2',\n",
       " '_i20',\n",
       " '_i21',\n",
       " '_i22',\n",
       " '_i23',\n",
       " '_i24',\n",
       " '_i25',\n",
       " '_i26',\n",
       " '_i27',\n",
       " '_i3',\n",
       " '_i4',\n",
       " '_i5',\n",
       " '_i6',\n",
       " '_i7',\n",
       " '_i8',\n",
       " '_i9',\n",
       " '_ih',\n",
       " '_ii',\n",
       " '_iii',\n",
       " '_nms',\n",
       " '_oh',\n",
       " 'addup',\n",
       " 'addup2',\n",
       " 'exit',\n",
       " 'get_ipython',\n",
       " 'getpass',\n",
       " 'getsizeof',\n",
       " 'json',\n",
       " 'np',\n",
       " 'quit',\n",
       " 'quiz1',\n",
       " 'quiz2',\n",
       " 'quiz3',\n",
       " 'quiz4',\n",
       " 'random',\n",
       " 'total',\n",
       " 'var_dic_list']"
      ]
     },
     "execution_count": 27,
     "metadata": {},
     "output_type": "execute_result"
    }
   ],
   "source": [
    "dir()"
   ]
  },
  {
   "cell_type": "code",
   "execution_count": 28,
   "metadata": {},
   "outputs": [
    {
     "data": {
      "text/plain": [
       "['GetPassWarning',\n",
       " '__all__',\n",
       " '__builtins__',\n",
       " '__cached__',\n",
       " '__doc__',\n",
       " '__file__',\n",
       " '__loader__',\n",
       " '__name__',\n",
       " '__package__',\n",
       " '__spec__',\n",
       " '_raw_input',\n",
       " 'contextlib',\n",
       " 'fallback_getpass',\n",
       " 'getpass',\n",
       " 'getuser',\n",
       " 'io',\n",
       " 'os',\n",
       " 'sys',\n",
       " 'termios',\n",
       " 'unix_getpass',\n",
       " 'warnings',\n",
       " 'win_getpass']"
      ]
     },
     "execution_count": 28,
     "metadata": {},
     "output_type": "execute_result"
    }
   ],
   "source": [
    "dir(getpass)"
   ]
  },
  {
   "cell_type": "code",
   "execution_count": 29,
   "metadata": {},
   "outputs": [
    {
     "name": "stdout",
     "output_type": "stream",
     "text": [
      "Help on method getpass in module ipykernel.kernelbase:\n",
      "\n",
      "getpass(prompt='', stream=None) method of ipykernel.ipkernel.IPythonKernel instance\n",
      "    Forward getpass to frontends\n",
      "    \n",
      "    Raises\n",
      "    ------\n",
      "    StdinNotImplementedError if active frontend doesn't support stdin.\n",
      "\n"
     ]
    }
   ],
   "source": [
    "help(getpass.getpass)"
   ]
  },
  {
   "cell_type": "code",
   "execution_count": 30,
   "metadata": {},
   "outputs": [
    {
     "name": "stdout",
     "output_type": "stream",
     "text": [
      "········\n"
     ]
    },
    {
     "data": {
      "text/plain": [
       "'kjfhkljhldfksjhgkjlhjhjkhkljhdksfljghkjsdfhkjghsdkjf'"
      ]
     },
     "execution_count": 30,
     "metadata": {},
     "output_type": "execute_result"
    }
   ],
   "source": [
    "getpass.getpass()\n"
   ]
  },
  {
   "cell_type": "code",
   "execution_count": 31,
   "metadata": {},
   "outputs": [
    {
     "name": "stdout",
     "output_type": "stream",
     "text": [
      "Enter your pin: ········\n"
     ]
    }
   ],
   "source": [
    "pin = getpass.getpass(\"Enter your pin: \")"
   ]
  },
  {
   "cell_type": "code",
   "execution_count": 32,
   "metadata": {},
   "outputs": [
    {
     "name": "stdout",
     "output_type": "stream",
     "text": [
      "1234\n"
     ]
    }
   ],
   "source": [
    "print(pin)"
   ]
  },
  {
   "cell_type": "code",
   "execution_count": 33,
   "metadata": {},
   "outputs": [
    {
     "name": "stdout",
     "output_type": "stream",
     "text": [
      "Requirement already satisfied: gtts in /opt/conda/lib/python3.9/site-packages (2.2.3)\r\n",
      "Requirement already satisfied: six in /opt/conda/lib/python3.9/site-packages (from gtts) (1.16.0)\r\n",
      "Requirement already satisfied: click in /opt/conda/lib/python3.9/site-packages (from gtts) (8.0.1)\r\n",
      "Requirement already satisfied: requests in /opt/conda/lib/python3.9/site-packages (from gtts) (2.26.0)\r\n",
      "Requirement already satisfied: idna<4,>=2.5 in /opt/conda/lib/python3.9/site-packages (from requests->gtts) (3.1)\r\n",
      "Requirement already satisfied: charset-normalizer~=2.0.0 in /opt/conda/lib/python3.9/site-packages (from requests->gtts) (2.0.0)\r\n",
      "Requirement already satisfied: certifi>=2017.4.17 in /opt/conda/lib/python3.9/site-packages (from requests->gtts) (2021.5.30)\r\n",
      "Requirement already satisfied: urllib3<1.27,>=1.21.1 in /opt/conda/lib/python3.9/site-packages (from requests->gtts) (1.26.6)\r\n"
     ]
    }
   ],
   "source": [
    "!pip install gtts"
   ]
  },
  {
   "cell_type": "code",
   "execution_count": 39,
   "metadata": {},
   "outputs": [],
   "source": [
    "from gtts import gTTS\n",
    "from IPython.display import display, Audio, HTML"
   ]
  },
  {
   "cell_type": "code",
   "execution_count": 35,
   "metadata": {},
   "outputs": [],
   "source": [
    "tts = gTTS(\"Hello, Mike!!!\")"
   ]
  },
  {
   "cell_type": "code",
   "execution_count": 36,
   "metadata": {},
   "outputs": [],
   "source": [
    "tts.save('hello.mp3')"
   ]
  },
  {
   "cell_type": "code",
   "execution_count": 38,
   "metadata": {},
   "outputs": [
    {
     "data": {
      "text/html": [
       "\n",
       "                <audio  controls=\"controls\" >\n",
       "                    <source src=\"data:audio/mpeg;base64,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\" type=\"audio/mpeg\" />\n",
       "                    Your browser does not support the audio element.\n",
       "                </audio>\n",
       "              "
      ],
      "text/plain": [
       "<IPython.lib.display.Audio object>"
      ]
     },
     "metadata": {},
     "output_type": "display_data"
    }
   ],
   "source": [
    "display(Audio(\"hello.mp3\"))"
   ]
  },
  {
   "cell_type": "code",
   "execution_count": 41,
   "metadata": {},
   "outputs": [
    {
     "data": {
      "text/html": [
       "<h1 style='color:blue;'>This is a blue header</h1>"
      ],
      "text/plain": [
       "<IPython.core.display.HTML object>"
      ]
     },
     "metadata": {},
     "output_type": "display_data"
    }
   ],
   "source": [
    "display(HTML(\"<h1 style='color:blue;'>This is a blue header</h1>\"))"
   ]
  },
  {
   "cell_type": "code",
   "execution_count": 42,
   "metadata": {},
   "outputs": [],
   "source": [
    "def text_to_speech(text):\n",
    "    '''\n",
    "    This converts text to speech\n",
    "    '''\n",
    "    tts = gTTS(text)\n",
    "    tts.save(\"translated.mp3\")\n",
    "    return Audio(\"translated.mp3\")\n",
    "\n"
   ]
  },
  {
   "cell_type": "code",
   "execution_count": 43,
   "metadata": {},
   "outputs": [
    {
     "data": {
      "text/html": [
       "\n",
       "                <audio  controls=\"controls\" >\n",
       "                    <source src=\"data:audio/mpeg;base64,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\" type=\"audio/mpeg\" />\n",
       "                    Your browser does not support the audio element.\n",
       "                </audio>\n",
       "              "
      ],
      "text/plain": [
       "<IPython.lib.display.Audio object>"
      ]
     },
     "metadata": {},
     "output_type": "display_data"
    }
   ],
   "source": [
    "speech = text_to_speech(\"This is a test.\")\n",
    "display(speech)"
   ]
  },
  {
   "cell_type": "code",
   "execution_count": 44,
   "metadata": {},
   "outputs": [
    {
     "name": "stdout",
     "output_type": "stream",
     "text": [
      "Help on class gTTS in module gtts.tts:\n",
      "\n",
      "class gTTS(builtins.object)\n",
      " |  gTTS(text, tld='com', lang='en', slow=False, lang_check=True, pre_processor_funcs=[<function tone_marks at 0x7eff58612790>, <function end_of_line at 0x7eff58612dc0>, <function abbreviations at 0x7eff58612e50>, <function word_sub at 0x7eff58612ee0>], tokenizer_func=<bound method Tokenizer.run of re.compile('(?<=\\\\?).|(?<=!).|(?<=？).|(?<=！).|(?<!\\\\.[a-z])\\\\. |(?<!\\\\.[a-z]), |(?<!\\\\d):|—|：|…|‥|。|;|\\\\)|\\\\]|、|¡|\\\\(|¿|،|，|\\\\[|\\\\\\n', re.IGNORECASE) from: [<function tone_marks at 0x7eff585bf0d0>, <function period_comma at 0x7eff585bf160>, <function colon at 0x7eff585bf1f0>, <function other_punctuation at 0x7eff585bf280>]>)\n",
      " |  \n",
      " |  gTTS -- Google Text-to-Speech.\n",
      " |  \n",
      " |  An interface to Google Translate's Text-to-Speech API.\n",
      " |  \n",
      " |  Args:\n",
      " |      text (string): The text to be read.\n",
      " |      tld (string): Top-level domain for the Google Translate host,\n",
      " |          i.e `https://translate.google.<tld>`. Different Google domains\n",
      " |          can produce different localized 'accents' for a given\n",
      " |          language. This is also useful when ``google.com`` might be blocked\n",
      " |          within a network but a local or different Google host\n",
      " |          (e.g. ``google.cn``) is not. Default is ``com``.\n",
      " |      lang (string, optional): The language (IETF language tag) to\n",
      " |          read the text in. Default is ``en``.\n",
      " |      slow (bool, optional): Reads text more slowly. Defaults to ``False``.\n",
      " |      lang_check (bool, optional): Strictly enforce an existing ``lang``,\n",
      " |          to catch a language error early. If set to ``True``,\n",
      " |          a ``ValueError`` is raised if ``lang`` doesn't exist.\n",
      " |          Setting ``lang_check`` to ``False`` skips Web requests\n",
      " |          (to validate language) and therefore speeds up instanciation.\n",
      " |          Default is ``True``.\n",
      " |      pre_processor_funcs (list): A list of zero or more functions that are\n",
      " |          called to transform (pre-process) text before tokenizing. Those\n",
      " |          functions must take a string and return a string. Defaults to::\n",
      " |  \n",
      " |              [\n",
      " |                  pre_processors.tone_marks,\n",
      " |                  pre_processors.end_of_line,\n",
      " |                  pre_processors.abbreviations,\n",
      " |                  pre_processors.word_sub\n",
      " |              ]\n",
      " |  \n",
      " |      tokenizer_func (callable): A function that takes in a string and\n",
      " |          returns a list of string (tokens). Defaults to::\n",
      " |  \n",
      " |              Tokenizer([\n",
      " |                  tokenizer_cases.tone_marks,\n",
      " |                  tokenizer_cases.period_comma,\n",
      " |                  tokenizer_cases.colon,\n",
      " |                  tokenizer_cases.other_punctuation\n",
      " |              ]).run\n",
      " |  \n",
      " |  See Also:\n",
      " |      :doc:`Pre-processing and tokenizing <tokenizer>`\n",
      " |  \n",
      " |  Raises:\n",
      " |      AssertionError: When ``text`` is ``None`` or empty; when there's nothing\n",
      " |          left to speak after pre-precessing, tokenizing and cleaning.\n",
      " |      ValueError: When ``lang_check`` is ``True`` and ``lang`` is not supported.\n",
      " |      RuntimeError: When ``lang_check`` is ``True`` but there's an error loading\n",
      " |          the languages dictionary.\n",
      " |  \n",
      " |  Methods defined here:\n",
      " |  \n",
      " |  __init__(self, text, tld='com', lang='en', slow=False, lang_check=True, pre_processor_funcs=[<function tone_marks at 0x7eff58612790>, <function end_of_line at 0x7eff58612dc0>, <function abbreviations at 0x7eff58612e50>, <function word_sub at 0x7eff58612ee0>], tokenizer_func=<bound method Tokenizer.run of re.compile('(?<=\\\\?).|(?<=!).|(?<=？).|(?<=！).|(?<!\\\\.[a-z])\\\\. |(?<!\\\\.[a-z]), |(?<!\\\\d):|—|：|…|‥|。|;|\\\\)|\\\\]|、|¡|\\\\(|¿|،|，|\\\\[|\\\\\\n', re.IGNORECASE) from: [<function tone_marks at 0x7eff585bf0d0>, <function period_comma at 0x7eff585bf160>, <function colon at 0x7eff585bf1f0>, <function other_punctuation at 0x7eff585bf280>]>)\n",
      " |      Initialize self.  See help(type(self)) for accurate signature.\n",
      " |  \n",
      " |  get_bodies(self)\n",
      " |      Get TTS API request bodies(s) that would be sent to the TTS API.\n",
      " |      \n",
      " |      Returns:\n",
      " |          list: A list of TTS API request bodiess to make.\n",
      " |  \n",
      " |  save(self, savefile)\n",
      " |      Do the TTS API request and write result to file.\n",
      " |      \n",
      " |      Args:\n",
      " |          savefile (string): The path and file name to save the ``mp3`` to.\n",
      " |      \n",
      " |      Raises:\n",
      " |          :class:`gTTSError`: When there's an error with the API request.\n",
      " |  \n",
      " |  write_to_fp(self, fp)\n",
      " |      Do the TTS API request(s) and write bytes to a file-like object.\n",
      " |      \n",
      " |      Args:\n",
      " |          fp (file object): Any file-like object to write the ``mp3`` to.\n",
      " |      \n",
      " |      Raises:\n",
      " |          :class:`gTTSError`: When there's an error with the API request.\n",
      " |          TypeError: When ``fp`` is not a file-like object that takes bytes.\n",
      " |  \n",
      " |  ----------------------------------------------------------------------\n",
      " |  Data descriptors defined here:\n",
      " |  \n",
      " |  __dict__\n",
      " |      dictionary for instance variables (if defined)\n",
      " |  \n",
      " |  __weakref__\n",
      " |      list of weak references to the object (if defined)\n",
      " |  \n",
      " |  ----------------------------------------------------------------------\n",
      " |  Data and other attributes defined here:\n",
      " |  \n",
      " |  GOOGLE_TTS_HEADERS = {'Content-Type': 'application/x-www-form-urlencod...\n",
      " |  \n",
      " |  GOOGLE_TTS_MAX_CHARS = 100\n",
      " |  \n",
      " |  GOOGLE_TTS_RPC = 'jQ1olc'\n",
      "\n"
     ]
    }
   ],
   "source": [
    "help(gTTS)"
   ]
  },
  {
   "cell_type": "code",
   "execution_count": null,
   "metadata": {},
   "outputs": [],
   "source": []
  }
 ],
 "metadata": {
  "kernelspec": {
   "display_name": "Python 3 (ipykernel)",
   "language": "python",
   "name": "python3"
  },
  "language_info": {
   "codemirror_mode": {
    "name": "ipython",
    "version": 3
   },
   "file_extension": ".py",
   "mimetype": "text/x-python",
   "name": "python",
   "nbconvert_exporter": "python",
   "pygments_lexer": "ipython3",
   "version": "3.9.6"
  },
  "varInspector": {
   "cols": {
    "lenName": 16,
    "lenType": 16,
    "lenVar": 40
   },
   "kernels_config": {
    "python": {
     "delete_cmd_postfix": "",
     "delete_cmd_prefix": "del ",
     "library": "var_list.py",
     "varRefreshCmd": "print(var_dic_list())"
    },
    "r": {
     "delete_cmd_postfix": ") ",
     "delete_cmd_prefix": "rm(",
     "library": "var_list.r",
     "varRefreshCmd": "cat(var_dic_list()) "
    }
   },
   "types_to_exclude": [
    "module",
    "function",
    "builtin_function_or_method",
    "instance",
    "_Feature"
   ],
   "window_display": false
  }
 },
 "nbformat": 4,
 "nbformat_minor": 4
}
