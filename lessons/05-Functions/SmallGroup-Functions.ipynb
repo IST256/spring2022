{
 "cells": [
  {
   "cell_type": "markdown",
   "metadata": {},
   "source": [
    "# Now You Code In Class : Rock Paper Scissors Experiment\n",
    "\n",
    "In this now you code we will learn to re-factor a program into a function. This is the most common way to write a function when you are a beginner. *Re-factoring* is the act of re-writing code without changing its functionality. We commonly do re-factoring to improve performance or readability of our code. Through the process we will also demonstrate the DRY (don't repeat yourself principle of coding).\n",
    "\n",
    "The way you do this is rather simple. First you write a program to solve the problem, then you re-write that program as a function and finally test the function to make sure it works as expected. \n",
    "\n",
    "This helps train you to think abstractly about problems, but leverages what you understand currently about programming.\n",
    "\n",
    "## Introducing the Write - Refactor - Test - Rewrite approach\n",
    "\n",
    "The best way to get good at writing functions, a skill you will need to master to become a respectable programmer, is to use the **Write - Refactor - Test - Rewrite** approach.  The basic idea is as follows:\n",
    "\n",
    "1. Write the program \n",
    "2. Identify which parts of the program can be placed in a function\n",
    "3. Refactor the code into a function. Extract the bits into a function into a new, separate cell independent of the original code. \n",
    "4. Test the function so you are confident it works, using the expect... actual approach from the lab.\n",
    "5. Re-Write the original program to call the function instead.\n",
    "\n",
    "## The Problem \n",
    "\n",
    "Let's build a game that plays rock paper scissors.\n",
    "\n",
    "### The Approach\n",
    "\n",
    "1. Write the program once (done for you in the cell below)\n",
    "2. refactor step 1 into its own function `play_game(playera, playerb)` which returns the winning player.\n",
    "3. test the function to make sure it works. Write tests for all cases\n",
    "4. re-write the main program to now call the function.\n",
    "5. use the function in the final program.\n"
   ]
  },
  {
   "cell_type": "code",
   "execution_count": 3,
   "metadata": {},
   "outputs": [
    {
     "name": "stdout",
     "output_type": "stream",
     "text": [
      "You:'rock' Computer:'rock' Game: tie \n"
     ]
    }
   ],
   "source": [
    "#ORIGINAL CODE\n",
    "\n",
    "import random \n",
    "choices = ['rock', 'paper', 'scissors']\n",
    "wins = 0\n",
    "losses = 0\n",
    "ties = 0\n",
    "\n",
    "computer = random.choice(choices)\n",
    "you = 'rock' #Always rock strategy\n",
    "\n",
    "if (you == 'rock' and computer == 'scissors'):\n",
    "    outcome = \"win\"\n",
    "elif (you == 'scissors' and computer =='rock'):\n",
    "    outcome = \"lose\"\n",
    "elif (you == 'paper' and computer =='rock'):\n",
    "    outcome = \"win\"\n",
    "elif (you == 'rock' and computer=='paper'):\n",
    "    outcome = \"lose\"\n",
    "elif (you == 'scissors' and computer == 'paper'):\n",
    "    outcome = \"win\"\n",
    "elif (you == 'paper' and computer == 'scissors'):\n",
    "    outcome = \"lose\"\n",
    "else:\n",
    "    outcome = \"tie\"\n",
    "\n",
    "print(f\"You:'{you}' Computer:'{computer}' Game: {outcome} \")\n",
    "    "
   ]
  },
  {
   "cell_type": "markdown",
   "metadata": {},
   "source": [
    "## Problem Analysis\n",
    "\n",
    "For a function `rock_paper_scissors()` which plays the game, what are the inputs and outputs?\n",
    "\n",
    "Inputs:  \n",
    "\n",
    "    PROMPT 1 : \n",
    "    my choice\n",
    "    computer choice\n",
    "\n",
    "Outputs:  \n",
    "\n",
    "    PROMPT 2 : \n",
    "    \n",
    "    win, lose, tie (you)\n",
    "\n",
    "Function def in python:   (just `def` part)\n",
    "\n",
    "    PROMPT 3: Write the steps from input to output\n"
   ]
  },
  {
   "cell_type": "code",
   "execution_count": 5,
   "metadata": {},
   "outputs": [],
   "source": [
    "# PROMPT 4: Write function \n",
    "def playRPO(you,computer):\n",
    "    if (you == 'rock' and computer == 'scissors'):\n",
    "        outcome = \"win\"\n",
    "    elif (you == 'scissors' and computer =='rock'):\n",
    "        outcome = \"lose\"\n",
    "    elif (you == 'paper' and computer =='rock'):\n",
    "        outcome = \"win\"\n",
    "    elif (you == 'rock' and computer=='paper'):\n",
    "        outcome = \"lose\"\n",
    "    elif (you == 'scissors' and computer == 'paper'):\n",
    "        outcome = \"win\"\n",
    "    elif (you == 'paper' and computer == 'scissors'):\n",
    "        outcome = \"lose\"\n",
    "    else:\n",
    "        outcome = \"tie\"\n",
    "        \n",
    "    return outcome"
   ]
  },
  {
   "cell_type": "markdown",
   "metadata": {},
   "source": [
    "## Test Cases\n",
    "\n",
    "Writing a function is not helpful unless we have some assurances that it is correct. We solve this problem with test cases:\n",
    "\n",
    "    YOU      COMPUTER  OUTCOME\n",
    "    Rock     Rock      Tie\n",
    "    Rock     Scissors  Win\n",
    "    Rock     Paper     Lose\n",
    "    \n",
    "    Scissors Rock      Lose\n",
    "    Scissors Scissors  Tie\n",
    "    Scissors Paper     Win\n",
    "    \n",
    "    Paper    Rock      Win\n",
    "    Paper    Scissors  Lose\n",
    "    Paper    Paper     Tie\n",
    "    \n",
    "PROMPTS 5 - 13   \n",
    "\n",
    "Write a `print()` or `assert()` statement for each test case:\n",
    "\n",
    "`When YOU=?, COMPUTER=?, EXPECT=?, ACTUAL=(call the function)`\n",
    "\n"
   ]
  },
  {
   "cell_type": "code",
   "execution_count": 12,
   "metadata": {},
   "outputs": [],
   "source": [
    "# PROMPTS 5-13 test Cases\n",
    "assert playRPO(\"rock\",\"paper\") == \"lose\"\n",
    "assert playRPO(\"rock\",\"scissors\") == \"win\"\n",
    "assert playRPO(\"rock\",\"rock\") == \"tie\"\n",
    "assert playRPO(\"paper\",\"paper\") == \"tie\"\n",
    "assert playRPO(\"paper\",\"scissors\") == \"lose\"\n",
    "assert playRPO(\"paper\",\"rock\") == \"win\"\n",
    "assert playRPO(\"scissors\",\"paper\") == \"win\"\n",
    "assert playRPO(\"scissors\",\"scissors\") == \"tie\"\n",
    "assert playRPO(\"scissors\",\"rock\") == \"lose\"\n"
   ]
  },
  {
   "cell_type": "markdown",
   "metadata": {},
   "source": [
    "## Re-Write\n",
    "\n",
    "With the function code tested, and assurances it is correct, we can now re-write the original program, calling the function instead."
   ]
  },
  {
   "cell_type": "code",
   "execution_count": 13,
   "metadata": {},
   "outputs": [
    {
     "ename": "NameError",
     "evalue": "name 'interact_manual' is not defined",
     "output_type": "error",
     "traceback": [
      "\u001b[0;31m---------------------------------------------------------------------------\u001b[0m",
      "\u001b[0;31mNameError\u001b[0m                                 Traceback (most recent call last)",
      "Input \u001b[0;32mIn [13]\u001b[0m, in \u001b[0;36m<module>\u001b[0;34m\u001b[0m\n\u001b[1;32m      4\u001b[0m cpu \u001b[38;5;241m=\u001b[39m random\u001b[38;5;241m.\u001b[39mchoice(choices)\n\u001b[1;32m      5\u001b[0m me \u001b[38;5;241m=\u001b[39m \u001b[38;5;124m'\u001b[39m\u001b[38;5;124mrock\u001b[39m\u001b[38;5;124m'\u001b[39m   \n\u001b[0;32m----> 7\u001b[0m \u001b[38;5;129m@interact_manual\u001b[39m(your_choice\u001b[38;5;241m=\u001b[39mchoices)\n\u001b[1;32m      8\u001b[0m \u001b[38;5;28;01mdef\u001b[39;00m \u001b[38;5;21mclickbutton\u001b[39m(your_choice):\n\u001b[1;32m      9\u001b[0m     display(your_choice)\n",
      "\u001b[0;31mNameError\u001b[0m: name 'interact_manual' is not defined"
     ]
    }
   ],
   "source": [
    "import random \n",
    "choices = ['rock', 'paper', 'scissors']\n",
    "\n",
    "cpu = random.choice(choices)\n",
    "me = 'rock'   \n",
    "\n"
   ]
  },
  {
   "cell_type": "markdown",
   "metadata": {},
   "source": [
    "## Back to the game\n",
    "\n",
    "Now that we have function to play the game, we can write code for the acual game interation. \n",
    "\n",
    "\n",
    "INPUTS:\n",
    "\n",
    "- user selects one of rock, paper, scissors from a drop-down menu\n",
    "\n",
    "OUTPUTS: \n",
    "\n",
    "- game says whether you won or lost, and keep a record of your total wins and losses\n",
    "\n",
    "\n",
    "ALGORITHM:\n",
    "\n",
    "    PROMPT 15: Game steps !\n",
    "    \n",
    "\n",
    "## Final Code \n",
    "\n",
    "Let's use ipywidgets to create the user interface. Some notes:\n",
    "\n",
    "- the list of items `[\"rock\",\"paper\",\"scissors\",\"random\"]` makes a drop down.|\n"
   ]
  },
  {
   "cell_type": "code",
   "execution_count": 16,
   "metadata": {},
   "outputs": [
    {
     "data": {
      "application/vnd.jupyter.widget-view+json": {
       "model_id": "0c7cae43bd2041bc9002734a4adabfc2",
       "version_major": 2,
       "version_minor": 0
      },
      "text/plain": [
       "interactive(children=(Dropdown(description='your_choice', options=('rock', 'paper', 'scissors'), value='rock')…"
      ]
     },
     "metadata": {},
     "output_type": "display_data"
    }
   ],
   "source": [
    "from IPython.display import display, HTML\n",
    "from ipywidgets import interact_manual\n",
    "import random \n",
    "\n",
    "# PROMPT Initialize wins and losses here.\n",
    "choices = [\"rock\",\"paper\",\"scissors\"]\n",
    "@interact_manual(your_choice=choices)\n",
    "def clickbutton(your_choice):\n",
    "    computer = random.choice(choices)\n",
    "    result = playRPO(your_choice,computer)\n",
    "    display(HTML(f\"<p>YOU: {your_choice}\"))\n",
    "    display(HTML(f\"<p>CPU: {computer}\"))\n",
    "    display(HTML(f\"<p>Result: {result}\"))\n",
    "    "
   ]
  },
  {
   "cell_type": "code",
   "execution_count": 2,
   "metadata": {},
   "outputs": [
    {
     "data": {
      "application/javascript": [
       "IPython.notebook.save_notebook()"
      ]
     },
     "metadata": {},
     "output_type": "display_data"
    },
    {
     "data": {
      "text/html": [
       "<h2>Submission Details</h2>"
      ],
      "text/plain": [
       "<IPython.core.display.HTML object>"
      ]
     },
     "metadata": {},
     "output_type": "display_data"
    },
    {
     "data": {
      "text/html": [
       "<ul><li>Your NetID: <code>mafudge</code></li><li>Instructor NetID: <code>mafudge</code></li><li>Blackboard Gradebook Assignment Name: <code>S05</code></li><li>Total Points: <code>1</code></li><li>File You Are Submitting: <code>SmallGroup-Functions.ipynb</code></li><li>Date/Time of Your Submission: <code>02/24/2022 02:53 PM</code></li></ul>"
      ],
      "text/plain": [
       "<IPython.core.display.HTML object>"
      ]
     },
     "metadata": {},
     "output_type": "display_data"
    },
    {
     "data": {
      "text/html": [
       "<p style='color: #993333;'><i class='fa fa-save'></i> <b>To ensure your instructor has the most recent version, press <code>CTRL+S</code> to save your work before submitting.</b></p>"
      ],
      "text/plain": [
       "<IPython.core.display.HTML object>"
      ]
     },
     "metadata": {},
     "output_type": "display_data"
    },
    {
     "data": {
      "application/vnd.jupyter.widget-view+json": {
       "model_id": "64fa3c3f590b4e84a4cb0be8cdf22bc5",
       "version_major": 2,
       "version_minor": 0
      },
      "text/plain": [
       "HBox(children=(Button(button_style='success', description='Submit', icon='check-circle', style=ButtonStyle(), …"
      ]
     },
     "metadata": {},
     "output_type": "display_data"
    },
    {
     "data": {
      "application/vnd.jupyter.widget-view+json": {
       "model_id": "40ace96600104ccfa66e99ca4673a1ea",
       "version_major": 2,
       "version_minor": 0
      },
      "text/plain": [
       "Output()"
      ]
     },
     "metadata": {},
     "output_type": "display_data"
    }
   ],
   "source": [
    "# run this code to turn in your work!\n",
    "from coursetools.submission import Submission\n",
    "Submission().submit_now()"
   ]
  },
  {
   "cell_type": "code",
   "execution_count": null,
   "metadata": {},
   "outputs": [],
   "source": []
  }
 ],
 "metadata": {
  "anaconda-cloud": {},
  "kernelspec": {
   "display_name": "Python 3 (ipykernel)",
   "language": "python",
   "name": "python3"
  },
  "language_info": {
   "codemirror_mode": {
    "name": "ipython",
    "version": 3
   },
   "file_extension": ".py",
   "mimetype": "text/x-python",
   "name": "python",
   "nbconvert_exporter": "python",
   "pygments_lexer": "ipython3",
   "version": "3.9.7"
  },
  "toc": {
   "base_numbering": 1,
   "nav_menu": {},
   "number_sections": false,
   "sideBar": false,
   "skip_h1_title": false,
   "title_cell": "Table of Contents",
   "title_sidebar": "Contents",
   "toc_cell": false,
   "toc_position": {},
   "toc_section_display": false,
   "toc_window_display": false
  },
  "varInspector": {
   "cols": {
    "lenName": 16,
    "lenType": 16,
    "lenVar": 40
   },
   "kernels_config": {
    "python": {
     "delete_cmd_postfix": "",
     "delete_cmd_prefix": "del ",
     "library": "var_list.py",
     "varRefreshCmd": "print(var_dic_list())"
    },
    "r": {
     "delete_cmd_postfix": ") ",
     "delete_cmd_prefix": "rm(",
     "library": "var_list.r",
     "varRefreshCmd": "cat(var_dic_list()) "
    }
   },
   "types_to_exclude": [
    "module",
    "function",
    "builtin_function_or_method",
    "instance",
    "_Feature"
   ],
   "window_display": false
  }
 },
 "nbformat": 4,
 "nbformat_minor": 1
}
