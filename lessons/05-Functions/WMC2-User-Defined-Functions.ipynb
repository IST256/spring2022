{
 "cells": [
  {
   "cell_type": "markdown",
   "metadata": {},
   "source": [
    "# Watch Me Code 2: User-Defined Functions\n",
    "\n",
    "User Defined Functions\n"
   ]
  },
  {
   "cell_type": "code",
   "execution_count": 3,
   "metadata": {
    "collapsed": true
   },
   "outputs": [],
   "source": [
    "## Function: rectangle_area\n",
    "## Arguments (inputs): length and Width\n",
    "## Returns (output): area\n",
    "\n",
    "def rectangle_area(length, width):\n",
    "    area = length * width\n",
    "    return area"
   ]
  },
  {
   "cell_type": "code",
   "execution_count": 4,
   "metadata": {},
   "outputs": [
    {
     "name": "stdout",
     "output_type": "stream",
     "text": [
      "50\n"
     ]
    }
   ],
   "source": [
    "result = rectangle_area(10,5)\n",
    "print(result)"
   ]
  },
  {
   "cell_type": "code",
   "execution_count": 6,
   "metadata": {},
   "outputs": [
    {
     "name": "stdout",
     "output_type": "stream",
     "text": [
      "100\n"
     ]
    }
   ],
   "source": [
    "# named arguments example\n",
    "side = 10\n",
    "area_of_a_square = rectangle_area(length=side, width=side)\n",
    "print (area_of_a_square)"
   ]
  },
  {
   "cell_type": "code",
   "execution_count": 9,
   "metadata": {
    "collapsed": true
   },
   "outputs": [],
   "source": [
    "## Function: rectangle_perimeter\n",
    "## Arguments (inputs): length and Width\n",
    "## Returns (output): perimeter\n",
    "\n",
    "def rectangle_perimeter(length, width):\n",
    "    perm = 2 * (length + width)\n",
    "    return perm\n"
   ]
  },
  {
   "cell_type": "code",
   "execution_count": 10,
   "metadata": {},
   "outputs": [
    {
     "name": "stdout",
     "output_type": "stream",
     "text": [
      "300\n"
     ]
    }
   ],
   "source": [
    "fence_length = rectangle_perimeter(width=100,length=50)\n",
    "print (fence_length)"
   ]
  },
  {
   "cell_type": "code",
   "execution_count": 2,
   "metadata": {},
   "outputs": [
    {
     "name": "stdout",
     "output_type": "stream",
     "text": [
      "Collecting gtts\n",
      "  Downloading gTTS-2.2.3-py3-none-any.whl (25 kB)\n",
      "Requirement already satisfied: six in /opt/conda/lib/python3.9/site-packages (from gtts) (1.16.0)\n",
      "Requirement already satisfied: requests in /opt/conda/lib/python3.9/site-packages (from gtts) (2.27.1)\n",
      "Requirement already satisfied: click in /opt/conda/lib/python3.9/site-packages (from gtts) (8.0.3)\n",
      "Requirement already satisfied: certifi>=2017.4.17 in /opt/conda/lib/python3.9/site-packages (from requests->gtts) (2021.10.8)\n",
      "Requirement already satisfied: urllib3<1.27,>=1.21.1 in /opt/conda/lib/python3.9/site-packages (from requests->gtts) (1.26.8)\n",
      "Requirement already satisfied: charset-normalizer~=2.0.0 in /opt/conda/lib/python3.9/site-packages (from requests->gtts) (2.0.11)\n",
      "Requirement already satisfied: idna<4,>=2.5 in /opt/conda/lib/python3.9/site-packages (from requests->gtts) (3.3)\n",
      "Installing collected packages: gtts\n",
      "Successfully installed gtts-2.2.3\n"
     ]
    }
   ],
   "source": [
    "! pip install gtts"
   ]
  },
  {
   "cell_type": "code",
   "execution_count": 3,
   "metadata": {},
   "outputs": [],
   "source": [
    "import gtts\n",
    "from IPython.display import display, Audio"
   ]
  },
  {
   "cell_type": "code",
   "execution_count": 4,
   "metadata": {},
   "outputs": [
    {
     "data": {
      "text/html": [
       "\n",
       "                <audio  controls=\"controls\" autoplay=\"autoplay\">\n",
       "                    <source src=\"data:audio/mpeg;base64,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\" type=\"audio/mpeg\" />\n",
       "                    Your browser does not support the audio element.\n",
       "                </audio>\n",
       "              "
      ],
      "text/plain": [
       "<IPython.lib.display.Audio object>"
      ]
     },
     "metadata": {},
     "output_type": "display_data"
    }
   ],
   "source": [
    "def speak(text, lang='en', autoplay=True, echo=False):\n",
    "    '''\n",
    "    This will use gTTS to take your text and speak it.\n",
    "    \n",
    "    Example:\n",
    "    \n",
    "    speak(\"Hello!\")\n",
    "    '''\n",
    "    speech = gtts.gTTS(text, slow=False, lang=lang)\n",
    "    speech.save(\"demo.mp3\")\n",
    "    if echo:\n",
    "        print(text)\n",
    "    return Audio(\"demo.mp3\",autoplay=autoplay)\n",
    "\n",
    "display(speak(\"hello\"))"
   ]
  },
  {
   "cell_type": "code",
   "execution_count": null,
   "metadata": {},
   "outputs": [],
   "source": []
  }
 ],
 "metadata": {
  "anaconda-cloud": {},
  "kernelspec": {
   "display_name": "Python 3 (ipykernel)",
   "language": "python",
   "name": "python3"
  },
  "language_info": {
   "codemirror_mode": {
    "name": "ipython",
    "version": 3
   },
   "file_extension": ".py",
   "mimetype": "text/x-python",
   "name": "python",
   "nbconvert_exporter": "python",
   "pygments_lexer": "ipython3",
   "version": "3.9.7"
  },
  "varInspector": {
   "cols": {
    "lenName": 16,
    "lenType": 16,
    "lenVar": 40
   },
   "kernels_config": {
    "python": {
     "delete_cmd_postfix": "",
     "delete_cmd_prefix": "del ",
     "library": "var_list.py",
     "varRefreshCmd": "print(var_dic_list())"
    },
    "r": {
     "delete_cmd_postfix": ") ",
     "delete_cmd_prefix": "rm(",
     "library": "var_list.r",
     "varRefreshCmd": "cat(var_dic_list()) "
    }
   },
   "types_to_exclude": [
    "module",
    "function",
    "builtin_function_or_method",
    "instance",
    "_Feature"
   ],
   "window_display": false
  }
 },
 "nbformat": 4,
 "nbformat_minor": 1
}
