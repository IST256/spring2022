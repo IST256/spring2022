{
 "cells": [
  {
   "cell_type": "code",
   "execution_count": 2,
   "id": "ceb83da0",
   "metadata": {},
   "outputs": [],
   "source": [
    "x = { 'a' : [1,2,3,4], 'b' : 'rta', 'c': { 'r' : 3, 't' : 2} }\n"
   ]
  },
  {
   "cell_type": "code",
   "execution_count": 5,
   "id": "3a01268f",
   "metadata": {},
   "outputs": [
    {
     "data": {
      "text/plain": [
       "4"
      ]
     },
     "execution_count": 5,
     "metadata": {},
     "output_type": "execute_result"
    }
   ],
   "source": [
    "x['a'][3]"
   ]
  },
  {
   "cell_type": "code",
   "execution_count": 6,
   "id": "aa6e0931",
   "metadata": {},
   "outputs": [
    {
     "data": {
      "text/plain": [
       "dict"
      ]
     },
     "execution_count": 6,
     "metadata": {},
     "output_type": "execute_result"
    }
   ],
   "source": [
    "type(x['c'])"
   ]
  },
  {
   "cell_type": "code",
   "execution_count": 7,
   "id": "a19a24f0",
   "metadata": {},
   "outputs": [
    {
     "ename": "KeyError",
     "evalue": "0",
     "output_type": "error",
     "traceback": [
      "\u001b[0;31m---------------------------------------------------------------------------\u001b[0m",
      "\u001b[0;31mKeyError\u001b[0m                                  Traceback (most recent call last)",
      "Input \u001b[0;32mIn [7]\u001b[0m, in \u001b[0;36m<module>\u001b[0;34m\u001b[0m\n\u001b[0;32m----> 1\u001b[0m \u001b[43mx\u001b[49m\u001b[43m[\u001b[49m\u001b[38;5;124;43m'\u001b[39;49m\u001b[38;5;124;43mc\u001b[39;49m\u001b[38;5;124;43m'\u001b[39;49m\u001b[43m]\u001b[49m\u001b[43m[\u001b[49m\u001b[38;5;241;43m0\u001b[39;49m\u001b[43m]\u001b[49m\n",
      "\u001b[0;31mKeyError\u001b[0m: 0"
     ]
    }
   ],
   "source": [
    "x['c'][0]"
   ]
  },
  {
   "cell_type": "code",
   "execution_count": 8,
   "id": "511a36e0",
   "metadata": {},
   "outputs": [],
   "source": [
    "a = { 'name' : 'alice', 'age' : 21, 'phone' : '555-1234'}"
   ]
  },
  {
   "cell_type": "code",
   "execution_count": 9,
   "id": "49648a74",
   "metadata": {},
   "outputs": [
    {
     "ename": "KeyError",
     "evalue": "'email'",
     "output_type": "error",
     "traceback": [
      "\u001b[0;31m---------------------------------------------------------------------------\u001b[0m",
      "\u001b[0;31mKeyError\u001b[0m                                  Traceback (most recent call last)",
      "Input \u001b[0;32mIn [9]\u001b[0m, in \u001b[0;36m<module>\u001b[0;34m\u001b[0m\n\u001b[0;32m----> 1\u001b[0m \u001b[43ma\u001b[49m\u001b[43m[\u001b[49m\u001b[38;5;124;43m'\u001b[39;49m\u001b[38;5;124;43memail\u001b[39;49m\u001b[38;5;124;43m'\u001b[39;49m\u001b[43m]\u001b[49m\n",
      "\u001b[0;31mKeyError\u001b[0m: 'email'"
     ]
    }
   ],
   "source": [
    "a['email']"
   ]
  },
  {
   "cell_type": "code",
   "execution_count": 10,
   "id": "20544cb7",
   "metadata": {},
   "outputs": [
    {
     "ename": "KeyError",
     "evalue": "'alice'",
     "output_type": "error",
     "traceback": [
      "\u001b[0;31m---------------------------------------------------------------------------\u001b[0m",
      "\u001b[0;31mKeyError\u001b[0m                                  Traceback (most recent call last)",
      "Input \u001b[0;32mIn [10]\u001b[0m, in \u001b[0;36m<module>\u001b[0;34m\u001b[0m\n\u001b[0;32m----> 1\u001b[0m \u001b[43ma\u001b[49m\u001b[43m[\u001b[49m\u001b[38;5;124;43m'\u001b[39;49m\u001b[38;5;124;43malice\u001b[39;49m\u001b[38;5;124;43m'\u001b[39;49m\u001b[43m]\u001b[49m\n",
      "\u001b[0;31mKeyError\u001b[0m: 'alice'"
     ]
    }
   ],
   "source": [
    "a['alice']"
   ]
  },
  {
   "cell_type": "code",
   "execution_count": 11,
   "id": "053bb73c",
   "metadata": {},
   "outputs": [
    {
     "data": {
      "text/plain": [
       "'alice'"
      ]
     },
     "execution_count": 11,
     "metadata": {},
     "output_type": "execute_result"
    }
   ],
   "source": [
    "a['name']"
   ]
  },
  {
   "cell_type": "code",
   "execution_count": 12,
   "id": "c1f85332",
   "metadata": {},
   "outputs": [
    {
     "ename": "IndexError",
     "evalue": "string index out of range",
     "output_type": "error",
     "traceback": [
      "\u001b[0;31m---------------------------------------------------------------------------\u001b[0m",
      "\u001b[0;31mIndexError\u001b[0m                                Traceback (most recent call last)",
      "Input \u001b[0;32mIn [12]\u001b[0m, in \u001b[0;36m<module>\u001b[0;34m\u001b[0m\n\u001b[0;32m----> 1\u001b[0m \u001b[43ma\u001b[49m\u001b[43m[\u001b[49m\u001b[38;5;124;43m'\u001b[39;49m\u001b[38;5;124;43mname\u001b[39;49m\u001b[38;5;124;43m'\u001b[39;49m\u001b[43m]\u001b[49m\u001b[43m[\u001b[49m\u001b[38;5;241;43m100\u001b[39;49m\u001b[43m]\u001b[49m\n",
      "\u001b[0;31mIndexError\u001b[0m: string index out of range"
     ]
    }
   ],
   "source": [
    "a['name'][100]"
   ]
  },
  {
   "cell_type": "code",
   "execution_count": 19,
   "id": "a89fc349",
   "metadata": {},
   "outputs": [],
   "source": [
    "payload = {\"documents\": [\n",
    "            {\"id\": \"1\", \"text\": \"review1\" },\n",
    "            {\"id\": \"2\", \"text\": \"review2\" },\n",
    "            {\"id\": \"3\", \"text\": \"review3\" }\n",
    "        ],\n",
    "        \"foo\" : [\n",
    "            { 'bar' : 3},\n",
    "            { 'bar' : 4}\n",
    "        ]\n",
    "    }"
   ]
  },
  {
   "cell_type": "code",
   "execution_count": 16,
   "id": "99173660",
   "metadata": {},
   "outputs": [
    {
     "data": {
      "text/plain": [
       "dict_keys(['documents'])"
      ]
     },
     "execution_count": 16,
     "metadata": {},
     "output_type": "execute_result"
    }
   ],
   "source": [
    "payload.keys()"
   ]
  },
  {
   "cell_type": "code",
   "execution_count": 18,
   "id": "782d6ad0",
   "metadata": {},
   "outputs": [
    {
     "data": {
      "text/plain": [
       "'review1'"
      ]
     },
     "execution_count": 18,
     "metadata": {},
     "output_type": "execute_result"
    }
   ],
   "source": [
    "payload['documents'][0]['text']"
   ]
  },
  {
   "cell_type": "code",
   "execution_count": 20,
   "id": "8dfd501e",
   "metadata": {},
   "outputs": [
    {
     "data": {
      "text/plain": [
       "4"
      ]
     },
     "execution_count": 20,
     "metadata": {},
     "output_type": "execute_result"
    }
   ],
   "source": [
    "payload['foo'][1]['bar']"
   ]
  },
  {
   "cell_type": "code",
   "execution_count": 23,
   "id": "b08e1e98",
   "metadata": {},
   "outputs": [],
   "source": [
    "payload = {\"documents\": [\n",
    "            {\"id\": \"1\", \"text\": \"review1\" },\n",
    "            {\"id\": \"2\", \"text\": \"review2\" },\n",
    "            {\"id\": \"3\", \"text\": \"review3\" },\n",
    "            {\"id\": \"5\", \"text\": \"reviewA\" },\n",
    "            {\"id\": \"7\", \"text\": \"reviewF\" }\n",
    "        ],\n",
    "        \"foo\" : [\n",
    "            { 'bar' : 3},\n",
    "            { 'bar' : 4}\n",
    "        ]\n",
    "    }"
   ]
  },
  {
   "cell_type": "code",
   "execution_count": 27,
   "id": "2b75025c",
   "metadata": {},
   "outputs": [
    {
     "ename": "KeyError",
     "evalue": "'bar'",
     "output_type": "error",
     "traceback": [
      "\u001b[0;31m---------------------------------------------------------------------------\u001b[0m",
      "\u001b[0;31mKeyError\u001b[0m                                  Traceback (most recent call last)",
      "Input \u001b[0;32mIn [27]\u001b[0m, in \u001b[0;36m<module>\u001b[0;34m\u001b[0m\n\u001b[1;32m      1\u001b[0m \u001b[38;5;28;01mfor\u001b[39;00m d \u001b[38;5;129;01min\u001b[39;00m payload[\u001b[38;5;124m'\u001b[39m\u001b[38;5;124mdocuments\u001b[39m\u001b[38;5;124m'\u001b[39m]:\n\u001b[0;32m----> 2\u001b[0m     \u001b[38;5;28mprint\u001b[39m(\u001b[43md\u001b[49m\u001b[43m[\u001b[49m\u001b[38;5;124;43m'\u001b[39;49m\u001b[38;5;124;43mbar\u001b[39;49m\u001b[38;5;124;43m'\u001b[39;49m\u001b[43m]\u001b[49m)\n",
      "\u001b[0;31mKeyError\u001b[0m: 'bar'"
     ]
    }
   ],
   "source": [
    "for d in payload['documents']:\n",
    "    print(d['bar'])"
   ]
  },
  {
   "cell_type": "code",
   "execution_count": 28,
   "id": "a65de5a7",
   "metadata": {},
   "outputs": [
    {
     "name": "stdout",
     "output_type": "stream",
     "text": [
      "3\n",
      "4\n"
     ]
    }
   ],
   "source": [
    "for d in payload['foo']:\n",
    "    print(d['bar'])"
   ]
  },
  {
   "cell_type": "code",
   "execution_count": null,
   "id": "2dc31f53",
   "metadata": {},
   "outputs": [],
   "source": [
    "response = requests.get(url)\n",
    "response.raise_for_status()\n",
    "data = response.json()"
   ]
  },
  {
   "cell_type": "code",
   "execution_count": 31,
   "id": "fa26fbcd",
   "metadata": {},
   "outputs": [],
   "source": [
    "payload = {\"documents\": [\n",
    "            {\"id\": \"1\", \"text\": \"review1\" },\n",
    "            {\"id\": \"2\", \"text\": \"review2\" },\n",
    "            {\"id\": \"3\", \"text\": \"review3\" },\n",
    "            {\"id\": \"5\", \"text\": \"reviewA\" },\n",
    "            {\"id\": \"7\", \"text\": \"reviewF\" }\n",
    "        ],\n",
    "        \"foo\" : [\n",
    "            { 'bar' : 3},\n",
    "            { 'bar' : 4}\n",
    "        ]\n",
    "    }"
   ]
  },
  {
   "cell_type": "code",
   "execution_count": 32,
   "id": "cbc92d0c",
   "metadata": {},
   "outputs": [
    {
     "name": "stdout",
     "output_type": "stream",
     "text": [
      "7\n"
     ]
    }
   ],
   "source": [
    "n = 0 \n",
    "for f in payload['foo']:\n",
    "    n = n + f['bar']\n",
    "print(n)"
   ]
  },
  {
   "cell_type": "code",
   "execution_count": 33,
   "id": "6dc37b00",
   "metadata": {},
   "outputs": [],
   "source": [
    "x = 0 \n",
    "for y in payload['documents']:\n",
    "    if y['text'].endswith(\"A\") or y['text'].endswith(\"3\"):\n",
    "        x = x + int(y['id'])"
   ]
  },
  {
   "cell_type": "code",
   "execution_count": 34,
   "id": "048efccc",
   "metadata": {},
   "outputs": [
    {
     "data": {
      "text/plain": [
       "8"
      ]
     },
     "execution_count": 34,
     "metadata": {},
     "output_type": "execute_result"
    }
   ],
   "source": [
    "x"
   ]
  },
  {
   "cell_type": "code",
   "execution_count": 35,
   "id": "277b87cd",
   "metadata": {},
   "outputs": [],
   "source": [
    "import requests\n",
    "url = \"http://data.fixer.io/api/latest?access_key=5132c79d9d15b0c42d375fec95c6f7aa\"\n",
    "response = requests.get(url)\n",
    "response.raise_for_status()\n",
    "rates = response.json()\n"
   ]
  },
  {
   "cell_type": "code",
   "execution_count": 36,
   "id": "82336d21",
   "metadata": {},
   "outputs": [
    {
     "data": {
      "text/plain": [
       "{'success': True,\n",
       " 'timestamp': 1649901726,\n",
       " 'base': 'EUR',\n",
       " 'date': '2022-04-14',\n",
       " 'rates': {'AED': 4.005432,\n",
       "  'AFN': 95.39032,\n",
       "  'ALL': 121.235911,\n",
       "  'AMD': 513.351885,\n",
       "  'ANG': 1.95479,\n",
       "  'AOA': 458.95456,\n",
       "  'ARS': 123.187089,\n",
       "  'AUD': 1.462586,\n",
       "  'AWG': 1.963404,\n",
       "  'AZN': 1.857377,\n",
       "  'BAM': 1.959301,\n",
       "  'BBD': 2.18998,\n",
       "  'BDT': 93.519736,\n",
       "  'BGN': 1.957298,\n",
       "  'BHD': 0.411112,\n",
       "  'BIF': 2225.973869,\n",
       "  'BMD': 1.090477,\n",
       "  'BND': 1.479535,\n",
       "  'BOB': 7.456643,\n",
       "  'BRL': 5.115973,\n",
       "  'BSD': 1.084632,\n",
       "  'BTC': 2.6325805e-05,\n",
       "  'BTN': 82.590709,\n",
       "  'BWP': 12.46706,\n",
       "  'BYN': 3.593984,\n",
       "  'BYR': 21373.350231,\n",
       "  'BZD': 2.186284,\n",
       "  'CAD': 1.368663,\n",
       "  'CDF': 2191.859183,\n",
       "  'CHF': 1.017546,\n",
       "  'CLF': 0.031847,\n",
       "  'CLP': 878.760693,\n",
       "  'CNY': 6.939572,\n",
       "  'COP': 4059.486209,\n",
       "  'CRC': 707.052446,\n",
       "  'CUC': 1.090477,\n",
       "  'CUP': 28.897642,\n",
       "  'CVE': 110.461216,\n",
       "  'CZK': 24.480772,\n",
       "  'DJF': 193.092111,\n",
       "  'DKK': 7.438493,\n",
       "  'DOP': 59.578378,\n",
       "  'DZD': 156.322072,\n",
       "  'EGP': 20.081899,\n",
       "  'ERN': 16.357158,\n",
       "  'ETB': 55.814056,\n",
       "  'EUR': 1,\n",
       "  'FJD': 2.292892,\n",
       "  'FKP': 0.838186,\n",
       "  'GBP': 0.830349,\n",
       "  'GEL': 3.353232,\n",
       "  'GGP': 0.838186,\n",
       "  'GHS': 8.270191,\n",
       "  'GIP': 0.838186,\n",
       "  'GMD': 58.940717,\n",
       "  'GNF': 9665.746881,\n",
       "  'GTQ': 8.318977,\n",
       "  'GYD': 227.043305,\n",
       "  'HKD': 8.549286,\n",
       "  'HNL': 26.620531,\n",
       "  'HRK': 7.553301,\n",
       "  'HTG': 117.139616,\n",
       "  'HUF': 376.651829,\n",
       "  'IDR': 15667.37453,\n",
       "  'ILS': 3.510748,\n",
       "  'IMP': 0.838186,\n",
       "  'INR': 83.005205,\n",
       "  'IQD': 1583.03652,\n",
       "  'IRR': 46127.179581,\n",
       "  'ISK': 140.399006,\n",
       "  'JEP': 0.838186,\n",
       "  'JMD': 167.845689,\n",
       "  'JOD': 0.773118,\n",
       "  'JPY': 136.644955,\n",
       "  'KES': 125.219836,\n",
       "  'KGS': 91.057558,\n",
       "  'KHR': 4386.211493,\n",
       "  'KMF': 493.447305,\n",
       "  'KPW': 981.429477,\n",
       "  'KRW': 1335.011073,\n",
       "  'KWD': 0.332709,\n",
       "  'KYD': 0.903914,\n",
       "  'KZT': 488.249533,\n",
       "  'LAK': 12876.272574,\n",
       "  'LBP': 1639.913035,\n",
       "  'LKR': 349.561338,\n",
       "  'LRD': 166.191109,\n",
       "  'LSL': 15.887874,\n",
       "  'LTL': 3.219895,\n",
       "  'LVL': 0.659619,\n",
       "  'LYD': 5.095652,\n",
       "  'MAD': 10.64917,\n",
       "  'MDL': 20.011147,\n",
       "  'MGA': 4384.338259,\n",
       "  'MKD': 61.72436,\n",
       "  'MMK': 2008.177003,\n",
       "  'MNT': 3265.829593,\n",
       "  'MOP': 8.757055,\n",
       "  'MRO': 389.30012,\n",
       "  'MUR': 46.831162,\n",
       "  'MVR': 16.847834,\n",
       "  'MWK': 878.385362,\n",
       "  'MXN': 21.539315,\n",
       "  'MYR': 4.608325,\n",
       "  'MZN': 69.60504,\n",
       "  'NAD': 15.88822,\n",
       "  'NGN': 452.090141,\n",
       "  'NIO': 38.834806,\n",
       "  'NOK': 9.529651,\n",
       "  'NPR': 132.145947,\n",
       "  'NZD': 1.599894,\n",
       "  'OMR': 0.419804,\n",
       "  'PAB': 1.084622,\n",
       "  'PEN': 4.043627,\n",
       "  'PGK': 3.821824,\n",
       "  'PHP': 56.861888,\n",
       "  'PKR': 196.967283,\n",
       "  'PLN': 4.640265,\n",
       "  'PYG': 7397.708648,\n",
       "  'QAR': 3.970409,\n",
       "  'RON': 4.940841,\n",
       "  'RSD': 117.766091,\n",
       "  'RUB': 89.828065,\n",
       "  'RWF': 1103.911039,\n",
       "  'SAR': 4.089652,\n",
       "  'SBD': 8.723956,\n",
       "  'SCR': 15.719642,\n",
       "  'SDG': 487.986268,\n",
       "  'SEK': 10.320373,\n",
       "  'SGD': 1.475944,\n",
       "  'SHP': 1.502029,\n",
       "  'SLL': 13254.74882,\n",
       "  'SOS': 630.295584,\n",
       "  'SRD': 22.54233,\n",
       "  'STD': 22570.673325,\n",
       "  'SVC': 9.490946,\n",
       "  'SYP': 2739.768516,\n",
       "  'SZL': 15.702565,\n",
       "  'THB': 36.552757,\n",
       "  'TJS': 13.563093,\n",
       "  'TMT': 3.81667,\n",
       "  'TND': 3.260208,\n",
       "  'TOP': 2.465786,\n",
       "  'TRY': 15.910606,\n",
       "  'TTD': 7.368697,\n",
       "  'TWD': 31.613479,\n",
       "  'TZS': 2530.794384,\n",
       "  'UAH': 31.888036,\n",
       "  'UGX': 3817.881837,\n",
       "  'USD': 1.090477,\n",
       "  'UYU': 44.978898,\n",
       "  'UZS': 12295.18036,\n",
       "  'VEF': 233176950615.42407,\n",
       "  'VND': 24963.200688,\n",
       "  'VUV': 122.767707,\n",
       "  'WST': 2.819365,\n",
       "  'XAF': 657.13031,\n",
       "  'XAG': 0.042249,\n",
       "  'XAU': 0.000551,\n",
       "  'XCD': 2.947069,\n",
       "  'XDR': 0.792315,\n",
       "  'XOF': 657.124273,\n",
       "  'XPF': 119.952964,\n",
       "  'YER': 272.892199,\n",
       "  'ZAR': 15.855847,\n",
       "  'ZMK': 9815.598357,\n",
       "  'ZMW': 18.888726,\n",
       "  'ZWL': 351.133166}}"
      ]
     },
     "execution_count": 36,
     "metadata": {},
     "output_type": "execute_result"
    }
   ],
   "source": [
    "rates"
   ]
  },
  {
   "cell_type": "code",
   "execution_count": 37,
   "id": "7059c2d0",
   "metadata": {},
   "outputs": [
    {
     "data": {
      "text/plain": [
       "str"
      ]
     },
     "execution_count": 37,
     "metadata": {},
     "output_type": "execute_result"
    }
   ],
   "source": [
    "type(rates['base'])"
   ]
  },
  {
   "cell_type": "code",
   "execution_count": 38,
   "id": "d7832769",
   "metadata": {},
   "outputs": [
    {
     "data": {
      "text/plain": [
       "'EUR'"
      ]
     },
     "execution_count": 38,
     "metadata": {},
     "output_type": "execute_result"
    }
   ],
   "source": [
    "rates['base']"
   ]
  },
  {
   "cell_type": "code",
   "execution_count": 40,
   "id": "498835a3",
   "metadata": {},
   "outputs": [
    {
     "data": {
      "text/plain": [
       "1.959301"
      ]
     },
     "execution_count": 40,
     "metadata": {},
     "output_type": "execute_result"
    }
   ],
   "source": [
    "x = 'BAM'\n",
    "rates['rates'][x]"
   ]
  },
  {
   "cell_type": "code",
   "execution_count": 47,
   "id": "a242425b",
   "metadata": {},
   "outputs": [
    {
     "data": {
      "text/plain": [
       "'World!'"
      ]
     },
     "execution_count": 47,
     "metadata": {},
     "output_type": "execute_result"
    }
   ],
   "source": [
    "url = \"https://api.ist256.com/\" + \"playground/hello1\"\n",
    "response = requests.get(url)\n",
    "response.raise_for_status()\n",
    "data = response.json()\n",
    "data['hello']"
   ]
  },
  {
   "cell_type": "code",
   "execution_count": 43,
   "id": "200ff111",
   "metadata": {},
   "outputs": [],
   "source": [
    "data = response.text"
   ]
  },
  {
   "cell_type": "code",
   "execution_count": 44,
   "id": "5bb3f964",
   "metadata": {},
   "outputs": [
    {
     "data": {
      "text/plain": [
       "'{\\n    \"hello\": \"World!\"\\n}\\n'"
      ]
     },
     "execution_count": 44,
     "metadata": {},
     "output_type": "execute_result"
    }
   ],
   "source": [
    "data"
   ]
  },
  {
   "cell_type": "code",
   "execution_count": 45,
   "id": "fec89ffe",
   "metadata": {},
   "outputs": [
    {
     "ename": "HTTPError",
     "evalue": "405 Client Error: METHOD NOT ALLOWED for url: https://api.ist256.com/playground/hello1",
     "output_type": "error",
     "traceback": [
      "\u001b[0;31m---------------------------------------------------------------------------\u001b[0m",
      "\u001b[0;31mHTTPError\u001b[0m                                 Traceback (most recent call last)",
      "Input \u001b[0;32mIn [45]\u001b[0m, in \u001b[0;36m<module>\u001b[0;34m\u001b[0m\n\u001b[1;32m      1\u001b[0m url \u001b[38;5;241m=\u001b[39m \u001b[38;5;124m\"\u001b[39m\u001b[38;5;124mhttps://api.ist256.com/\u001b[39m\u001b[38;5;124m\"\u001b[39m \u001b[38;5;241m+\u001b[39m \u001b[38;5;124m\"\u001b[39m\u001b[38;5;124mplayground/hello1\u001b[39m\u001b[38;5;124m\"\u001b[39m\n\u001b[1;32m      2\u001b[0m response \u001b[38;5;241m=\u001b[39m requests\u001b[38;5;241m.\u001b[39mpost(url)\n\u001b[0;32m----> 3\u001b[0m \u001b[43mresponse\u001b[49m\u001b[38;5;241;43m.\u001b[39;49m\u001b[43mraise_for_status\u001b[49m\u001b[43m(\u001b[49m\u001b[43m)\u001b[49m\n\u001b[1;32m      4\u001b[0m data \u001b[38;5;241m=\u001b[39m response\u001b[38;5;241m.\u001b[39mjson()\n\u001b[1;32m      5\u001b[0m data\n",
      "File \u001b[0;32m/opt/conda/lib/python3.9/site-packages/requests/models.py:960\u001b[0m, in \u001b[0;36mResponse.raise_for_status\u001b[0;34m(self)\u001b[0m\n\u001b[1;32m    957\u001b[0m     http_error_msg \u001b[38;5;241m=\u001b[39m \u001b[38;5;124mu\u001b[39m\u001b[38;5;124m'\u001b[39m\u001b[38;5;132;01m%s\u001b[39;00m\u001b[38;5;124m Server Error: \u001b[39m\u001b[38;5;132;01m%s\u001b[39;00m\u001b[38;5;124m for url: \u001b[39m\u001b[38;5;132;01m%s\u001b[39;00m\u001b[38;5;124m'\u001b[39m \u001b[38;5;241m%\u001b[39m (\u001b[38;5;28mself\u001b[39m\u001b[38;5;241m.\u001b[39mstatus_code, reason, \u001b[38;5;28mself\u001b[39m\u001b[38;5;241m.\u001b[39murl)\n\u001b[1;32m    959\u001b[0m \u001b[38;5;28;01mif\u001b[39;00m http_error_msg:\n\u001b[0;32m--> 960\u001b[0m     \u001b[38;5;28;01mraise\u001b[39;00m HTTPError(http_error_msg, response\u001b[38;5;241m=\u001b[39m\u001b[38;5;28mself\u001b[39m)\n",
      "\u001b[0;31mHTTPError\u001b[0m: 405 Client Error: METHOD NOT ALLOWED for url: https://api.ist256.com/playground/hello1"
     ]
    }
   ],
   "source": [
    "url = \"https://api.ist256.com/\" + \"playground/hello1\"\n",
    "response = requests.post(url)\n",
    "response.raise_for_status()\n",
    "data = response.json()\n",
    "data"
   ]
  },
  {
   "cell_type": "code",
   "execution_count": 48,
   "id": "01c3f728",
   "metadata": {},
   "outputs": [
    {
     "ename": "KeyError",
     "evalue": "'hello'",
     "output_type": "error",
     "traceback": [
      "\u001b[0;31m---------------------------------------------------------------------------\u001b[0m",
      "\u001b[0;31mKeyError\u001b[0m                                  Traceback (most recent call last)",
      "Input \u001b[0;32mIn [48]\u001b[0m, in \u001b[0;36m<module>\u001b[0;34m\u001b[0m\n\u001b[1;32m      2\u001b[0m response \u001b[38;5;241m=\u001b[39m requests\u001b[38;5;241m.\u001b[39mpost(url)\n\u001b[1;32m      3\u001b[0m data \u001b[38;5;241m=\u001b[39m response\u001b[38;5;241m.\u001b[39mjson()\n\u001b[0;32m----> 4\u001b[0m \u001b[43mdata\u001b[49m\u001b[43m[\u001b[49m\u001b[38;5;124;43m'\u001b[39;49m\u001b[38;5;124;43mhello\u001b[39;49m\u001b[38;5;124;43m'\u001b[39;49m\u001b[43m]\u001b[49m\n",
      "\u001b[0;31mKeyError\u001b[0m: 'hello'"
     ]
    }
   ],
   "source": [
    "url = \"https://api.ist256.com/\" + \"playground/hello1\"\n",
    "response = requests.post(url)\n",
    "data = response.json()\n",
    "data['hello']"
   ]
  },
  {
   "cell_type": "code",
   "execution_count": 49,
   "id": "3ce28747",
   "metadata": {},
   "outputs": [
    {
     "ename": "HTTPError",
     "evalue": "405 Client Error: METHOD NOT ALLOWED for url: https://api.ist256.com/playground/hello1",
     "output_type": "error",
     "traceback": [
      "\u001b[0;31m---------------------------------------------------------------------------\u001b[0m",
      "\u001b[0;31mHTTPError\u001b[0m                                 Traceback (most recent call last)",
      "Input \u001b[0;32mIn [49]\u001b[0m, in \u001b[0;36m<module>\u001b[0;34m\u001b[0m\n\u001b[1;32m      1\u001b[0m url \u001b[38;5;241m=\u001b[39m \u001b[38;5;124m\"\u001b[39m\u001b[38;5;124mhttps://api.ist256.com/\u001b[39m\u001b[38;5;124m\"\u001b[39m \u001b[38;5;241m+\u001b[39m \u001b[38;5;124m\"\u001b[39m\u001b[38;5;124mplayground/hello1\u001b[39m\u001b[38;5;124m\"\u001b[39m\n\u001b[1;32m      2\u001b[0m response \u001b[38;5;241m=\u001b[39m requests\u001b[38;5;241m.\u001b[39mpost(url)\n\u001b[0;32m----> 3\u001b[0m \u001b[43mresponse\u001b[49m\u001b[38;5;241;43m.\u001b[39;49m\u001b[43mraise_for_status\u001b[49m\u001b[43m(\u001b[49m\u001b[43m)\u001b[49m\n\u001b[1;32m      4\u001b[0m data \u001b[38;5;241m=\u001b[39m response\u001b[38;5;241m.\u001b[39mjson()\n\u001b[1;32m      5\u001b[0m data[\u001b[38;5;124m'\u001b[39m\u001b[38;5;124mhello\u001b[39m\u001b[38;5;124m'\u001b[39m]\n",
      "File \u001b[0;32m/opt/conda/lib/python3.9/site-packages/requests/models.py:960\u001b[0m, in \u001b[0;36mResponse.raise_for_status\u001b[0;34m(self)\u001b[0m\n\u001b[1;32m    957\u001b[0m     http_error_msg \u001b[38;5;241m=\u001b[39m \u001b[38;5;124mu\u001b[39m\u001b[38;5;124m'\u001b[39m\u001b[38;5;132;01m%s\u001b[39;00m\u001b[38;5;124m Server Error: \u001b[39m\u001b[38;5;132;01m%s\u001b[39;00m\u001b[38;5;124m for url: \u001b[39m\u001b[38;5;132;01m%s\u001b[39;00m\u001b[38;5;124m'\u001b[39m \u001b[38;5;241m%\u001b[39m (\u001b[38;5;28mself\u001b[39m\u001b[38;5;241m.\u001b[39mstatus_code, reason, \u001b[38;5;28mself\u001b[39m\u001b[38;5;241m.\u001b[39murl)\n\u001b[1;32m    959\u001b[0m \u001b[38;5;28;01mif\u001b[39;00m http_error_msg:\n\u001b[0;32m--> 960\u001b[0m     \u001b[38;5;28;01mraise\u001b[39;00m HTTPError(http_error_msg, response\u001b[38;5;241m=\u001b[39m\u001b[38;5;28mself\u001b[39m)\n",
      "\u001b[0;31mHTTPError\u001b[0m: 405 Client Error: METHOD NOT ALLOWED for url: https://api.ist256.com/playground/hello1"
     ]
    }
   ],
   "source": [
    "url = \"https://api.ist256.com/\" + \"playground/hello1\"\n",
    "response = requests.post(url)\n",
    "response.raise_for_status()\n",
    "data = response.json()\n",
    "data['hello']"
   ]
  },
  {
   "cell_type": "code",
   "execution_count": 52,
   "id": "e5badfb5",
   "metadata": {},
   "outputs": [
    {
     "name": "stdout",
     "output_type": "stream",
     "text": [
      "https://api.ist256.com/secure-playground/hello3?apikey=45ABP9S0&name=tony\n"
     ]
    },
    {
     "data": {
      "text/plain": [
       "{'hello': 'tony'}"
      ]
     },
     "execution_count": 52,
     "metadata": {},
     "output_type": "execute_result"
    }
   ],
   "source": [
    "url = \"https://api.ist256.com/secure-playground/hello3\"\n",
    "querystring = {\n",
    "    \"apikey\" : \"45ABP9S0\",\n",
    "    \"name\" : \"tony\"\n",
    "}\n",
    "response = requests.get(url, params = querystring)\n",
    "print(response.url)\n",
    "response.raise_for_status()\n",
    "data = response.json()\n",
    "data"
   ]
  },
  {
   "cell_type": "code",
   "execution_count": 53,
   "id": "062ae314",
   "metadata": {},
   "outputs": [
    {
     "name": "stdout",
     "output_type": "stream",
     "text": [
      "https://api.ist256.com/skiscrape/report\n"
     ]
    },
    {
     "data": {
      "text/plain": [
       "[{'Name': 'Labrador Mountain',\n",
       "  'Address': '6935 NY-91, Truxton, NY 13158',\n",
       "  'Website': 'https://www.skicny.com/song',\n",
       "  'Phone': '+16078426204',\n",
       "  'pluscode': 'PXR9+PW Truxton, New York',\n",
       "  'coords': {'lat': 42.44, 'lng': -76.01},\n",
       "  'report_url': 'https://www.skicny.com/labrador/ski-report/',\n",
       "  'parser': 'skicny',\n",
       "  'ski_report': {'Report': [{'Effective Date': 'Jan 18, 2022'},\n",
       "    {'Last Modified': 'Jan 18 at 6:44 am'},\n",
       "    {'Trails Open': '7'},\n",
       "    {'Lifts open day / night': '2 / 2'},\n",
       "    {'Lift hours': '10a-9p'},\n",
       "    {'Surface Conditions': 'Powder • Machine Groomed • Packed Powder'},\n",
       "    {'New snow': '12+ last 48 hours'},\n",
       "    {'Snowmaking': 'Yes'},\n",
       "    {'Base Depth': '18-48\" inches'},\n",
       "    {'New snow in last 24 hours': '12+ last 48 hours'}],\n",
       "   'Trails': [{'Trail': '1 Glade',\n",
       "     'Level': 'Most difficult',\n",
       "     'Day': 'Closed',\n",
       "     'Night': 'Closed',\n",
       "     'Lighted': 'Closed'},\n",
       "    {'Trail': '2 Midnight Express',\n",
       "     'Level': 'Most difficult',\n",
       "     'Day': 'Closed',\n",
       "     'Night': 'Closed',\n",
       "     'Lighted': 'Closed'},\n",
       "    {'Trail': '3 Ptarmigan',\n",
       "     'Level': 'Most difficult',\n",
       "     'Day': 'Closed',\n",
       "     'Night': 'Closed',\n",
       "     'Lighted': 'Closed'},\n",
       "    {'Trail': '4 No Name',\n",
       "     'Level': 'Most difficult',\n",
       "     'Day': 'Closed',\n",
       "     'Night': 'Closed',\n",
       "     'Lighted': 'Closed'},\n",
       "    {'Trail': '5 Upper Crossover',\n",
       "     'Level': 'Easiest',\n",
       "     'Day': 'Closed',\n",
       "     'Night': 'Closed',\n",
       "     'Lighted': 'Closed'},\n",
       "    {'Trail': '6 Crossover',\n",
       "     'Level': 'Easiest',\n",
       "     'Day': 'Closed',\n",
       "     'Night': 'Closed',\n",
       "     'Lighted': 'Closed'},\n",
       "    {'Trail': '7 Cut Throat',\n",
       "     'Level': 'Most difficult',\n",
       "     'Day': 'Closed',\n",
       "     'Night': 'Closed',\n",
       "     'Lighted': 'Closed'},\n",
       "    {'Trail': '8 Jacopie',\n",
       "     'Level': 'Most difficult',\n",
       "     'Day': 'Open',\n",
       "     'Night': 'Open',\n",
       "     'Lighted': 'Open'},\n",
       "    {'Trail': '9 Upper Muzzle',\n",
       "     'Level': 'More difficult',\n",
       "     'Day': 'Open',\n",
       "     'Night': 'Open',\n",
       "     'Lighted': 'Open'},\n",
       "    {'Trail': '10 Char Run',\n",
       "     'Level': 'Easiest',\n",
       "     'Day': 'Closed',\n",
       "     'Night': 'Closed',\n",
       "     'Lighted': 'Closed'},\n",
       "    {'Trail': '11 Grenfel',\n",
       "     'Level': 'More difficult',\n",
       "     'Day': 'Closed',\n",
       "     'Night': 'Closed',\n",
       "     'Lighted': 'Closed'},\n",
       "    {'Trail': '12 Slack Waters',\n",
       "     'Level': 'Easiest',\n",
       "     'Day': 'Open',\n",
       "     'Night': 'Open',\n",
       "     'Lighted': 'Open'},\n",
       "    {'Trail': '13 Lower Muzzle',\n",
       "     'Level': 'More difficult',\n",
       "     'Day': 'Open',\n",
       "     'Night': 'Open',\n",
       "     'Lighted': 'Open'},\n",
       "    {'Trail': '14 NASTAR Area',\n",
       "     'Level': 'More difficult',\n",
       "     'Day': 'Open',\n",
       "     'Night': 'Open',\n",
       "     'Lighted': 'Open'},\n",
       "    {'Trail': '15 Red Wine',\n",
       "     'Level': 'More difficult',\n",
       "     'Day': 'Closed',\n",
       "     'Night': 'Closed',\n",
       "     'Lighted': 'Closed'},\n",
       "    {'Trail': '16 White Wine',\n",
       "     'Level': 'More difficult',\n",
       "     'Day': 'Closed',\n",
       "     'Night': 'Closed',\n",
       "     'Lighted': 'Closed'},\n",
       "    {'Trail': '17 Minipi Rapids',\n",
       "     'Level': 'More difficult',\n",
       "     'Day': 'Open',\n",
       "     'Night': 'Open',\n",
       "     'Lighted': 'Open'},\n",
       "    {'Trail': '18 Lower Lookout',\n",
       "     'Level': 'More difficult',\n",
       "     'Day': 'Closed',\n",
       "     'Night': 'Closed',\n",
       "     'Lighted': 'Closed'},\n",
       "    {'Trail': '19 Upper Lookout',\n",
       "     'Level': 'More difficult',\n",
       "     'Day': 'Closed',\n",
       "     'Night': 'Closed',\n",
       "     'Lighted': 'Closed'},\n",
       "    {'Trail': '20 Chute',\n",
       "     'Level': 'Easiest',\n",
       "     'Day': 'Closed',\n",
       "     'Night': 'Closed',\n",
       "     'Lighted': 'Closed'},\n",
       "    {'Trail': '21 Badger',\n",
       "     'Level': 'Most difficult',\n",
       "     'Day': 'Open',\n",
       "     'Night': 'Open',\n",
       "     'Lighted': 'Open'},\n",
       "    {'Trail': '22 Razor Back',\n",
       "     'Level': 'Easiest',\n",
       "     'Day': 'Closed',\n",
       "     'Night': 'Closed',\n",
       "     'Lighted': 'Closed'},\n",
       "    {'Trail': '23 Terrain Park',\n",
       "     'Level': 'Most difficult',\n",
       "     'Day': 'Closed',\n",
       "     'Night': 'Closed',\n",
       "     'Lighted': 'Closed'}]},\n",
       "  'last_updated': '2022-01-18 11:10:28'},\n",
       " {'Name': 'Song Mountain',\n",
       "  'Address': '1 Song Mountain Rd, Tully, NY 13159',\n",
       "  'Website': 'https://www.skicny.com/labrador',\n",
       "  'Phone': '+13156965711',\n",
       "  'pluscode': 'QRFR+PJ Tully, New York',\n",
       "  'coords': {'lat': 42.46, 'lng': -76.09},\n",
       "  'report_url': 'https://www.skicny.com/song/ski-report/',\n",
       "  'parser': 'skicny',\n",
       "  'ski_report': {'Report': [{'Effective Date': 'Jan 18, 2022'},\n",
       "    {'Last Modified': 'Jan 18 at 6:43 am'},\n",
       "    {'Trails Open': '10'},\n",
       "    {'Lifts open day / night': '2 / 2'},\n",
       "    {'Lift hours': '10a-9p'},\n",
       "    {'Surface Conditions': 'Powder • Machine Groomed • Packed Powder'},\n",
       "    {'New snow': '12+ last 48 hours'},\n",
       "    {'Snowmaking': 'Yes'},\n",
       "    {'Base Depth': '18-48\" inches'},\n",
       "    {'New snow in last 24 hours': '12+ last 48 hours'}],\n",
       "   'Trails': [{'Trail': '1 Jupiter',\n",
       "     'Level': 'Most difficult',\n",
       "     'Day': 'Closed',\n",
       "     'Night': 'Closed',\n",
       "     'Lighted': 'Closed'},\n",
       "    {'Trail': '2 Moon Glow',\n",
       "     'Level': 'Easiest',\n",
       "     'Day': 'Closed',\n",
       "     'Night': 'Closed',\n",
       "     'Lighted': 'Closed'},\n",
       "    {'Trail': '3 Otto’s Folly',\n",
       "     'Level': 'Most difficult',\n",
       "     'Day': 'Closed',\n",
       "     'Night': 'Closed',\n",
       "     'Lighted': 'Closed'},\n",
       "    {'Trail': '4 Whispering',\n",
       "     'Level': 'Easiest',\n",
       "     'Day': 'Closed',\n",
       "     'Night': 'Closed',\n",
       "     'Lighted': 'Closed'},\n",
       "    {'Trail': '5 Hello Dolly',\n",
       "     'Level': 'More difficult',\n",
       "     'Day': 'Closed',\n",
       "     'Night': 'Closed',\n",
       "     'Lighted': 'Closed'},\n",
       "    {'Trail': '6 Charleston',\n",
       "     'Level': 'More difficult',\n",
       "     'Day': 'Closed',\n",
       "     'Night': 'Closed',\n",
       "     'Lighted': 'Closed'},\n",
       "    {'Trail': '7 Wishing Well',\n",
       "     'Level': 'More difficult',\n",
       "     'Day': 'Closed',\n",
       "     'Night': 'Closed',\n",
       "     'Lighted': 'Closed'},\n",
       "    {'Trail': '8 Mixing Bowl',\n",
       "     'Level': 'Easiest',\n",
       "     'Day': 'Open',\n",
       "     'Night': 'Open',\n",
       "     'Lighted': 'Open'},\n",
       "    {'Trail': '9 Old Smoothie',\n",
       "     'Level': 'Easiest',\n",
       "     'Day': 'Closed',\n",
       "     'Night': 'Closed',\n",
       "     'Lighted': 'Closed'},\n",
       "    {'Trail': '10 Bunny Hop',\n",
       "     'Level': 'Easiest',\n",
       "     'Day': 'Open',\n",
       "     'Night': 'Open',\n",
       "     'Lighted': 'Open'},\n",
       "    {'Trail': '11a Upper Stormy',\n",
       "     'Level': 'More difficult',\n",
       "     'Day': 'Open',\n",
       "     'Night': 'Open',\n",
       "     'Lighted': 'Open'},\n",
       "    {'Trail': '11b Lower Stormy',\n",
       "     'Level': 'Easiest',\n",
       "     'Day': 'Open',\n",
       "     'Night': 'Open',\n",
       "     'Lighted': 'Open'},\n",
       "    {'Trail': '12 Tuxedo Junction',\n",
       "     'Level': 'More difficult',\n",
       "     'Day': 'Closed',\n",
       "     'Night': 'Closed',\n",
       "     'Lighted': 'Closed'},\n",
       "    {'Trail': '14 Upper Dipsy Doodle',\n",
       "     'Level': 'Most difficult',\n",
       "     'Day': 'Closed',\n",
       "     'Night': 'Closed',\n",
       "     'Lighted': 'Closed'},\n",
       "    {'Trail': '15 Lower Dipsy Doodle',\n",
       "     'Level': 'More difficult',\n",
       "     'Day': 'Closed',\n",
       "     'Night': 'Closed',\n",
       "     'Lighted': 'Closed'},\n",
       "    {'Trail': '16 Bali Hai',\n",
       "     'Level': 'Most difficult',\n",
       "     'Day': 'Open',\n",
       "     'Night': 'Open',\n",
       "     'Lighted': 'Open'},\n",
       "    {'Trail': '17 Stardust',\n",
       "     'Level': 'More difficult',\n",
       "     'Day': 'Open',\n",
       "     'Night': 'Open',\n",
       "     'Lighted': 'Open'},\n",
       "    {'Trail': '18 Chopsticks',\n",
       "     'Level': 'Most difficult',\n",
       "     'Day': 'Closed',\n",
       "     'Night': 'Closed',\n",
       "     'Lighted': 'Closed'},\n",
       "    {'Trail': '19 Crossover',\n",
       "     'Level': 'More difficult',\n",
       "     'Day': 'Closed',\n",
       "     'Night': 'Closed',\n",
       "     'Lighted': 'Closed'},\n",
       "    {'Trail': '20 Christmas Carol',\n",
       "     'Level': 'More difficult',\n",
       "     'Day': 'Open',\n",
       "     'Night': 'Open',\n",
       "     'Lighted': 'Open'},\n",
       "    {'Trail': '21 One More Try',\n",
       "     'Level': 'More difficult',\n",
       "     'Day': 'Open',\n",
       "     'Night': 'Open',\n",
       "     'Lighted': 'Open'},\n",
       "    {'Trail': '22 Deep Purple',\n",
       "     'Level': 'Easiest',\n",
       "     'Day': 'Open',\n",
       "     'Night': 'Open',\n",
       "     'Lighted': 'Open'},\n",
       "    {'Trail': '23 Sentimental Journey',\n",
       "     'Level': 'Easiest',\n",
       "     'Day': 'Open',\n",
       "     'Night': 'Open',\n",
       "     'Lighted': 'Open'},\n",
       "    {'Trail': '24 The Meadow',\n",
       "     'Level': 'Easiest',\n",
       "     'Day': 'Closed',\n",
       "     'Night': 'Closed',\n",
       "     'Lighted': 'Closed'}]},\n",
       "  'last_updated': '2022-01-18 11:10:28'}]"
      ]
     },
     "execution_count": 53,
     "metadata": {},
     "output_type": "execute_result"
    }
   ],
   "source": [
    "url = \"https://api.ist256.com/skiscrape/report\"\n",
    "response = requests.get(url)\n",
    "print(response.url)\n",
    "response.raise_for_status()\n",
    "data = response.json()\n",
    "data"
   ]
  },
  {
   "cell_type": "code",
   "execution_count": 69,
   "id": "bc6b4606",
   "metadata": {},
   "outputs": [
    {
     "data": {
      "text/plain": [
       "'7'"
      ]
     },
     "execution_count": 69,
     "metadata": {},
     "output_type": "execute_result"
    }
   ],
   "source": [
    "# gets number of trails open fro first ski resort\n",
    "data[0]['ski_report']['Report'][2]['Trails Open']"
   ]
  },
  {
   "cell_type": "code",
   "execution_count": 54,
   "id": "8d3ec166",
   "metadata": {},
   "outputs": [
    {
     "data": {
      "text/plain": [
       "list"
      ]
     },
     "execution_count": 54,
     "metadata": {},
     "output_type": "execute_result"
    }
   ],
   "source": [
    "type(data)"
   ]
  },
  {
   "cell_type": "code",
   "execution_count": 55,
   "id": "c8875899",
   "metadata": {},
   "outputs": [
    {
     "data": {
      "text/plain": [
       "2"
      ]
     },
     "execution_count": 55,
     "metadata": {},
     "output_type": "execute_result"
    }
   ],
   "source": [
    "len(data)"
   ]
  },
  {
   "cell_type": "code",
   "execution_count": 61,
   "id": "f3f6ada6",
   "metadata": {},
   "outputs": [
    {
     "data": {
      "text/plain": [
       "'Labrador Mountain'"
      ]
     },
     "execution_count": 61,
     "metadata": {},
     "output_type": "execute_result"
    }
   ],
   "source": [
    "data[0]['Name']"
   ]
  },
  {
   "cell_type": "code",
   "execution_count": 62,
   "id": "aa5b0df7",
   "metadata": {},
   "outputs": [
    {
     "name": "stdout",
     "output_type": "stream",
     "text": [
      "Labrador Mountain\n",
      "Song Mountain\n"
     ]
    }
   ],
   "source": [
    "for x in data:\n",
    "    print (x['Name'])"
   ]
  },
  {
   "cell_type": "code",
   "execution_count": 70,
   "id": "34621195",
   "metadata": {},
   "outputs": [
    {
     "data": {
      "text/plain": [
       "'10'"
      ]
     },
     "execution_count": 70,
     "metadata": {},
     "output_type": "execute_result"
    }
   ],
   "source": [
    "# gets number of trails open the last ski resort\n",
    "data[-1]['ski_report']['Report'][2]['Trails Open']"
   ]
  },
  {
   "cell_type": "code",
   "execution_count": 71,
   "id": "d7f4b36a",
   "metadata": {},
   "outputs": [
    {
     "name": "stdout",
     "output_type": "stream",
     "text": [
      "Labrador Mountain 7\n",
      "Song Mountain 10\n"
     ]
    }
   ],
   "source": [
    "for x in data:\n",
    "    resort = x['Name']\n",
    "    trails_open = x['ski_report']['Report'][2]['Trails Open']\n",
    "    print(resort, trails_open)"
   ]
  },
  {
   "cell_type": "code",
   "execution_count": 72,
   "id": "7cab8253",
   "metadata": {},
   "outputs": [
    {
     "data": {
      "text/plain": [
       "['__add__',\n",
       " '__class__',\n",
       " '__class_getitem__',\n",
       " '__contains__',\n",
       " '__delattr__',\n",
       " '__delitem__',\n",
       " '__dir__',\n",
       " '__doc__',\n",
       " '__eq__',\n",
       " '__format__',\n",
       " '__ge__',\n",
       " '__getattribute__',\n",
       " '__getitem__',\n",
       " '__gt__',\n",
       " '__hash__',\n",
       " '__iadd__',\n",
       " '__imul__',\n",
       " '__init__',\n",
       " '__init_subclass__',\n",
       " '__iter__',\n",
       " '__le__',\n",
       " '__len__',\n",
       " '__lt__',\n",
       " '__mul__',\n",
       " '__ne__',\n",
       " '__new__',\n",
       " '__reduce__',\n",
       " '__reduce_ex__',\n",
       " '__repr__',\n",
       " '__reversed__',\n",
       " '__rmul__',\n",
       " '__setattr__',\n",
       " '__setitem__',\n",
       " '__sizeof__',\n",
       " '__str__',\n",
       " '__subclasshook__',\n",
       " 'append',\n",
       " 'clear',\n",
       " 'copy',\n",
       " 'count',\n",
       " 'extend',\n",
       " 'index',\n",
       " 'insert',\n",
       " 'pop',\n",
       " 'remove',\n",
       " 'reverse',\n",
       " 'sort']"
      ]
     },
     "execution_count": 72,
     "metadata": {},
     "output_type": "execute_result"
    }
   ],
   "source": [
    "dir(list)"
   ]
  },
  {
   "cell_type": "code",
   "execution_count": 73,
   "id": "56542cfd",
   "metadata": {},
   "outputs": [
    {
     "ename": "NameError",
     "evalue": "name 'append' is not defined",
     "output_type": "error",
     "traceback": [
      "\u001b[0;31m---------------------------------------------------------------------------\u001b[0m",
      "\u001b[0;31mNameError\u001b[0m                                 Traceback (most recent call last)",
      "Input \u001b[0;32mIn [73]\u001b[0m, in \u001b[0;36m<module>\u001b[0;34m\u001b[0m\n\u001b[0;32m----> 1\u001b[0m \u001b[43mappend\u001b[49m, copy, count, index, insert, pop, remove\n",
      "\u001b[0;31mNameError\u001b[0m: name 'append' is not defined"
     ]
    }
   ],
   "source": [
    "append, copy, count, index, insert, pop, remove\n"
   ]
  },
  {
   "cell_type": "code",
   "execution_count": 74,
   "id": "29a1ce9d",
   "metadata": {},
   "outputs": [
    {
     "data": {
      "text/plain": [
       "['__class__',\n",
       " '__class_getitem__',\n",
       " '__contains__',\n",
       " '__delattr__',\n",
       " '__delitem__',\n",
       " '__dir__',\n",
       " '__doc__',\n",
       " '__eq__',\n",
       " '__format__',\n",
       " '__ge__',\n",
       " '__getattribute__',\n",
       " '__getitem__',\n",
       " '__gt__',\n",
       " '__hash__',\n",
       " '__init__',\n",
       " '__init_subclass__',\n",
       " '__ior__',\n",
       " '__iter__',\n",
       " '__le__',\n",
       " '__len__',\n",
       " '__lt__',\n",
       " '__ne__',\n",
       " '__new__',\n",
       " '__or__',\n",
       " '__reduce__',\n",
       " '__reduce_ex__',\n",
       " '__repr__',\n",
       " '__reversed__',\n",
       " '__ror__',\n",
       " '__setattr__',\n",
       " '__setitem__',\n",
       " '__sizeof__',\n",
       " '__str__',\n",
       " '__subclasshook__',\n",
       " 'clear',\n",
       " 'copy',\n",
       " 'fromkeys',\n",
       " 'get',\n",
       " 'items',\n",
       " 'keys',\n",
       " 'pop',\n",
       " 'popitem',\n",
       " 'setdefault',\n",
       " 'update',\n",
       " 'values']"
      ]
     },
     "execution_count": 74,
     "metadata": {},
     "output_type": "execute_result"
    }
   ],
   "source": [
    "dir(dict)"
   ]
  },
  {
   "cell_type": "code",
   "execution_count": 78,
   "id": "666f64fc",
   "metadata": {},
   "outputs": [
    {
     "ename": "KeyError",
     "evalue": "'b'",
     "output_type": "error",
     "traceback": [
      "\u001b[0;31m---------------------------------------------------------------------------\u001b[0m",
      "\u001b[0;31mKeyError\u001b[0m                                  Traceback (most recent call last)",
      "Input \u001b[0;32mIn [78]\u001b[0m, in \u001b[0;36m<module>\u001b[0;34m\u001b[0m\n\u001b[1;32m      1\u001b[0m x \u001b[38;5;241m=\u001b[39m { \u001b[38;5;124m\"\u001b[39m\u001b[38;5;124ma\u001b[39m\u001b[38;5;124m\"\u001b[39m : \u001b[38;5;241m1\u001b[39m}\n\u001b[1;32m      2\u001b[0m x[\u001b[38;5;124m'\u001b[39m\u001b[38;5;124mc\u001b[39m\u001b[38;5;124m'\u001b[39m] \u001b[38;5;241m=\u001b[39m\u001b[38;5;241m0\u001b[39m\n\u001b[0;32m----> 3\u001b[0m \u001b[43mx\u001b[49m\u001b[43m[\u001b[49m\u001b[38;5;124;43m\"\u001b[39;49m\u001b[38;5;124;43mb\u001b[39;49m\u001b[38;5;124;43m\"\u001b[39;49m\u001b[43m]\u001b[49m\n",
      "\u001b[0;31mKeyError\u001b[0m: 'b'"
     ]
    }
   ],
   "source": [
    "x = { \"a\" : 1}\n",
    "x['c'] =0\n",
    "x[\"b\"]"
   ]
  },
  {
   "cell_type": "code",
   "execution_count": 77,
   "id": "b7b4a0fd",
   "metadata": {},
   "outputs": [
    {
     "data": {
      "text/plain": [
       "'kjasdhfkjsd'"
      ]
     },
     "execution_count": 77,
     "metadata": {},
     "output_type": "execute_result"
    }
   ],
   "source": [
    "x.get(\"b\", \"0\")"
   ]
  },
  {
   "cell_type": "code",
   "execution_count": 79,
   "id": "62ccf365",
   "metadata": {},
   "outputs": [
    {
     "data": {
      "text/plain": [
       "dict_keys(['a', 'c'])"
      ]
     },
     "execution_count": 79,
     "metadata": {},
     "output_type": "execute_result"
    }
   ],
   "source": [
    "x.keys()"
   ]
  },
  {
   "cell_type": "code",
   "execution_count": 80,
   "id": "9df64195",
   "metadata": {},
   "outputs": [
    {
     "data": {
      "text/plain": [
       "dict_values([1, 0])"
      ]
     },
     "execution_count": 80,
     "metadata": {},
     "output_type": "execute_result"
    }
   ],
   "source": [
    "x.values()"
   ]
  },
  {
   "cell_type": "code",
   "execution_count": 81,
   "id": "595b22a2",
   "metadata": {},
   "outputs": [
    {
     "name": "stdout",
     "output_type": "stream",
     "text": [
      "1\n",
      "0\n"
     ]
    }
   ],
   "source": [
    "for val in x.values():\n",
    "    print(val)"
   ]
  },
  {
   "cell_type": "code",
   "execution_count": null,
   "id": "824d8651",
   "metadata": {},
   "outputs": [],
   "source": [
    "int(y)"
   ]
  }
 ],
 "metadata": {
  "kernelspec": {
   "display_name": "Python 3 (ipykernel)",
   "language": "python",
   "name": "python3"
  },
  "language_info": {
   "codemirror_mode": {
    "name": "ipython",
    "version": 3
   },
   "file_extension": ".py",
   "mimetype": "text/x-python",
   "name": "python",
   "nbconvert_exporter": "python",
   "pygments_lexer": "ipython3",
   "version": "3.9.7"
  },
  "varInspector": {
   "cols": {
    "lenName": 16,
    "lenType": 16,
    "lenVar": 40
   },
   "kernels_config": {
    "python": {
     "delete_cmd_postfix": "",
     "delete_cmd_prefix": "del ",
     "library": "var_list.py",
     "varRefreshCmd": "print(var_dic_list())"
    },
    "r": {
     "delete_cmd_postfix": ") ",
     "delete_cmd_prefix": "rm(",
     "library": "var_list.r",
     "varRefreshCmd": "cat(var_dic_list()) "
    }
   },
   "types_to_exclude": [
    "module",
    "function",
    "builtin_function_or_method",
    "instance",
    "_Feature"
   ],
   "window_display": false
  }
 },
 "nbformat": 4,
 "nbformat_minor": 5
}
