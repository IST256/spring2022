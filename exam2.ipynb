{
 "cells": [
  {
   "cell_type": "code",
   "execution_count": 1,
   "id": "4420e99b",
   "metadata": {},
   "outputs": [
    {
     "name": "stdout",
     "output_type": "stream",
     "text": [
      "Enter n: 15\n",
      "1\n"
     ]
    }
   ],
   "source": [
    "n = int(input(\"Enter n: \"))\n",
    "if n > 0:\n",
    "    q = 1\n",
    "elif n >10:\n",
    "    q = 2    \n",
    "elif n > 20:\n",
    "    q = 3\n",
    "else:\n",
    "    q = 4\n",
    "    \n",
    "print(q)"
   ]
  },
  {
   "cell_type": "code",
   "execution_count": 2,
   "id": "825432ce",
   "metadata": {},
   "outputs": [
    {
     "name": "stdout",
     "output_type": "stream",
     "text": [
      "5\n"
     ]
    }
   ],
   "source": [
    "k = 0\n",
    "for j in range(10): #loop 10 times! Start at 0 0 to 9 \n",
    "    if j > 4:\n",
    "        k = k + 1\n",
    "        \n",
    "print(k)"
   ]
  },
  {
   "cell_type": "markdown",
   "id": "74def454",
   "metadata": {},
   "source": [
    "k = 0 0 0 0 0 1 2 3 4 5\n",
    "j = 0 1 2 3 4 5 6 7 8 9\n"
   ]
  },
  {
   "cell_type": "code",
   "execution_count": 4,
   "id": "570786d3",
   "metadata": {},
   "outputs": [
    {
     "name": "stdout",
     "output_type": "stream",
     "text": [
      "h\n",
      "o\n"
     ]
    }
   ],
   "source": [
    "text = \"this is today\"\n",
    "for a in text.split():\n",
    "    if len(a)>3:\n",
    "        print(a[1])"
   ]
  },
  {
   "cell_type": "markdown",
   "id": "93c45861",
   "metadata": {},
   "source": [
    "a      | \"this\"               \"is\"    \"today\"\n",
    "text   | \"this is today\"\n",
    "split()| \"this\" \"is\" \"today\"\n",
    "len(a) |  4                    2       5\n",
    "print  |  h                            o"
   ]
  },
  {
   "cell_type": "code",
   "execution_count": 3,
   "id": "eacfd6b9",
   "metadata": {},
   "outputs": [
    {
     "data": {
      "text/plain": [
       "['this', 'is', 'today']"
      ]
     },
     "execution_count": 3,
     "metadata": {},
     "output_type": "execute_result"
    }
   ],
   "source": [
    "text = \"this is today\"\n",
    "text.split()"
   ]
  },
  {
   "cell_type": "code",
   "execution_count": 5,
   "id": "82fc71db",
   "metadata": {},
   "outputs": [
    {
     "data": {
      "text/plain": [
       "'p'"
      ]
     },
     "execution_count": 5,
     "metadata": {},
     "output_type": "execute_result"
    }
   ],
   "source": [
    "text = \"people\"\n",
    "text[0] "
   ]
  },
  {
   "cell_type": "code",
   "execution_count": 6,
   "id": "3173a5c2",
   "metadata": {},
   "outputs": [
    {
     "name": "stdout",
     "output_type": "stream",
     "text": [
      "p\n",
      "p\n"
     ]
    }
   ],
   "source": [
    "text = \"people\"\n",
    "for a in text:\n",
    "    if a == \"p\":\n",
    "        print(a)"
   ]
  },
  {
   "cell_type": "code",
   "execution_count": 12,
   "id": "13ef5ad4",
   "metadata": {},
   "outputs": [
    {
     "name": "stdout",
     "output_type": "stream",
     "text": [
      "testing\n",
      "1\n"
     ]
    }
   ],
   "source": [
    "# When you input: \"mike is really awesome\" on line 3\n",
    "# What prints on line 8?\n",
    "a = input()\n",
    "b = 0\n",
    "for c in a.split():\n",
    "    b = b + 1\n",
    "\n",
    "print(b)"
   ]
  },
  {
   "cell_type": "code",
   "execution_count": 18,
   "id": "a8055d48",
   "metadata": {},
   "outputs": [
    {
     "name": "stdout",
     "output_type": "stream",
     "text": [
      "Something going on\n",
      "SOMETHING GOING ON\n",
      "S?METHING G?ING ?N\n",
      "3\n"
     ]
    }
   ],
   "source": [
    "t = \"Something going on\"\n",
    "j = t.upper()\n",
    "k = j.replace(\"G\",\"?\")\n",
    "l = k.count(\"?\")\n",
    "print(l)\n"
   ]
  },
  {
   "cell_type": "code",
   "execution_count": 19,
   "id": "b11051d5",
   "metadata": {},
   "outputs": [
    {
     "name": "stdout",
     "output_type": "stream",
     "text": [
      "John Jones\n",
      "wohnw\n"
     ]
    }
   ],
   "source": [
    "#LINE 2: \"John Jones\"\n",
    "\n",
    "w = input()\n",
    "x = w.replace(\"J\",\"w\")\n",
    "y = x[:4] + \"w\"\n",
    "print(y)"
   ]
  },
  {
   "cell_type": "markdown",
   "id": "5500fe68",
   "metadata": {},
   "source": [
    "w = \"John Jones\"\n",
    "x = \"John Jones\".replace(\"J\",\"w\") => \"wohn wones\"\n",
    "y = \"wohn\" + \"w\" => \"wohnw\""
   ]
  },
  {
   "cell_type": "code",
   "execution_count": 20,
   "id": "5968ef6e",
   "metadata": {},
   "outputs": [
    {
     "name": "stdout",
     "output_type": "stream",
     "text": [
      "syracuse\n",
      "tyrx\n"
     ]
    }
   ],
   "source": [
    "#LINE 2: \"syracuse\"\n",
    "\n",
    "w = input()\n",
    "x = w.replace(\"s\",\"t\")\n",
    "y = x[:3] + \"x\"\n",
    "print(y)"
   ]
  },
  {
   "cell_type": "markdown",
   "id": "fbe0b893",
   "metadata": {},
   "source": [
    "w = \"syracuse\"\n",
    "x = \"syracuse\".replace(\"s\",\"t\") => \"tyracute\"\n",
    "y = \"tyr\" + \"x\" "
   ]
  },
  {
   "cell_type": "code",
   "execution_count": 21,
   "id": "0967a91a",
   "metadata": {},
   "outputs": [
    {
     "data": {
      "text/plain": [
       "['__add__',\n",
       " '__class__',\n",
       " '__contains__',\n",
       " '__delattr__',\n",
       " '__dir__',\n",
       " '__doc__',\n",
       " '__eq__',\n",
       " '__format__',\n",
       " '__ge__',\n",
       " '__getattribute__',\n",
       " '__getitem__',\n",
       " '__getnewargs__',\n",
       " '__gt__',\n",
       " '__hash__',\n",
       " '__init__',\n",
       " '__init_subclass__',\n",
       " '__iter__',\n",
       " '__le__',\n",
       " '__len__',\n",
       " '__lt__',\n",
       " '__mod__',\n",
       " '__mul__',\n",
       " '__ne__',\n",
       " '__new__',\n",
       " '__reduce__',\n",
       " '__reduce_ex__',\n",
       " '__repr__',\n",
       " '__rmod__',\n",
       " '__rmul__',\n",
       " '__setattr__',\n",
       " '__sizeof__',\n",
       " '__str__',\n",
       " '__subclasshook__',\n",
       " 'capitalize',\n",
       " 'casefold',\n",
       " 'center',\n",
       " 'count',\n",
       " 'encode',\n",
       " 'endswith',\n",
       " 'expandtabs',\n",
       " 'find',\n",
       " 'format',\n",
       " 'format_map',\n",
       " 'index',\n",
       " 'isalnum',\n",
       " 'isalpha',\n",
       " 'isascii',\n",
       " 'isdecimal',\n",
       " 'isdigit',\n",
       " 'isidentifier',\n",
       " 'islower',\n",
       " 'isnumeric',\n",
       " 'isprintable',\n",
       " 'isspace',\n",
       " 'istitle',\n",
       " 'isupper',\n",
       " 'join',\n",
       " 'ljust',\n",
       " 'lower',\n",
       " 'lstrip',\n",
       " 'maketrans',\n",
       " 'partition',\n",
       " 'removeprefix',\n",
       " 'removesuffix',\n",
       " 'replace',\n",
       " 'rfind',\n",
       " 'rindex',\n",
       " 'rjust',\n",
       " 'rpartition',\n",
       " 'rsplit',\n",
       " 'rstrip',\n",
       " 'split',\n",
       " 'splitlines',\n",
       " 'startswith',\n",
       " 'strip',\n",
       " 'swapcase',\n",
       " 'title',\n",
       " 'translate',\n",
       " 'upper',\n",
       " 'zfill']"
      ]
     },
     "execution_count": 21,
     "metadata": {},
     "output_type": "execute_result"
    }
   ],
   "source": [
    "dir(str)"
   ]
  },
  {
   "cell_type": "code",
   "execution_count": 22,
   "id": "cdb6e168",
   "metadata": {},
   "outputs": [
    {
     "data": {
      "text/plain": [
       "1"
      ]
     },
     "execution_count": 22,
     "metadata": {},
     "output_type": "execute_result"
    }
   ],
   "source": [
    "\"mississippi\".find(\"i\")"
   ]
  },
  {
   "cell_type": "code",
   "execution_count": 23,
   "id": "ff49dcb7",
   "metadata": {},
   "outputs": [
    {
     "data": {
      "text/plain": [
       "2"
      ]
     },
     "execution_count": 23,
     "metadata": {},
     "output_type": "execute_result"
    }
   ],
   "source": [
    "\"mississippi\".count(\"is\")"
   ]
  },
  {
   "cell_type": "code",
   "execution_count": 24,
   "id": "80c53a7f",
   "metadata": {},
   "outputs": [
    {
     "name": "stdout",
     "output_type": "stream",
     "text": [
      "com\n"
     ]
    }
   ],
   "source": [
    "x = \"syracuse.com\"\n",
    "y = x.find(\".\")\n",
    "z = x[y+1:]\n",
    "print(z)"
   ]
  },
  {
   "cell_type": "code",
   "execution_count": 25,
   "id": "88e87bf5",
   "metadata": {},
   "outputs": [
    {
     "name": "stdout",
     "output_type": "stream",
     "text": [
      "-1\n"
     ]
    }
   ],
   "source": [
    "def a(x,y):\n",
    "    return y-x\n",
    "\n",
    "x = 10\n",
    "y = 11\n",
    "z = a(y,x)\n",
    "print(z)"
   ]
  },
  {
   "cell_type": "markdown",
   "id": "0eb15848",
   "metadata": {},
   "source": [
    "x = 10\n",
    "y = 11\n",
    "z = a(11,10) CALL\n",
    "DEFINITION a(x=11,y=10)\n",
    "return 10-11\n",
    "z = -1"
   ]
  },
  {
   "cell_type": "code",
   "execution_count": 28,
   "id": "1fbcc743",
   "metadata": {},
   "outputs": [
    {
     "name": "stdout",
     "output_type": "stream",
     "text": [
      "7\n"
     ]
    }
   ],
   "source": [
    "def a(b,c):\n",
    "    return b+c\n",
    "\n",
    "x = 2\n",
    "y = 5\n",
    "z = a(y,y)\n",
    "print(z)"
   ]
  },
  {
   "cell_type": "markdown",
   "id": "e1ded483",
   "metadata": {},
   "source": [
    "x = 2\n",
    "y = 5\n",
    "z = a(5,5) CALL\n",
    "DEF: a(b=5,c=5)\n",
    " 5+5\n",
    " print(10)"
   ]
  },
  {
   "cell_type": "code",
   "execution_count": null,
   "id": "f1114cf5",
   "metadata": {},
   "outputs": [],
   "source": [
    "def a(b,c,d):\n",
    "    e = b+c\n",
    "    return e+d\n",
    "\n",
    "x = 1\n",
    "z = a(x, x+1, x-1)\n",
    "print(z)"
   ]
  },
  {
   "cell_type": "markdown",
   "id": "92c71c15",
   "metadata": {},
   "source": [
    "x =1 \n",
    "CALL: a(1, 2, 0)\n",
    "DEF: a(b=1,c=2,d=0)\n",
    " e= 1+2 => 3\n",
    " return 3+ 0\n",
    " \n",
    "z =3"
   ]
  },
  {
   "cell_type": "code",
   "execution_count": null,
   "id": "a6695abf",
   "metadata": {},
   "outputs": [],
   "source": [
    "def x(a,b):\n",
    "    return a+b\n",
    "\n",
    "w = 5\n",
    "for i in range(w):\n",
    "    if i < w-2:\n",
    "        z = x(i,i)\n",
    "        \n",
    "print(z)"
   ]
  },
  {
   "cell_type": "markdown",
   "id": "3347135d",
   "metadata": {},
   "source": [
    "w     | 5\n",
    "i     | 0   1   2   3   4\n",
    "i<3   | T   T   T   F   F\n",
    "z     | 0   2   4         "
   ]
  },
  {
   "cell_type": "code",
   "execution_count": null,
   "id": "e7e3df5e",
   "metadata": {},
   "outputs": [],
   "source": [
    "with open(\"somefile.txt\",\"r\") as f:\n",
    "    for line in f.readlines():\n",
    "        if len(line.strip()) < 4:\n",
    "            print(line)\n",
    "        else:\n",
    "            print(\"?\")"
   ]
  },
  {
   "cell_type": "markdown",
   "id": "eb7f0154",
   "metadata": {},
   "source": [
    "Assuming this is somefile.txt:\n",
    "\n",
    "    mike\n",
    "    billy\n",
    "    sarah\n",
    "    karen\n",
    "    dee\n",
    "    \n",
    " how many names in the file print?\n",
    " which is the first name to print?\n",
    " what is the last name to print?"
   ]
  },
  {
   "cell_type": "code",
   "execution_count": null,
   "id": "6e083002",
   "metadata": {},
   "outputs": [],
   "source": [
    "with open(\"somefile.txt\",\"a\") as f:\n",
    "    for line in f.readlines():\n",
    "        if line.strip().find(\"i\")==-1:\n",
    "            print(line)\n",
    "        else:\n",
    "            print(\"?\")"
   ]
  },
  {
   "cell_type": "markdown",
   "id": "afafcded",
   "metadata": {},
   "source": [
    "Assuming this is somefile.txt:\n",
    "\n",
    "    mike\n",
    "    billy\n",
    "    ida\n",
    "    dee\n",
    "\n",
    "which names print?"
   ]
  },
  {
   "cell_type": "code",
   "execution_count": 29,
   "id": "66ac0a37",
   "metadata": {},
   "outputs": [
    {
     "data": {
      "text/plain": [
       "-1"
      ]
     },
     "execution_count": 29,
     "metadata": {},
     "output_type": "execute_result"
    }
   ],
   "source": [
    "\"dee\".find(\"i\")"
   ]
  },
  {
   "cell_type": "code",
   "execution_count": 30,
   "id": "43c55c4f",
   "metadata": {},
   "outputs": [
    {
     "name": "stdout",
     "output_type": "stream",
     "text": [
      "Help on method_descriptor:\n",
      "\n",
      "find(...)\n",
      "    S.find(sub[, start[, end]]) -> int\n",
      "    \n",
      "    Return the lowest index in S where substring sub is found,\n",
      "    such that sub is contained within S[start:end].  Optional\n",
      "    arguments start and end are interpreted as in slice notation.\n",
      "    \n",
      "    Return -1 on failure.\n",
      "\n"
     ]
    }
   ],
   "source": [
    "help(str.find)"
   ]
  },
  {
   "cell_type": "code",
   "execution_count": 31,
   "id": "c8d52c76",
   "metadata": {},
   "outputs": [
    {
     "name": "stdout",
     "output_type": "stream",
     "text": [
      "a\n",
      "g\n",
      "d\n",
      "ag\n"
     ]
    }
   ],
   "source": [
    "z = \"\"\n",
    "while True:\n",
    "    x = input()\n",
    "    if x == \"d\":\n",
    "        break\n",
    "    z = z + x\n",
    "    \n",
    "print(z)"
   ]
  },
  {
   "cell_type": "markdown",
   "id": "9acc5f47",
   "metadata": {},
   "source": [
    "When you input:\n",
    "  a\n",
    "  g \n",
    "  d \n",
    "  f"
   ]
  },
  {
   "cell_type": "code",
   "execution_count": 1,
   "id": "99ac25b9",
   "metadata": {},
   "outputs": [],
   "source": [
    "import math \n",
    "from math import pi\n",
    "import math as m\n",
    "\n",
    "\n",
    "from IPython.display import display, HTML, Audio\n",
    "import IPython.display"
   ]
  },
  {
   "cell_type": "code",
   "execution_count": 9,
   "id": "ed6ec044",
   "metadata": {},
   "outputs": [],
   "source": [
    "import math\n",
    "\n",
    "def math(a,b):\n",
    "    return a+b\n",
    "\n",
    "\n",
    "math = 10\n"
   ]
  },
  {
   "cell_type": "code",
   "execution_count": 6,
   "id": "06fbae10",
   "metadata": {},
   "outputs": [
    {
     "ename": "TypeError",
     "evalue": "'module' object is not callable",
     "output_type": "error",
     "traceback": [
      "\u001b[0;31m---------------------------------------------------------------------------\u001b[0m",
      "\u001b[0;31mTypeError\u001b[0m                                 Traceback (most recent call last)",
      "Input \u001b[0;32mIn [6]\u001b[0m, in \u001b[0;36m<module>\u001b[0;34m\u001b[0m\n\u001b[0;32m----> 1\u001b[0m \u001b[43mmath\u001b[49m\u001b[43m(\u001b[49m\u001b[38;5;241;43m1\u001b[39;49m\u001b[43m,\u001b[49m\u001b[38;5;241;43m1\u001b[39;49m\u001b[43m)\u001b[49m\n",
      "\u001b[0;31mTypeError\u001b[0m: 'module' object is not callable"
     ]
    }
   ],
   "source": [
    "f."
   ]
  },
  {
   "cell_type": "code",
   "execution_count": 5,
   "id": "2534f9de",
   "metadata": {},
   "outputs": [],
   "source": [
    "import math"
   ]
  },
  {
   "cell_type": "code",
   "execution_count": null,
   "id": "8687f95c",
   "metadata": {},
   "outputs": [],
   "source": []
  }
 ],
 "metadata": {
  "kernelspec": {
   "display_name": "Python 3 (ipykernel)",
   "language": "python",
   "name": "python3"
  },
  "language_info": {
   "codemirror_mode": {
    "name": "ipython",
    "version": 3
   },
   "file_extension": ".py",
   "mimetype": "text/x-python",
   "name": "python",
   "nbconvert_exporter": "python",
   "pygments_lexer": "ipython3",
   "version": "3.9.7"
  },
  "varInspector": {
   "cols": {
    "lenName": 16,
    "lenType": 16,
    "lenVar": 40
   },
   "kernels_config": {
    "python": {
     "delete_cmd_postfix": "",
     "delete_cmd_prefix": "del ",
     "library": "var_list.py",
     "varRefreshCmd": "print(var_dic_list())"
    },
    "r": {
     "delete_cmd_postfix": ") ",
     "delete_cmd_prefix": "rm(",
     "library": "var_list.r",
     "varRefreshCmd": "cat(var_dic_list()) "
    }
   },
   "types_to_exclude": [
    "module",
    "function",
    "builtin_function_or_method",
    "instance",
    "_Feature"
   ],
   "window_display": false
  }
 },
 "nbformat": 4,
 "nbformat_minor": 5
}
